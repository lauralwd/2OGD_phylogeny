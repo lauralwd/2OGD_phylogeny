{
 "cells": [
  {
   "cell_type": "markdown",
   "metadata": {},
   "source": [
    "Let's make nice iToL annotation files!"
   ]
  },
  {
   "cell_type": "code",
   "execution_count": 91,
   "metadata": {},
   "outputs": [],
   "source": [
    "input_fasta=data/orthogroup_AtLDOX_AT4g22880.fasta"
   ]
  },
  {
   "cell_type": "markdown",
   "metadata": {},
   "source": [
    "starting with guide1-v1, I'm adding branch colours based on the clade of the sequence, being either:"
   ]
  },
  {
   "cell_type": "code",
   "execution_count": 92,
   "metadata": {},
   "outputs": [
    {
     "name": "stdout",
     "output_type": "stream",
     "text": [
      "algae angiosperms bryophytes gymnosperms lycophytes monilphytes\n"
     ]
    }
   ],
   "source": [
    "clades=( $(cut -f 3 ./data/1kp-IDs_to_clade_to_colour.tab | sort | uniq) )\n",
    "echo ${clades[@]}"
   ]
  },
  {
   "cell_type": "markdown",
   "metadata": {},
   "source": [
    "We'll add these annotations of branches (and labels) to this file"
   ]
  },
  {
   "cell_type": "code",
   "execution_count": 93,
   "metadata": {},
   "outputs": [],
   "source": [
    "branch=analyses/orthogroup_AtLDOX_AT4g22880_selection-v1_guide-v1_iTol-branch-labels.txt"
   ]
  },
  {
   "cell_type": "markdown",
   "metadata": {},
   "source": [
    "First, we make the obligatory header:"
   ]
  },
  {
   "cell_type": "code",
   "execution_count": 94,
   "metadata": {},
   "outputs": [],
   "source": [
    "echo -e \"TREE_COLORS\\nSEPARATOR TAB\\nDATA\\n\" >  $branch"
   ]
  },
  {
   "cell_type": "code",
   "execution_count": 95,
   "metadata": {},
   "outputs": [
    {
     "name": "stdout",
     "output_type": "stream",
     "text": [
      "TREE_COLORS\n",
      "SEPARATOR TAB\n",
      "DATA\n",
      "\n"
     ]
    }
   ],
   "source": [
    "cat $branch"
   ]
  },
  {
   "cell_type": "code",
   "execution_count": 96,
   "metadata": {},
   "outputs": [],
   "source": [
    "for c in ${clades[@]}\n",
    "do  #get codes\n",
    "    codes=( $(grep $c ./data/1kp-IDs_to_clade_to_colour.tab | cut -f 1) )\n",
    "    col=$(grep $c ./data/1kp-IDs_to_clade_to_colour.tab | cut -f 4 | cut -c 1-7 | head -n 1 )\n",
    "        postfix=$(echo -e \"\\tbranch\\t$col\\tnormal\\t1\")\n",
    "    grep '^>' $input_fasta \\\n",
    "    | grep -f <(grep $c ./data/1kp-IDs_to_clade_to_colour.tab | cut -f 1) \\\n",
    "    | tr -d '>' \\\n",
    "    | sed -e \"s/$/\\tbranch\\t$col\\tnormal\\t1/\" >> $branch\n",
    "done "
   ]
  },
  {
   "cell_type": "code",
   "execution_count": 97,
   "metadata": {},
   "outputs": [
    {
     "name": "stdout",
     "output_type": "stream",
     "text": [
      "TREE_COLORS\n",
      "SEPARATOR TAB\n",
      "DATA\n",
      "\n",
      "UKUC-2103688-Dunaliella_salina-UTEX_LB_200\tbranch\t#7635A5\tnormal\t1\n",
      "Chlva_v1_0-gw1_28_19_1-Chlorella_variabilis\tbranch\t#7635A5\tnormal\t1\n",
      "GXBM-2015439-Coccomyxa_pringsheimii\tbranch\t#7635A5\tnormal\t1\n",
      "Chlre_v5_5-Cre10_g466700_t1_1-Chlamydomonas_reinhardtii\tbranch\t#7635A5\tnormal\t1\n",
      "GXBM-2003754-Coccomyxa_pringsheimii\tbranch\t#7635A5\tnormal\t1\n",
      "PQED-2008038-Gloeochaete_wittrockiana\tbranch\t#7635A5\tnormal\t1\n"
     ]
    }
   ],
   "source": [
    "head $branch"
   ]
  }
 ],
 "metadata": {
  "kernelspec": {
   "display_name": "Bash",
   "language": "bash",
   "name": "bash"
  },
  "language_info": {
   "codemirror_mode": "shell",
   "file_extension": ".sh",
   "mimetype": "text/x-sh",
   "name": "bash"
  }
 },
 "nbformat": 4,
 "nbformat_minor": 4
}
