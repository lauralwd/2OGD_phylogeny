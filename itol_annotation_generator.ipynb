{
 "cells": [
  {
   "cell_type": "markdown",
   "metadata": {},
   "source": [
    "Let's make nice iToL annotation files!"
   ]
  },
  {
   "cell_type": "markdown",
   "metadata": {},
   "source": [
    "starting with guide1-v1, now adapting for v1 guide2"
   ]
  },
  {
   "cell_type": "code",
   "execution_count": 1,
   "metadata": {},
   "outputs": [],
   "source": [
    "input_fasta=data/orthogroup_AtLDOX_AT4g22880.fasta"
   ]
  },
  {
   "cell_type": "markdown",
   "metadata": {},
   "source": [
    "We'll add these annotations of branches (and labels) to this file"
   ]
  },
  {
   "cell_type": "code",
   "execution_count": 2,
   "metadata": {},
   "outputs": [],
   "source": [
    "branch=analyses/orthogroup_AtLDOX_AT4g22880_selection-v1_guide-v3_iTol-branch-labels.txt"
   ]
  },
  {
   "cell_type": "markdown",
   "metadata": {},
   "source": [
    "## branch colours\n",
    "I'm adding branch colours based on the clade of the sequence, being either:"
   ]
  },
  {
   "cell_type": "code",
   "execution_count": 3,
   "metadata": {},
   "outputs": [
    {
     "name": "stdout",
     "output_type": "stream",
     "text": [
      "algae angiosperms bryophytes gymnosperms lycophytes monilphytes\n"
     ]
    }
   ],
   "source": [
    "clades=( $(cut -f 3 ./data/1kp-IDs_to_clade_to_colour.tab | sort | uniq) )\n",
    "echo ${clades[@]}"
   ]
  },
  {
   "cell_type": "markdown",
   "metadata": {},
   "source": [
    "First, we make the obligatory header:"
   ]
  },
  {
   "cell_type": "code",
   "execution_count": 4,
   "metadata": {},
   "outputs": [],
   "source": [
    "echo -e \"TREE_COLORS\\nSEPARATOR TAB\\nDATA\" >  $branch"
   ]
  },
  {
   "cell_type": "code",
   "execution_count": 5,
   "metadata": {},
   "outputs": [
    {
     "name": "stdout",
     "output_type": "stream",
     "text": [
      "TREE_COLORS\n",
      "SEPARATOR TAB\n",
      "DATA\n"
     ]
    }
   ],
   "source": [
    "cat $branch"
   ]
  },
  {
   "cell_type": "code",
   "execution_count": 6,
   "metadata": {},
   "outputs": [],
   "source": [
    "for c in ${clades[@]}\n",
    "do  #get codes\n",
    "    codes=( $(grep $c ./data/1kp-IDs_to_clade_to_colour.tab | cut -f 1) )\n",
    "    col=$(grep $c ./data/1kp-IDs_to_clade_to_colour.tab | cut -f 4 | cut -c 1-7 | head -n 1 )\n",
    "        postfix=$(echo -e \"\\tbranch\\t$col\\tnormal\\t1\")\n",
    "    grep '^>' $input_fasta \\\n",
    "    | grep -f <(grep $c ./data/1kp-IDs_to_clade_to_colour.tab | cut -f 1) \\\n",
    "    | tr -d '>' \\\n",
    "    | sed -e \"s/$/\\tbranch\\t$col\\tnormal\\t1/\" >> $branch\n",
    "done "
   ]
  },
  {
   "cell_type": "code",
   "execution_count": 7,
   "metadata": {
    "scrolled": true
   },
   "outputs": [
    {
     "name": "stdout",
     "output_type": "stream",
     "text": [
      "TREE_COLORS\n",
      "SEPARATOR TAB\n",
      "DATA\n",
      "UKUC-2103688-Dunaliella_salina-UTEX_LB_200\tbranch\t#7635A5\tnormal\t1\n",
      "Chlva_v1_0-gw1_28_19_1-Chlorella_variabilis\tbranch\t#7635A5\tnormal\t1\n",
      "GXBM-2015439-Coccomyxa_pringsheimii\tbranch\t#7635A5\tnormal\t1\n",
      "Chlre_v5_5-Cre10_g466700_t1_1-Chlamydomonas_reinhardtii\tbranch\t#7635A5\tnormal\t1\n",
      "GXBM-2003754-Coccomyxa_pringsheimii\tbranch\t#7635A5\tnormal\t1\n",
      "PQED-2008038-Gloeochaete_wittrockiana\tbranch\t#7635A5\tnormal\t1\n",
      "PQED-2008515-Gloeochaete_wittrockiana\tbranch\t#7635A5\tnormal\t1\n"
     ]
    }
   ],
   "source": [
    "head $branch"
   ]
  },
  {
   "cell_type": "markdown",
   "metadata": {},
   "source": [
    "## highlight guide sequences"
   ]
  },
  {
   "cell_type": "code",
   "execution_count": 8,
   "metadata": {},
   "outputs": [],
   "source": [
    "guide=data/guide-sequences-v3.fasta"
   ]
  },
  {
   "cell_type": "code",
   "execution_count": 9,
   "metadata": {},
   "outputs": [],
   "source": [
    "grep '>' $guide | tr -d '>' | tr -d '\\r'| sed 's/$/\\tlabel\\t#000010\\tbold\\t8/g' >> $branch"
   ]
  },
  {
   "cell_type": "markdown",
   "metadata": {},
   "source": [
    "And repeat the process for any guide sequences you may have:"
   ]
  },
  {
   "cell_type": "code",
   "execution_count": 11,
   "metadata": {},
   "outputs": [],
   "source": [
    "guide=data/ANS-likes_Azolla-filiculoides_v3.fasta"
   ]
  },
  {
   "cell_type": "code",
   "execution_count": 12,
   "metadata": {},
   "outputs": [],
   "source": [
    "grep '>' $guide | tr -d '>' | tr -d '\\r'| sed 's/$/\\tlabel\\t#00b456\\tbold\\t8/g' >> $branch\n",
    "grep '>' $guide | tr -d '>' | tr -d '\\r'| sed 's/$/\\tbranch\\t#00b456\\tnormal\\t1/g' >> $branch"
   ]
  },
  {
   "cell_type": "markdown",
   "metadata": {},
   "source": [
    "## Select certain sequences from input fasta"
   ]
  },
  {
   "cell_type": "code",
   "execution_count": 13,
   "metadata": {},
   "outputs": [],
   "source": [
    "grep '>CVEG' $input_fasta | tr -d '>' | tr -d '\\r'| sed 's/$/\\tlabel\\t#00b456\\tnormal\\t8/g' >> $branch"
   ]
  },
  {
   "cell_type": "code",
   "execution_count": 14,
   "metadata": {},
   "outputs": [
    {
     "name": "stdout",
     "output_type": "stream",
     "text": [
      "TREE_COLORS\n",
      "SEPARATOR TAB\n",
      "DATA\n",
      "UKUC-2103688-Dunaliella_salina-UTEX_LB_200\tbranch\t#7635A5\tnormal\t1\n",
      "Chlva_v1_0-gw1_28_19_1-Chlorella_variabilis\tbranch\t#7635A5\tnormal\t1\n",
      "GXBM-2015439-Coccomyxa_pringsheimii\tbranch\t#7635A5\tnormal\t1\n",
      "Chlre_v5_5-Cre10_g466700_t1_1-Chlamydomonas_reinhardtii\tbranch\t#7635A5\tnormal\t1\n",
      "GXBM-2003754-Coccomyxa_pringsheimii\tbranch\t#7635A5\tnormal\t1\n",
      "PQED-2008038-Gloeochaete_wittrockiana\tbranch\t#7635A5\tnormal\t1\n",
      "PQED-2008515-Gloeochaete_wittrockiana\tbranch\t#7635A5\tnormal\t1\n"
     ]
    }
   ],
   "source": [
    "head $branch"
   ]
  },
  {
   "cell_type": "code",
   "execution_count": 15,
   "metadata": {},
   "outputs": [
    {
     "name": "stdout",
     "output_type": "stream",
     "text": [
      "CVEG-2027913-Azolla_cf._caroliniana\tlabel\t#00b456\tnormal\t8\n",
      "CVEG-2120446-Azolla_cf._caroliniana\tlabel\t#00b456\tnormal\t8\n",
      "CVEG-2124246-Azolla_cf._caroliniana\tlabel\t#00b456\tnormal\t8\n",
      "CVEG-2017867-Azolla_cf._caroliniana\tlabel\t#00b456\tnormal\t8\n",
      "CVEG-2124962-Azolla_cf._caroliniana\tlabel\t#00b456\tnormal\t8\n",
      "CVEG-2124660-Azolla_cf._caroliniana\tlabel\t#00b456\tnormal\t8\n",
      "CVEG-2121247-Azolla_cf._caroliniana\tlabel\t#00b456\tnormal\t8\n",
      "CVEG-2020745-Azolla_cf._caroliniana\tlabel\t#00b456\tnormal\t8\n",
      "CVEG-2027728-Azolla_cf._caroliniana\tlabel\t#00b456\tnormal\t8\n",
      "CVEG-2029849-Azolla_cf._caroliniana\tlabel\t#00b456\tnormal\t8\n"
     ]
    }
   ],
   "source": [
    "tail $branch"
   ]
  }
 ],
 "metadata": {
  "kernelspec": {
   "display_name": "Bash",
   "language": "bash",
   "name": "bash"
  },
  "language_info": {
   "codemirror_mode": "shell",
   "file_extension": ".sh",
   "mimetype": "text/x-sh",
   "name": "bash"
  }
 },
 "nbformat": 4,
 "nbformat_minor": 4
}
