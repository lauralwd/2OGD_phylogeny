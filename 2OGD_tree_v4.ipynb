{
 "cells": [
  {
   "cell_type": "markdown",
   "metadata": {},
   "source": [
    "# The Plan"
   ]
  },
  {
   "attachments": {},
   "cell_type": "markdown",
   "metadata": {},
   "source": [
    "## this workflow\n",
    "Based on version 2 and 3 of this tree, I aim to make some improvements:\n",
    "1. Reduce amount of species in the tree\n",
    "2. Check species in the tree with literature on the 2ogd family\n",
    "3. Replace guide sequences with Erbil's new set\n",
    "4. Add more Azolla sequences to place in the tree\n",
    "5. Plot RNAseq on the tree.\n",
    "\n",
    "## data\n",
    "In workflow 2, two 2OGD orthogroups from the oneKP project were found to be nearly identical.\n",
    "The orthogroup based on AtLDOX was subsetted with the same list of species as the LAR tree also on [GitHub](www.github.com/lauralwd).\n",
    "In the previous runs of this tree, I did not substantially reduce the input by filtering on species:"
   ]
  },
  {
   "cell_type": "code",
   "execution_count": 2,
   "metadata": {},
   "outputs": [
    {
     "name": "stdout",
     "output_type": "stream",
     "text": [
      "\u001b[35m\u001b[Kdata/orthogroup_AtLDOX_AT4g22880_selection-v1_guide-v1.fasta\u001b[m\u001b[K\u001b[36m\u001b[K:\u001b[m\u001b[K4301\n",
      "\u001b[35m\u001b[Kdata/orthogroup_AtLDOX_AT4g22880_selection-v1_guide-v2.fasta\u001b[m\u001b[K\u001b[36m\u001b[K:\u001b[m\u001b[K4364\n",
      "\u001b[35m\u001b[Kdata/orthogroup_AtLDOX_AT4g22880_selection-v1_guide-v3.fasta\u001b[m\u001b[K\u001b[36m\u001b[K:\u001b[m\u001b[K4372\n",
      "\u001b[35m\u001b[Kdata/orthogroup_AtLDOX_AT4g22880_selection-v1_selection-v1_guide-v3.fasta\u001b[m\u001b[K\u001b[36m\u001b[K:\u001b[m\u001b[K119\n",
      "\u001b[?2004h"
     ]
    },
    {
     "ename": "",
     "evalue": "1",
     "output_type": "error",
     "traceback": []
    }
   ],
   "source": [
    "grep '>' -c data/orthogroup_AtLDOX_AT4g22880_selection-v*_guide-v*.fasta"
   ]
  },
  {
   "cell_type": "markdown",
   "metadata": {},
   "source": [
    "Instead I removed some very short sequences during trimming.\n",
    "This is not my preferred method, so I want to be more stringent here from the onset."
   ]
  },
  {
   "cell_type": "code",
   "execution_count": 3,
   "metadata": {},
   "outputs": [
    {
     "name": "stdout",
     "output_type": "stream",
     "text": [
      "\u001b[35m\u001b[Kdata/alignments_trimmed/orthogroup_AtLDOX_AT4g22880_selection-v1_guide-v2_aligned-mafft_trim-gt4-seq95-res92_seqrm-iqtree-content.fasta\u001b[m\u001b[K\u001b[36m\u001b[K:\u001b[m\u001b[K3927\n",
      "\u001b[35m\u001b[Kdata/alignments_trimmed/orthogroup_AtLDOX_AT4g22880_selection-v1_guide-v3_aligned-mafft_trim-gt4-iqtree-content.fasta\u001b[m\u001b[K\u001b[36m\u001b[K:\u001b[m\u001b[K4113\n",
      "\u001b[?2004h"
     ]
    },
    {
     "ename": "",
     "evalue": "1",
     "output_type": "error",
     "traceback": []
    }
   ],
   "source": [
    "grep '>' -c data/alignments_trimmed/orthogroup_AtLDOX_AT4g22880_*-iqtree-content.fasta"
   ]
  },
  {
   "cell_type": "markdown",
   "metadata": {},
   "source": [
    "Now let's look at the species IDs that are in this set (taken from workflow v2)"
   ]
  },
  {
   "cell_type": "code",
   "execution_count": 5,
   "metadata": {},
   "outputs": [
    {
     "name": "stdout",
     "output_type": "stream",
     "text": [
      "86 data/1kP_ids_v1.txt\n",
      ">AALA04h\u001b[?2004l\n",
      ">ABSS\n",
      ">AKXB\n",
      ">ALVQ\n",
      ">BMJR\n",
      ">BNCU\n",
      ">BSNI\n",
      ">CAPN\n",
      ">CBAE\n",
      ">CQPW\n",
      ">CVEG\n",
      ">EEMJ\n",
      ">ENQF\n",
      ">EWXK\n",
      ">GAON\n",
      ">GJPF\n",
      ">GNQG\n",
      ">GOWD\n",
      ">GTHK\n",
      ">GXBM\n",
      ">HPXA\n",
      ">HVBQ\n",
      ">JKHA\n",
      ">JVBR\n",
      ">JVSZ\n",
      ">KBXS\n",
      ">MEKP\n",
      ">MUNP\n",
      ">OSHQ\n",
      ">PBUU\n",
      ">PIVW\n",
      ">PNZO\n",
      ">POOW\n",
      ">PQED\n",
      ">PQTO\n",
      ">QVMR\n",
      ">RCBT\n",
      ">RSOF\n",
      ">SGTW\n",
      ">TCBC\n",
      ">TFYI\n",
      ">THEW\n",
      ">TOXE\n",
      ">UGNK\n",
      ">UHLI\n",
      ">UKUC\n",
      ">UPMJ\n",
      ">UUHD\n",
      ">VDAO\n",
      ">VIBO\n",
      ">VITX\n",
      ">WBOD\n",
      ">WLIC\n",
      ">WZFE\n",
      ">XZUY\n",
      ">YJJY\n",
      ">YWNF\n",
      ">ZFGK\n",
      ">ZFRE\n",
      ">ZXJO\n",
      ">ZZOL\n",
      ">Ambtr\n",
      ">Aquco\n",
      ">Arath\n",
      ">Betvu\n",
      ">Carpa\n",
      ">Chlre\n",
      ">Chlva\n",
      ">Elagu\n",
      ">Klefl\n",
      ">Manes\n",
      ">Micpu\n",
      ">Mimgu\n",
      ">Musac\n",
      ">Nelnu\n",
      ">Orysa\n",
      ">Phavu\n",
      ">Pinta\n",
      ">Poptr\n",
      ">Prupe\n",
      ">Selmo\n",
      ">Solly\n",
      ">Sorbi\n",
      ">Spipo\n",
      ">Theca\n",
      ">Vitvi\n",
      "\u001b[?2004h"
     ]
    },
    {
     "ename": "",
     "evalue": "1",
     "output_type": "error",
     "traceback": []
    }
   ],
   "source": [
    "wc -l data/1kP_ids_v1.txt\n",
    "cat   data/1kP_ids_v1.txt"
   ]
  },
  {
   "cell_type": "markdown",
   "metadata": {},
   "source": [
    "In Kasai et al [DOI](https://doi.org/10.1111/tpj.12479), six plant genomes are studied for 2ogd gens:\n",
    "1. *Arabidopsis thaliana* (present in dataset)\n",
    "2. *Oryza sativa* (present in dataset)\n",
    "3. *Picea abies* (**absent**, if I remember correctly, Pinus taeda behaved better in previous trees.)\n",
    "4. *Selageniella moellendorfii* (present in dataset)\n",
    "5. Physcomitrella patens (**absent**)\n",
    "6. Chlamydomonas reinhartii (present in dataset)\n",
    "\n",
    "Of these we miss only two. Picea is not present in my dataset but Physcomytrella is.\n",
    "I'll add physcometrella (code Phypha)\n",
    "Whether I'll go and hunt down all Picea sequences, I'll decide when I checked the RNAseq data for the presence of the different lineages."
   ]
  },
  {
   "cell_type": "code",
   "execution_count": 20,
   "metadata": {},
   "outputs": [
    {
     "name": "stdout",
     "output_type": "stream",
     "text": [
      ">Phypa_v3_0-Phpat_006G019800_1-Physcomitrella_patens_VvANS-like\n",
      ">Phypa_v3_0-Phpat_005G086800_1-Physcomitrella_patens_VvANS-like\n",
      ">Phypa_v3_0-Phpat_013G033700_1-Physcomitrella_patens_VvANS-like\n",
      ">Phypa_v3_0-Phpat_026G051300_1-Physcomitrella_patens_VvANS-like\n",
      ">Phypa_v3_0-Phpat_009G093300_1-Physcomitrella_patens_VvANS-like\n",
      ">Phypa_v3_0-Phpat_017G023600_1-Physcomitrella_patens_VvANS-like\n",
      ">Phypa_v3_0-Phpat_003G127600_1-Physcomitrella_patens_VvANS-like\n",
      ">Phypa_v3_0-Phpat_025G044200_1-Physcomitrella_patens_VvANS-like\n",
      ">Phypa_v3_0-Phpat_025G017400_1-Physcomitrella_patens_VvANS-like\n",
      ">Phypa_v3_0-Phpat_027G021000_1-Physcomitrella_patens_VvANS-like\n",
      "grep: write error: Broken pipe\n",
      ">AWQB-2009263-Picea_engelmanii_VvANS-like\n",
      ">AWQB-2001692-Picea_engelmanii_VvANS-like\n",
      ">AWQB-2002242-Picea_engelmanii_VvANS-like\n",
      ">AWQB-2010257-Picea_engelmanii_VvANS-like\n",
      ">AWQB-2002243-Picea_engelmanii_VvANS-like\n",
      ">AWQB-2047197-Picea_engelmanii_VvANS-like\n",
      ">AWQB-2052945-Picea_engelmanii_VvANS-like\n",
      ">AWQB-2009200-Picea_engelmanii_VvANS-like\n",
      ">AWQB-2003643-Picea_engelmanii_VvANS-like\n",
      ">AWQB-2007558-Picea_engelmanii_VvANS-like\n",
      "grep: write error: Broken pipe\n",
      "\u001b[?2004h"
     ]
    },
    {
     "ename": "",
     "evalue": "1",
     "output_type": "error",
     "traceback": []
    }
   ],
   "source": [
    "grep -i Physcomitrella data/orthogroup_ANS-LDOX.fasta | head\n",
    "grep -i Picea data/orthogroup_ANS-LDOX.fasta | head"
   ]
  },
  {
   "cell_type": "code",
   "execution_count": 19,
   "metadata": {
    "scrolled": true
   },
   "outputs": [
    {
     "name": "stdout",
     "output_type": "stream",
     "text": [
      "    100 >Phyp\n",
      "     33 >AWQB04l\n",
      "      1 NGVTG\n",
      "     47 >AWQB\n",
      "      1 NGVTG\n",
      "      6 >AWQB\n",
      "\u001b[?2004h"
     ]
    },
    {
     "ename": "",
     "evalue": "1",
     "output_type": "error",
     "traceback": []
    }
   ],
   "source": [
    "grep -i Physcomitrella data/orthogroup_ANS-LDOX.fasta | cut -c 1-5 | uniq -c\n",
    "grep -i Picea data/orthogroup_ANS-LDOX.fasta | cut -c 1-5 | uniq -c"
   ]
  },
  {
   "cell_type": "markdown",
   "metadata": {},
   "source": [
    "# 1. Composing your fasta"
   ]
  },
  {
   "cell_type": "code",
   "execution_count": 1,
   "metadata": {},
   "outputs": [
    {
     "name": "stdout",
     "output_type": "stream",
     "text": [
      "'AzfiANS-likes (12) + Kawai et al. 2014.fasta'\n",
      "'GSVIVT01019892001_12 VvANS Orthogroup.faa'\n",
      "'Orthogroup AtLDOX AT4G22880 (contains VvANS as per Chaudiere).fasta'\n"
     ]
    }
   ],
   "source": [
    "ls data"
   ]
  },
  {
   "cell_type": "code",
   "execution_count": 20,
   "metadata": {
    "scrolled": true
   },
   "outputs": [
    {
     "name": "stdout",
     "output_type": "stream",
     "text": [
      "77754\n"
     ]
    }
   ],
   "source": [
    "diff <(grep '>' data/Orthogroup_AtLDOX_AT4g22880.fasta | cut -d '-' -f 1-3 | sort | uniq) <(grep '>' data/Orthogroup_VvANS.fasta | cut -d '-' -f 1-3 | sort | uniq) | wc -l\n"
   ]
  },
  {
   "cell_type": "markdown",
   "metadata": {},
   "source": [
    "long story short, they are wildly different, let's be bold and combine them in some way that I can trace back later."
   ]
  },
  {
   "cell_type": "code",
   "execution_count": 21,
   "metadata": {
    "scrolled": true
   },
   "outputs": [
    {
     "name": "stdout",
     "output_type": "stream",
     "text": [
      "\u001b[35m\u001b[K./data/ANS-likes_Azolla-filiculoides.fasta\u001b[m\u001b[K\u001b[36m\u001b[K:\u001b[m\u001b[K13\n",
      "\u001b[35m\u001b[K./data/Guide-sequences-v1.fasta\u001b[m\u001b[K\u001b[36m\u001b[K:\u001b[m\u001b[K34\n",
      "\u001b[35m\u001b[K./data/Orthogroup_AtLDOX_AT4g22880.fasta\u001b[m\u001b[K\u001b[36m\u001b[K:\u001b[m\u001b[K46133\n",
      "\u001b[35m\u001b[K./data/Orthogroup_VvANS.fasta\u001b[m\u001b[K\u001b[36m\u001b[K:\u001b[m\u001b[K46133\n"
     ]
    }
   ],
   "source": [
    "grep '>' -c ./data/*.fa*"
   ]
  },
  {
   "cell_type": "code",
   "execution_count": 43,
   "metadata": {},
   "outputs": [],
   "source": [
    "sed -i 's/>.*/&_VvANS-like/' ./data/Orthogroup_VvANS.fasta\n",
    "sed -i 's/>.*/&_AtLDOX-like/' ./data/Orthogroup_AtLDOX_AT4g22880.fasta"
   ]
  },
  {
   "cell_type": "code",
   "execution_count": 14,
   "metadata": {},
   "outputs": [],
   "source": [
    "cat ./data/orthogroup_VvANS.fasta ./data/orthogroup_AtLDOX_AT4g22880.fasta > ./data/orthogroup_ANS-LDOX.fasta"
   ]
  },
  {
   "cell_type": "markdown",
   "metadata": {},
   "source": [
    "# 1. Composing your fasta"
   ]
  },
  {
   "cell_type": "markdown",
   "metadata": {},
   "source": [
    "Let's look at what we have"
   ]
  },
  {
   "cell_type": "code",
   "execution_count": 53,
   "metadata": {
    "scrolled": true
   },
   "outputs": [
    {
     "name": "stdout",
     "output_type": "stream",
     "text": [
      "\u001b[01;34m.\u001b[00m\n",
      "├── \u001b[01;34manalyses\u001b[00m\n",
      "├── conda_environment.yaml\n",
      "├── \u001b[01;34mdata\u001b[00m\n",
      "│   ├── 1kP_ids.txt\n",
      "│   ├── 1kP_LAR_selectionv1_guide_v5.fasta\n",
      "│   ├── ANS-likes_Azolla-filiculoides.fasta\n",
      "│   ├── Guide-sequences-v1.fasta\n",
      "│   ├── Guide-sequences-v1_linear.fasta\n",
      "│   ├── orthogroup_ANS-LDOX.fasta\n",
      "│   ├── orthogroup_ANS-LDOX_linear.fasta\n",
      "│   ├── orthogroup_ANS-LDOX_selection-v1.fasta\n",
      "│   ├── orthogroup_ANS-LDOX_selection-v1_guide-v1.fasta\n",
      "│   ├── Orthogroup_AtLDOX_AT4g22880.fasta\n",
      "│   └── Orthogroup_VvANS.fasta\n",
      "├── README.md\n",
      "└── tree_building_workflow.ipynb\n",
      "\n",
      "2 directories, 14 files\n"
     ]
    }
   ],
   "source": [
    "tree"
   ]
  },
  {
   "cell_type": "markdown",
   "metadata": {},
   "source": [
    "Store the sequences you want to make a tree of in the data directory and make the inseq variable the name of your input fasta without the extention:"
   ]
  },
  {
   "cell_type": "code",
   "execution_count": 15,
   "metadata": {},
   "outputs": [],
   "source": [
    "inseq=orthogroup_ANS-LDOX"
   ]
  },
  {
   "cell_type": "markdown",
   "metadata": {},
   "source": [
    "Let's look at the first ten lines of your fasta to double-check."
   ]
  },
  {
   "cell_type": "code",
   "execution_count": 16,
   "metadata": {
    "scrolled": true
   },
   "outputs": [
    {
     "name": "stdout",
     "output_type": "stream",
     "text": [
      ">Orysa_v7_0-LOC_Os06g42130_1-Oryza_sativa\n",
      "MTDVELRVEALSLSDVSAIPPEYVRLEEERTDLGDALEVARAASDDADAARIPVVDISAFDGDGRRACVEAVRAAAEEWGVMHIAGHGLPGDVLDRLRAAGEAFFALPIAEKEAYANDPAAGRLQGYGSKLAANASGKREWEDYLFHLVHPDHLADHSLWPANPPEYVPVSRDFGGRVRTLASKLLAILSLGLGLPEETLERRLRRHDQHGVDDDLLLQLKINYYPRCPRPDLAVGVEAHTDVSALSFILHNGVPGLQAHHAGTWVTARSEQGTIVVHVGDALEILTNGRYTSVLHRSLVSRDAVRVSWVVFCEPPPESVLLQPLPELLANGAGKPLFAPRTFKQHVQRKLFKKLKDQQDNNAAAASNGIIPK\n",
      ">NHUA-2070407-Castanea_crenata\n",
      "MSPAMVMAAKTKQNDNLESQYQKGVKHLCENGINKVPKKYILPVSDRPNMKDRELINVKKQNLKLPIIDFAELQGSNRPQVLKSLANACEQYGFFQLVNHGIPSDVISSMIDVSTRFFELPFEERAKYMSSDMQSPVRCG\n",
      ">XKPS-2011846-Ximenia_americana\n",
      "REVTEEYNKEILRVTYKLLEVMSEGLGLEEKVLESVLGGKDIEVEMKINMYPPCPQPELALGVEPHTDMSALTILVSNDVPGLQVFKDNNWVSVHYLPDALFVHVGDQIEVLSNGKYKSVLHRSLVNKERMRMSWAVFCTPPHEAMIGPLPKLVDDENSAKYSTKTYAEYRHRKFNKLPQ\n",
      ">JETM-2084677-Bauhinia_tomentosa\n",
      "MAEDNGLGWGKSLPAPNVQEMVRNDPQTVPDRYIRDYKDRPVIYDQSPDSSEIQVIDFSLLFKRDEDEIKKLDFACKEWGFFQLVNHGVAEELIYKMKESEKGFFDLPYEEKKKYA\n",
      ">EGLZ-2001303-Prumnopitys_andina\n",
      "SRVKVGTSFKAEDVQELVKSHPQSVPERYIRTPEERIGSKSLTAPPGSQVPVIDMAKIASGVHTGTRQHEMIRLSLACQDWGFFQVVNHGVERGIVQRMKKVAVEFFKRPLEEKEKYAMAGTIQGYGHGFIFSEDQKLDWCDMMALATTPKSLRKENLWPIKPAVFRETVEAYSSQVLELCRNLLCIIAENLGLKQEFFNDMFGENVQAVRMNFYPPCNRPDLVLGLSPHSDGSALTVLLQDDDAVGLQIRK\n"
     ]
    }
   ],
   "source": [
    "head data/$inseq.fasta"
   ]
  },
  {
   "cell_type": "markdown",
   "metadata": {},
   "source": [
    "Check the nr. of sequences in your fasta file:"
   ]
  },
  {
   "cell_type": "code",
   "execution_count": 17,
   "metadata": {},
   "outputs": [
    {
     "name": "stdout",
     "output_type": "stream",
     "text": [
      "92266\n"
     ]
    }
   ],
   "source": [
    "grep '>' data/$inseq.fasta -c"
   ]
  },
  {
   "cell_type": "code",
   "execution_count": 18,
   "metadata": {},
   "outputs": [
    {
     "name": "stdout",
     "output_type": "stream",
     "text": [
      "      2       1\n",
      "  46132       2\n"
     ]
    }
   ],
   "source": [
    "grep '>' data/$inseq.fasta | sort | uniq --count | cut -c 1-7 | sort | uniq --count"
   ]
  },
  {
   "cell_type": "code",
   "execution_count": 19,
   "metadata": {},
   "outputs": [
    {
     "name": "stdout",
     "output_type": "stream",
     "text": [
      "      1       1\n",
      "      1      10\n",
      "  44333       2\n",
      "    798       4\n",
      "     58       6\n",
      "      6       8\n"
     ]
    }
   ],
   "source": [
    "grep -v '>' data/$inseq.fasta | sort | uniq --count | cut -c 1-7 | sort | uniq --count"
   ]
  },
  {
   "cell_type": "markdown",
   "metadata": {},
   "source": [
    "As initially expected there is a huge amount of double sequences. Only one sequence is present once! Hence, I'll continue with the orthogroup based on _Arabidopsis thaliana_ LDOX.\n",
    "\n"
   ]
  },
  {
   "cell_type": "code",
   "execution_count": 20,
   "metadata": {},
   "outputs": [],
   "source": [
    "inseq=orthogroup_AtLDOX_AT4g22880"
   ]
  },
  {
   "cell_type": "markdown",
   "metadata": {},
   "source": [
    "## 1.2 systematic subsetting.\n",
    "\n",
    "If your data set has some systamic naming of sequences, or of species/genus names, it would be good to subset based on those. How to do this, completely depends on the formatting of your specific dataset. Here I examplify this for the 1kP dataset.\n",
    "\n",
    "The 1kP dataset works with 4 letter codes for RNA assembled transcripts, and with 5 letter codes for transcriptes derived from assembled genomes. The former can be browsed [here](http://www.onekp.com/samples/list.php).\n",
    "\n",
    "The nice thing about the 1kP dataset, is that it has plants categorised in clades, families and species. You can use this data to evenly select species from both early and late branching clades and get a nice overview of plant evolution.\n",
    "\n",
    "I propose to make a file with the 'search criteria' that your sequences need to match. That could be species names, certain codes, etcetera. Next, use grep to get all sequence names that match those search criteria, and then extract the sequences.\n",
    "\n",
    "Finally, I'm just making sure that all sequences names are unique."
   ]
  },
  {
   "cell_type": "markdown",
   "metadata": {},
   "source": [
    "Now let's get a list of 1kP identifiers used in the LAR tree also made for Erbil:"
   ]
  },
  {
   "cell_type": "code",
   "execution_count": 14,
   "metadata": {},
   "outputs": [
    {
     "name": "stdout",
     "output_type": "stream",
     "text": [
      "--2021-02-02 17:22:38--  https://raw.githubusercontent.com/lauralwd/LAR_phylogeny_gungor-et-al-2020/main/data/1kP_LAR_selectionv1_guide_v5.fasta\n",
      "Resolving raw.githubusercontent.com (raw.githubusercontent.com)... 151.101.36.133\n",
      "Connecting to raw.githubusercontent.com (raw.githubusercontent.com)|151.101.36.133|:443... connected.\n",
      "HTTP request sent, awaiting response... 200 OK\n",
      "Length: 241877 (236K) [text/plain]\n",
      "Saving to: ‘1kP_LAR_selectionv1_guide_v5.fasta’\n",
      "\n",
      "1kP_LAR_selectionv1 100%[===================>] 236,21K  --.-KB/s    in 0,009s  \n",
      "\n",
      "2021-02-02 17:22:39 (26,0 MB/s) - ‘1kP_LAR_selectionv1_guide_v5.fasta’ saved [241877/241877]\n",
      "\n"
     ]
    }
   ],
   "source": [
    "cd data\n",
    "wget https://raw.githubusercontent.com/lauralwd/LAR_phylogeny_gungor-et-al-2020/main/data/1kP_LAR_selectionv1_guide_v5.fasta\n",
    "cd .."
   ]
  },
  {
   "cell_type": "markdown",
   "metadata": {},
   "source": [
    "get the RNA ids:"
   ]
  },
  {
   "cell_type": "code",
   "execution_count": 42,
   "metadata": {},
   "outputs": [],
   "source": [
    "grep '>' data/1kP_LAR_selectionv1_guide_v5.fasta | grep -e '>[A-Z][A-Z][A-Z][A-Z]-' | cut -c 1-5 | sort | uniq > data/1kP_ids_v1.txt"
   ]
  },
  {
   "cell_type": "markdown",
   "metadata": {},
   "source": [
    "get the DNA ids:"
   ]
  },
  {
   "cell_type": "code",
   "execution_count": 43,
   "metadata": {},
   "outputs": [],
   "source": [
    "grep '>' data/1kP_LAR_selectionv1_guide_v5.fasta | grep -e '>[A-Z][a-z][a-z][a-z][a-z]_' | cut -c 1-6 | sort | uniq >> data/1kP_ids_v1.txt"
   ]
  },
  {
   "cell_type": "markdown",
   "metadata": {},
   "source": [
    "Next, I´ll use these IDs to extract a subset from the orthogroup, first I'll have to linearise the fasta, then I can grep the sequences."
   ]
  },
  {
   "cell_type": "code",
   "execution_count": 63,
   "metadata": {},
   "outputs": [],
   "source": [
    "cat data/$inseq.fasta \\\n",
    "  | awk '/^>/ {printf(\"%s%s\\n\",(N>0?\"\\n\":\"\"),$0);N++;next;} {printf(\"%s\",$0);} END {printf(\"\\n\");}' \\\n",
    "  > data/\"$inseq\"_linear.fasta"
   ]
  },
  {
   "cell_type": "markdown",
   "metadata": {},
   "source": [
    "Thinking about it, I can remove those apendeces to sequence names again."
   ]
  },
  {
   "cell_type": "code",
   "execution_count": 66,
   "metadata": {},
   "outputs": [],
   "source": [
    "sed -i 's/_AtLDOX-like$//'  data/orthogroup_AtLDOX_AT4g22880*\n",
    "sed -i 's/_VvANS-like$//'  data/orthogroup_VvANS.fasta"
   ]
  },
  {
   "cell_type": "code",
   "execution_count": 7,
   "metadata": {},
   "outputs": [
    {
     "name": "stdout",
     "output_type": "stream",
     "text": [
      ">RHAU-2061976-RHAU-Chamaseyce_mesebyranthemum-2_samples_combined\n",
      "NQWPLSPPNFREDCEEYAEEMERLAYLLLELIAKSLGLKANRFPDYFKDQTSFIRLNHYPPCPASELALGNGRHKDGGALTILAQDEVGGLQVKRKSDGEWVSVNPILNSYIINVGEIIQV\n",
      ">NVGZ-2012099-NVGZ-Cephalotaxus_harringtonia-2_samples_combined\n",
      "VVATLSQACKEWGFFYVVNHGIPQELLQNMESLVSRLFAMPAELKQKAATSNRKESYDITERIENFCFANLPHSDSVQAMCDRIWPEEGNPEFCETIRTYISYVADLQRKISKMFTAGLGLDVDTFYHSDFENYVSHLRINNYYSDGTMSMEEEFPSAHTDIGCFTIVNTGKDEGLQVRSNEGNWVNVKPLPHSFVVNVGDCLKAWTNRRYQSREHRVVYKGWENRISLPYFVNFPADKQIWAPAELVDDNHPRRYRPFTFSQF\n"
     ]
    }
   ],
   "source": [
    "head -n 4 data/\"$inseq\"_linear.fasta"
   ]
  },
  {
   "cell_type": "code",
   "execution_count": 69,
   "metadata": {},
   "outputs": [],
   "source": [
    "grep -f ./data/1kP_ids_v1.txt data/\"$inseq\"_linear.fasta -A 1 --no-group-separator > data/\"$inseq\"_selection-v1.fasta"
   ]
  },
  {
   "cell_type": "code",
   "execution_count": 70,
   "metadata": {},
   "outputs": [
    {
     "name": "stdout",
     "output_type": "stream",
     "text": [
      "4253\n",
      "8506 data/orthogroup_AtLDOX_AT4g22880_selection-v1.fasta\n"
     ]
    }
   ],
   "source": [
    "grep '>' -c data/\"$inseq\"_selection-v1.fasta\n",
    "wc -l data/\"$inseq\"_selection-v1.fasta"
   ]
  },
  {
   "cell_type": "markdown",
   "metadata": {},
   "source": [
    "~~Great, It's still quite a bunch but this we can work with.~~\n",
    "oops, no I mean this is quite a lot, actually 8 times higher than I had aimed for. I might just let it go for now, but I'll have to do a second pass removing a bunch of sequences."
   ]
  },
  {
   "cell_type": "markdown",
   "metadata": {},
   "source": [
    "## 1.3 add guide sequences\n",
    "If you have versions of your sequence of special interest, or functionally verified ones, be sure to add them! \n",
    "\n",
    "I imagine you have your guide sequences named something like `data/guide_sequences_v1.fasta` Combine the two files like so and update the `$inseq` variable with the new name if you are done in this section."
   ]
  },
  {
   "cell_type": "markdown",
   "metadata": {},
   "source": [
    "first, also linearise the guide sequences"
   ]
  },
  {
   "cell_type": "code",
   "execution_count": 31,
   "metadata": {},
   "outputs": [],
   "source": [
    "cat data/guide-sequences-v1.fasta \\\n",
    "  | awk '/^>/ {printf(\"%s%s\\n\",(N>0?\"\\n\":\"\"),$0);N++;next;} {printf(\"%s\",$0);} END {printf(\"\\n\");}' \\\n",
    "  > data/guide-sequences-v1_linear.fasta"
   ]
  },
  {
   "cell_type": "markdown",
   "metadata": {},
   "source": [
    "now combine"
   ]
  },
  {
   "cell_type": "code",
   "execution_count": 32,
   "metadata": {},
   "outputs": [],
   "source": [
    "# for the selection workflow\n",
    "cat data/guide-sequences-v1_linear.fasta data/ANS-likes_Azolla-filiculoides.fasta data/\"$inseq\"_selection-v1.fasta > data/\"$inseq\"_selection-v1_guide-v1.fasta"
   ]
  },
  {
   "cell_type": "code",
   "execution_count": 9,
   "metadata": {},
   "outputs": [
    {
     "name": "stdout",
     "output_type": "stream",
     "text": [
      ">AthLDOX\n",
      "MVAVERVESLAKSGIISIPKEYIRPKEELESINDVFLEEKKEDGPQVPTIDLKNIESDDEKIRENCIEELKKASLDWGVMHLINHGIPADLMERVKKAGEEFFSLSVEEKEKYANDQATGKIQGYGSKLANNASGQLEWEDYFFHLAYPEEKRDLSIWPKTPSDYIEATSEYAKCLRLLATKVFKALSVGLGLEPDRLEKEVGGLEELLLQMKINYYPKCPQPELALGVEAHTDVSALTFILHNMVPGLQLFYEGKWVTAKCVPDSIVMHIGDTLEILSNGKYKSILHRGLVNKEKVRISWAVFCEPPKDKIVLKPLPEMVSVESPAKFPPRTFAQHIEHKLFGKEQEELVSEKND\n",
      ">FranANS\n",
      "QEALVSTKESAALKSTTESALKSTKEAALISTNEKIILKPLPETVSEEEPAIFPPRTFFEHIQHKLFRQS\n",
      ">GnbiANS\n",
      "SKKNGKYKSGLHRGLVNKEKVRISWAVFCDPPKDAMIGPMKELINEKNPPLFAAKTFKDHTDHKLFKKGQ\n",
      ">IpniANS\n",
      "QSDQEAADTPKPDNDDHHQSNKVRVSWAVFCEPPKDKILLQPLPETVSEAEPPRFPPRTFAQHIKHKLFR\n",
      ">OrsaANS\n",
      "RKLFKKLKDQQDNNAAAASNGMITKAVRLSWVVFCEPPPESVLLQPVQELLADGAGKPLFAPRTFKQHVQ\n"
     ]
    }
   ],
   "source": [
    "head data/\"$inseq\"_selection-v1_guide-v1.fasta"
   ]
  },
  {
   "cell_type": "code",
   "execution_count": 33,
   "metadata": {},
   "outputs": [
    {
     "name": "stdout",
     "output_type": "stream",
     "text": [
      "4301\n"
     ]
    }
   ],
   "source": [
    "grep '>' -c data/\"$inseq\"_selection-v1_guide-v1.fasta"
   ]
  },
  {
   "cell_type": "markdown",
   "metadata": {},
   "source": [
    "And reset variable, and check."
   ]
  },
  {
   "cell_type": "code",
   "execution_count": 34,
   "metadata": {},
   "outputs": [
    {
     "name": "stdout",
     "output_type": "stream",
     "text": [
      "orthogroup_AtLDOX_AT4g22880_selection-v1_guide-v1\n"
     ]
    }
   ],
   "source": [
    "# for the selection workflow\n",
    "inseq=\"$inseq\"_selection-v1_guide-v1\n",
    "echo $inseq"
   ]
  },
  {
   "cell_type": "code",
   "execution_count": 35,
   "metadata": {},
   "outputs": [
    {
     "name": "stdout",
     "output_type": "stream",
     "text": [
      ">AthLDOX\n",
      "MVAVERVESLAKSGIISIPKEYIRPKEELESINDVFLEEKKEDGPQVPTIDLKNIESDDEKIRENCIEELKKASLDWGVMHLINHGIPADLMERVKKAGEEFFSLSVEEKEKYANDQATGKIQGYGSKLANNASGQLEWEDYFFHLAYPEEKRDLSIWPKTPSDYIEATSEYAKCLRLLATKVFKALSVGLGLEPDRLEKEVGGLEELLLQMKINYYPKCPQPELALGVEAHTDVSALTFILHNMVPGLQLFYEGKWVTAKCVPDSIVMHIGDTLEILSNGKYKSILHRGLVNKEKVRISWAVFCEPPKDKIVLKPLPEMVSVESPAKFPPRTFAQHIEHKLFGKEQEELVSEKND\n",
      ">FranANS\n",
      "MVTAASIGSRVESLASSGISTIPKEYVRPEEELVNIGDIFEDEKSTEGPQVPTIDLKEIDSDDIKVREKCREDLKEAAVEWGVMHLINHGISDELMERVKKAGKAFFDLPIEQKEKYANDQASGKIQGYGSKLANNASGQLEWEDYFFHCVYPEDKRDLSIWPQTPSDYIVATSEYAKELRGLATKILSILSLGLGLEEGRLEKEVGGLEELLLQMKINYYPKCPQPELALGVEAHTDISALTFILHNMVPGLQLFYGGKWVTAKCVPNSIVMHIGDTLEILSNGKYKSILHRGLVNKEKVRISWAVFCEPPKEKIILKPLPETVSEEEPAIFPPRTFFEHIQHKLFRQSQEALVSTKESAALKSTTESALKSTKEAALISTN\n",
      ">GnbiANS\n",
      "MVSTRVESLAQSGLLTIPSEYIRPVEERPTDCIIVNAEEEKNGKYDERTGQIPVVDMAGWEEGGEARRKEIMRQVAEASEEWGVMQVLNHGISDSLIARLQAAGKAFFDLPIEEKEVYANDSASGKIAGYGSKLANNASGQLEWEDYYFHLLWPTHERDMTTWPKYPSDYIEATDEYGREIRKLVSRILGTLSMELGLEEPRMETILGGQDLEMQLKINYYPRCPQPELALGVEAHTDISALTFLLHNMVPGFQLFKDGKWVTAKCIPGALIVHIGDQVEILSNGKYKSGLHRGLVNKEKVRISWAVFCDPPKDAMIGPMKELINEKNPPLFAAKTFKDHTDHKLFKKGQSKKN\n",
      ">IpniANS\n",
      "MVSTITATVPSRVERLASSGIERIPKEYIRPEEERRSIGDIFEEEKIAGGPQVPTVDLKGINSEDLEVREKCREELRKAAVDWGVMHLVNHGISEELTGRVKAAGEGFFGQPIEEKEKYANDQAAGNVQGYGSKLANNASGQLEWEDYFFHCIFPEDKTDLSIWPKTPSDYIDATKEYAKQLRALATKVLAVLSLGLGLEEGRLEKEVGGMEELLLQMKINYYPKCPQPELALGVEAHTDVSALTFILHNMVPGLQLFYGGKWVTAKCVPNSIIMHVGDTVEILSNGKYKSILHRGVVNREKVRVSWAVFCEPPKDKILLQPLPETVSEAEPPRFPPRTFAQHIKHKLFRQSDQEAADTPKPDNDDHHQSN\n",
      ">OrsaANS\n",
      "MTDAELRVEALSLSGASAIPPEYVRPEEERADLGDALELARAASDDDATARIPVVDISAFDNDGDGRHACVEAVRAAAEEWGVMHIAGHGLPGDVLGRLRAAGEAFFALPIAEKEAYANDPAAGRLQGYGSKLAANASGKREWEDYLFHLVHPDHLADHSLWPANPPEYVPVSRDFGGRVRTLASKLLAILSLGLGLPEETLERRLRGHELAGVDDDLLLQLKINYYPRCPRPDLAVGVEAHTDVSALSFILHNGVPGLQVHHAGSWVTARPEPGTIVVHVGDALEILTNGRYTSVLHRGLVSRDAVRLSWVVFCEPPPESVLLQPVQELLADGAGKPLFAPRTFKQHVQRKLFKKLKDQQDNNAAAASNGMITK\n"
     ]
    }
   ],
   "source": [
    "head data/$inseq.fasta"
   ]
  },
  {
   "cell_type": "markdown",
   "metadata": {},
   "source": [
    "# 2. Aligning\n",
    "\n",
    "Now we have our fasta file with a feasible amount of sequences. Next step is aligning these. While this may seem trivial, the method of aligning can actually influence your end results quite a bit. Roughly speaking there is several alignment algorithms:\n",
    "\n",
    "1. progressive\n",
    "   - mafft\n",
    "   - clustal?\n",
    "2. pair-wise\n",
    "   - mafft\n",
    "   - ...\n",
    "3. ...\n",
    "\n",
    "Especially for bigger datasets, I prefer mafft for it is simply very fast and gave me good results in the past. But by all means try more ways if you get odd results.\n",
    "\n",
    "If you have a good idea of what you're doing, and you want to run multiple alignments in a loop and go have lunch, have a look at section 2.2."
   ]
  },
  {
   "cell_type": "markdown",
   "metadata": {},
   "source": [
    "## 2.1 running alignments (one by one).\n",
    "\n",
    "### 2.1.1. MAFFT [online](https://mafft.cbrc.jp/alignment/server/)\n",
    "\n",
    "If you find mafft options and parameters confusing, and/or you have difficulty making alignments, \n",
    "then you may tre to use the online service [here](https://mafft.cbrc.jp/alignment/server/). \n",
    "The online MAFFT service does a good job at explaining the parameters and has a nice visualisation as well!\n",
    "So read the webpage, and choose your options and parameters aided by the explanations in the webpage. When you submit your job, the mafft command issued in the background is actually shown to you! Hence you can copy paste that command here if you'd like. That's especially useful when the server is under high load, in this notebook you may choose to use all threads available on your computer `--threads $(nproc)`.\n",
    "\n",
    "Using the MSAviewer that you can open after running your alignment on this server, you can even interactivelly trim. From a reproducibility/scaling point of view, this is not ideal, but to get a feeling for what you are doing, it is very usefull. Just make sure you keep a record of what you do, and keep intermediate results with clear names.\n",
    "\n",
    "### 2.1.2 MAFFT local\n",
    "I'll start with showing you my go-to approach. First, have a look at the manual. \n",
    "\n",
    "Next I'll make a directory to store the untrimmed (hence raw) alignments and run the alignment on all available CPU cores.\n",
    "\n",
    "I like to do this in 'if loops' to prevent re-doing things unnecessarily."
   ]
  },
  {
   "cell_type": "markdown",
   "metadata": {},
   "source": [
    "\n"
   ]
  },
  {
   "cell_type": "markdown",
   "metadata": {},
   "source": [
    "Linsi is probably the most acurate mafft setting (as declared by the MAFFT authors). It is turned off by default in normal or auto mafft for alignments bigger than 200 sequences. Typically, it only takes a couple of minutes so I don't mind the wait. Building a tree takes a lot longer so these extra minutes are a sensible investment to me."
   ]
  },
  {
   "cell_type": "code",
   "execution_count": 37,
   "metadata": {
    "scrolled": true
   },
   "outputs": [
    {
     "name": "stdout",
     "output_type": "stream",
     "text": [
      "(phylogenetics) (phylogenetics) (phylogenetics) (phylogenetics) "
     ]
    }
   ],
   "source": [
    "#rm \"./data/alignments_raw/$inseq\"_aligned-mafft.*\n",
    "conda activate phylogenetics\n",
    "if    [ ! -d ./data/alignments_raw/ ]\n",
    "then  mkdir  ./data/alignments_raw\n",
    "fi\n",
    "if    [ ! -f \"./data/alignments_raw/$inseq\"_aligned-mafft.fasta ]\n",
    "then  mafft --auto --thread $(nproc) data/$inseq.fasta \\\n",
    "              > ./data/alignments_raw/\"$inseq\"_aligned-mafft.fasta \\\n",
    "              2> ./data/alignments_raw/\"$inseq\"_aligned-mafft.log\n",
    "fi\n",
    "conda deactivate"
   ]
  },
  {
   "cell_type": "code",
   "execution_count": 38,
   "metadata": {},
   "outputs": [
    {
     "name": "stdout",
     "output_type": "stream",
     "text": [
      " FFT-NS-2 (Fast but rough)\n",
      " Progressive method (guide trees were built 2 times.)\n",
      "\n",
      "If unsure which option to use, try 'mafft --auto input > output'.\n",
      "For more information, see 'mafft --help', 'mafft --man' and the mafft page.\n",
      "\n",
      "The default gap scoring scheme has been changed in version 7.110 (2013 Oct).\n",
      "It tends to insert more gaps into gap-rich regions than previous versions.\n",
      "To disable this change, add the --leavegappyregion option.\n",
      "\n"
     ]
    }
   ],
   "source": [
    "tail ./data/alignments_raw/\"$inseq\"_aligned-*.log"
   ]
  },
  {
   "cell_type": "code",
   "execution_count": 39,
   "metadata": {
    "scrolled": true
   },
   "outputs": [
    {
     "name": "stdout",
     "output_type": "stream",
     "text": [
      "total 45M\n",
      "45M orthogroup_AtLDOX_AT4g22880_selection-v1_guide-v1_aligned-mafft.fasta\n",
      "56K orthogroup_AtLDOX_AT4g22880_selection-v1_guide-v1_aligned-mafft.log\n"
     ]
    }
   ],
   "source": [
    "ls ./data/alignments_raw -sh"
   ]
  },
  {
   "cell_type": "code",
   "execution_count": 40,
   "metadata": {},
   "outputs": [
    {
     "name": "stdout",
     "output_type": "stream",
     "text": [
      ">AthLDOX\n",
      "------------------------------------------------------------\n",
      "------------------------------------------------------------\n",
      "------------------------------------------------------------\n",
      "------------------------------------------------------------\n",
      "------------------------------------------------------------\n",
      "------------------------------------------------------------\n",
      "------------------------------------------------------------\n",
      "------------------------------------------------------------\n",
      "-------------------------------------------MV---------------\n"
     ]
    }
   ],
   "source": [
    "head ./data/alignments_raw/\"$inseq\"_aligned-mafft*.fasta"
   ]
  },
  {
   "cell_type": "markdown",
   "metadata": {},
   "source": [
    "![](data/alignments_raw/orthogroup_AtLDOX_AT4g22880_selection-v1_guide-v1_aligned-mafft.png)"
   ]
  },
  {
   "cell_type": "markdown",
   "metadata": {},
   "source": [
    "# 3. Alignment trimming\n",
    "\n",
    "Odds are, your alignment is quite gappy which may confuse tree building algorithms. Often it is better to remove gappy columns in your alignment. Let's have a look at this with `trimAl`. Short for 'trim alignment' (I guess). No Artificial intelegence stuff going on here.\n",
    "\n",
    "As always, have a look at the help page."
   ]
  },
  {
   "cell_type": "markdown",
   "metadata": {},
   "source": [
    "## 3.1 automated trimming\n",
    "Now let's go with the automated algorith of `trimAl` first and inspect the results.\n",
    "\n",
    "I'm running this in a loop that will process all your alignments of the last step simultaneously. Try not to create too many."
   ]
  },
  {
   "cell_type": "markdown",
   "metadata": {},
   "source": [
    "You can evaluate the trimming in the webpage that trimal made. Browse in the jupyter file browser to: \n",
    "\n",
    "> data/alignments_trimmed/...trim-auto.html'\n",
    "\n",
    "the webpage should open in your browser and you can check how many sequences and collumns have been retained, and see exactly which ones. If you are contect, proceed to tree building!\n",
    "\n",
    "### 3.2 Tweak trimming parameters\n",
    "\n",
    "Alternatively, you may tweak your own trimming parameters like so. \n",
    "\n",
    "Everytime I change parameters, I change the variable `$trimappendix` to reflect those changes. Second, I explain briefly in a text cell why I chose to do so."
   ]
  },
  {
   "cell_type": "code",
   "execution_count": 90,
   "metadata": {},
   "outputs": [
    {
     "name": "stdout",
     "output_type": "stream",
     "text": [
      "(phylogenetics) (phylogenetics) (phylogenetics) (phylogenetics) (phylogenetics) trimming alignment data/alignments_raw/orthogroup_AtLDOX_AT4g22880_selection-v1_guide-v1_aligned-mafft.fasta\n",
      "[3] 581828\n",
      "(phylogenetics) "
     ]
    }
   ],
   "source": [
    "if    [ ! -d data/alignments_trimmed ]\n",
    "then  mkdir  data/alignments_trimmed \n",
    "fi\n",
    "conda activate phylogenetics\n",
    "# define appendix only once here:\n",
    "trimappendix='trim-gt4-seq99-res90'\n",
    "\n",
    "\n",
    "for a in \"data/alignments_raw/$inseq\"_aligned*.fasta\n",
    "do  appendix=$(echo $a | cut -d '/' -f 3- | sed \"s/$inseq\\_//\" | sed \"s/.fasta//\")\n",
    "    if    [ ! -f data/alignments_trimmed/\"$inseq\"_\"$appendix\"_\"$trimappendix\".fasta ]\n",
    "    then  echo \"trimming alignment $a\"\n",
    "          sed -i 's/ /_/g' $a\n",
    "          trimal -in $a   \\\n",
    "                 -out data/alignments_trimmed/\"$inseq\"_\"$appendix\"_\"$trimappendix\".fasta \\\n",
    "                 -gt .4 \\\n",
    "                 -seqoverlap 99 \\\n",
    "                 -resoverlap 0.90 2> /dev/null &\n",
    "    fi\n",
    "done\n",
    "conda deactivate"
   ]
  },
  {
   "cell_type": "code",
   "execution_count": 95,
   "metadata": {
    "scrolled": true
   },
   "outputs": [
    {
     "name": "stdout",
     "output_type": "stream",
     "text": [
      "total 43M\n",
      "1,5M orthogroup_AtLDOX_AT4g22880_selection-v1_guide-v1_aligned-mafft_trim-gt4-seq90-res90.fasta\n",
      "1,4M orthogroup_AtLDOX_AT4g22880_selection-v1_guide-v1_aligned-mafft_trim-gt4-seq95-res90.fasta\n",
      " 40M \u001b[0m\u001b[01;35morthogroup_AtLDOX_AT4g22880_selection-v1_guide-v1_aligned-mafft_trim-gt4-seq95-res90.png\u001b[0m\u001b[K\n"
     ]
    }
   ],
   "source": [
    "ls data/alignments_trimmed -sh"
   ]
  },
  {
   "cell_type": "code",
   "execution_count": 96,
   "metadata": {
    "scrolled": true
   },
   "outputs": [
    {
     "name": "stdout",
     "output_type": "stream",
     "text": [
      "\u001b[35m\u001b[Kdata/alignments_trimmed/orthogroup_AtLDOX_AT4g22880_selection-v1_guide-v1_aligned-mafft_trim-gt4-seq90-res90.fasta\u001b[m\u001b[K\u001b[36m\u001b[K:\u001b[m\u001b[K4301\n",
      "\u001b[35m\u001b[Kdata/alignments_trimmed/orthogroup_AtLDOX_AT4g22880_selection-v1_guide-v1_aligned-mafft_trim-gt4-seq95-res90.fasta\u001b[m\u001b[K\u001b[36m\u001b[K:\u001b[m\u001b[K4154\n"
     ]
    }
   ],
   "source": [
    "grep -c '>' data/alignments_trimmed/*.fasta"
   ]
  },
  {
   "cell_type": "code",
   "execution_count": 83,
   "metadata": {},
   "outputs": [
    {
     "name": "stdout",
     "output_type": "stream",
     "text": [
      "(jalview) [1] 581443\n",
      "[2] 581449\n",
      "(jalview) [1]-  Done                    jalview -nodisplay -open $prefix.fasta -colour CLUSTAL -png $prefix.png > /dev/null 2> /dev/null\n",
      "[2]+  Done                    jalview -nodisplay -open $prefix.fasta -colour CLUSTAL -png $prefix.png > /dev/null 2> /dev/null\n",
      "(jalview) "
     ]
    }
   ],
   "source": [
    "conda activate jalview\n",
    "for   i in data/alignments_trimmed/*.fasta\n",
    "do    prefix=$(echo $i | sed 's/\\.fasta//')\n",
    "      if    [ ! -f $prefix.png ]\n",
    "      then  jalview -nodisplay \\\n",
    "                    -open $prefix.fasta \\\n",
    "                    -colour CLUSTAL \\\n",
    "                    -png  $prefix.png > /dev/null 2> /dev/null &\n",
    "      fi\n",
    "done\n",
    "wait\n",
    "conda deactivate"
   ]
  },
  {
   "cell_type": "code",
   "execution_count": 97,
   "metadata": {},
   "outputs": [
    {
     "name": "stdout",
     "output_type": "stream",
     "text": [
      "40M \u001b[0m\u001b[01;35mdata/alignments_trimmed/orthogroup_AtLDOX_AT4g22880_selection-v1_guide-v1_aligned-mafft_trim-gt4-seq95-res90.png\u001b[0m\u001b[K\n"
     ]
    }
   ],
   "source": [
    "ls data/alignments_trimmed/*.png -sh"
   ]
  },
  {
   "cell_type": "markdown",
   "metadata": {},
   "source": [
    "mafft-auto alignment is way to short, so moving on to custom settings.\n",
    "\n",
    "Settings seq70-res6 seq80-res7 seq90-res8 seq90-res90 all yielded identical results, removing no sequences from the alignment. Only the last was retained.\n",
    "\n",
    "The final setting removed about 100 sequences, I'm going with this for now: seq95-res90\n",
    "![](data/alignments_trimmed/orthogroup_AtLDOX_AT4g22880_selection-v1_guide-v1_aligned-mafft_trim-gt4-seq95-res90.png)"
   ]
  },
  {
   "cell_type": "code",
   "execution_count": null,
   "metadata": {
    "scrolled": false
   },
   "outputs": [],
   "source": [
    "head data/alignments_trimmed/\"$inseq\"_\"$appendix\"_\"$trimappendix\".fasta "
   ]
  },
  {
   "cell_type": "markdown",
   "metadata": {},
   "source": [
    "# 4. Fast tree building\n",
    "Here we'll make fast trees: not acurate, no bootstraps, but fast. This gives us an idea of the output and how we will process it. Building 'propper' trees can take days sometimes weeks, so it's better to be sure you have all sequences in there you want before you start. \n",
    "\n",
    "I use two ways to make thise fast trees, first with a program called `fasttree` and second with the programm `iqtree` with the `-fast` parameter. My gut feeling is that the latter is a bit more acurate but takes a couple of minutes. Fasttree takes seconds.\n",
    "\n",
    "I arbitrarily consider trees to be analyses and not data, hence I store these in the `analyses` directory.\n",
    "\n",
    "Since these trees run fast (just take a second to consider how rediculous that sounds) I propose to run these in loops again, taking all the trimmed alignments that were made earlier. The trees run in parallel on one CPU. If you're running many trees (way more than you have computing cores) then don't run these in the background. Practically, that means removing the `&` character almost at the end of the loop."
   ]
  },
  {
   "cell_type": "markdown",
   "metadata": {},
   "source": [
    "## 4.2 IQtree -fast\n",
    "\n",
    "And here is the same but for running iqtree. I picked some random model here, but substitute it by anything you like better or have good experience with it the past."
   ]
  },
  {
   "cell_type": "code",
   "execution_count": null,
   "metadata": {},
   "outputs": [
    {
     "name": "stdout",
     "output_type": "stream",
     "text": [
      "(phylogenetics) making a iqtree fast tree of file data/alignments_trimmed/orthogroup_AtLDOX_AT4g22880_selection-v1_guide-v1_aligned-mafft_trim-gt4-seq95-res90.fasta\n",
      "aligned-mafft_trim-gt4-seq95-res90\n",
      "[1] 584995\n",
      "(phylogenetics) "
     ]
    }
   ],
   "source": [
    "#for a in data/alignments_trimmed/\"$inseq\"_aligned*.fasta\n",
    "conda activate phylogenetics\n",
    "for a in data/alignments_trimmed/orthogroup_AtLDOX_AT4g22880_selection-v1_guide-v1_aligned-mafft_trim-gt4-seq95-res90.fasta\n",
    "do  echo \"making a iqtree fast tree of file $a\"\n",
    "    appendix=$(echo $a | cut -d '/' -f 3- | sed \"s/$inseq\\_//\" | sed \"s/.fasta//\")\n",
    "    echo $appendix\n",
    "    if   [ ! -d   analyses/\"$inseq\"_fasttrees/\"$appendix\" ]\n",
    "    then mkdir -p analyses/\"$inseq\"_fasttrees/\"$appendix\"\n",
    "    fi\n",
    "    \n",
    "    iqprefix=analyses/\"$inseq\"_fasttrees/\"$appendix\"/\"$inseq\"_\"$appendix\"_iqtree-fast\n",
    "    if   [ ! -f \"$iqprefix\".iqtree ]\n",
    "    then nice iqtree -s $a -fast \\\n",
    "                     -m 'LG+R7' \\\n",
    "                     -pre \"$iqprefix\" \\\n",
    "                     > \"$iqprefix\".stdout \\\n",
    "                     2> \"$iqprefix\".stderr &\n",
    "    fi\n",
    "done\n",
    "wait\n",
    "conda deactivate"
   ]
  },
  {
   "cell_type": "markdown",
   "metadata": {},
   "source": [
    "## 4.3 Visualise your fast trees. \n",
    "\n",
    "To visualise your trees, you perhaps already have something installed like mega, seaview, etc. Otherwise you can upload the tree file to [iToL](https://itol.embl.de/) (my prefered method) or any other website that visualises trees. See section 6 for uploading your trees to iToL.\n",
    "\n",
    "Alternativelly, we can try to get a quick snapshot here in the notebook:"
   ]
  },
  {
   "cell_type": "markdown",
   "metadata": {},
   "source": [
    "### conclusions\n",
    "\n",
    "A first fast-tree shows us plenty of interesting stuff already:\n",
    "ANS and FLS cluster together, and distincly from F3H. \n",
    "There's however, a bunch of other clear groups that remain uncharacterised. \n",
    "To remidy this, Erbil has provided a new set of guide sequences to better illustratie the evolution of this big family of genes. \n",
    "I'm leaving the UFBootstrap run on for now, to confirm the fasttree results, but then I'll move on to a version with guide-2. \n",
    "The iq-fast-tree is online [here](https://itol.embl.de/tree/9421021579222211612506891) and looks like  this:\n",
    "\n",
    "![](analyses/orthogroup_AtLDOX_AT4g22880_selection-v1_guide-v1_fasttrees/aligned-mafft_trim-gt4-seq95-res90/orthogroup_AtLDOX_AT4g22880_selection-v1_guide-v1_aligned-mafft_trim-gt4-seq95-res90_iqtree-fast.svg)"
   ]
  },
  {
   "cell_type": "markdown",
   "metadata": {},
   "source": [
    "## 5. Building trees with IQtree \n",
    "\n",
    "Finally, we're at the stage to build propper maximum likelyhood phylogenetic trees! Based on your previous results, you should have one or two trimmed alignments you want to make a tree of. There is several choices to make still: a model of evolution and a bootstrapping method.\n",
    "\n",
    "**modelfinder**\n",
    "\n",
    "IQtree is a state-of-the art tree buildling program, which has a model finder algorithm included! This can take a couple of hours, so be sure to do this only once. There is two model finder options, a quick one with some often used models: `-m TEST` or an extended modelfinder, using more models of evolution and substitution: `-m MFP`. I recommend the latter. Once you have your best-fit model (for example: 'LG+R7') then use this model when you build more trees from the same alignment: `-m 'LG+R7'`\n",
    "\n",
    "**bootstrapping**\n",
    "\n",
    "Normal or 'non-parametric' bootstrapping can take quite a long time; I have had trees running for weeks. Hence there is alternatives that are a lot faster but might over or underestimate the bootstrap values if your alignment doesn't fit your model well. To use 'normal bootstraps' the minimum is 100. That's why I like to to 200 to be safe, by adding the option `-b 200`.\n",
    "\n",
    "Alternativelly, there is the 'ultrafast bootstrap' option in IQtree. The minumum for this is 1000 bootstraps, so I'd like to do double by including the parameter: `-bb 2000`. Additionally, I highly recommend also running the approximate likelyhood ratio test for 2000 bootstraps at the same time by including parameters `-alrt 2000`. This adds a minimal amount of run time and makes interpretation of your tree a lot more reliable.\n",
    "\n",
    "As the [IQtree FAQ](http://www.iqtree.org/doc/Frequently-Asked-Questions#how-do-i-interpret-ultrafast-bootstrap-ufboot-support-values) says: typically you start believing a clade when the ultra fast bootstraps => 95 and alrt => 80. Interpretation of these values is not linear like 'normal' bootstrap, hence if you lower the threshold of ultrafast bootstraps to 90, you will likely enormously overestimate your results. \n",
    "\n",
    "**other command-line options**\n",
    "\n",
    "In the commandline I wrote below, I instruct iqtree to use no more CPU cores than your computer has, but also to find the optimum amount of cores (more is not always better). Second, a prefix is defined to store the different trees that IQtree wil make.\n",
    "\n",
    "**More info**\n",
    "* iqtree tutorial: http://www.iqtree.org/doc/Tutorial\n",
    "* aLRT: https://www.ncbi.nlm.nih.gov/pubmed/16785212\n",
    "\n",
    "\n",
    "\n"
   ]
  },
  {
   "cell_type": "markdown",
   "metadata": {},
   "source": [
    "## running IQtree\n",
    "\n",
    "Now these are all trimmed alignments you have available. \n",
    "Choose one to start with (based on your fasttrees or inspections of your alignments).\n",
    "\n",
    "Make sure that \n",
    "1. the path to this alignment is the variable `$a` \n",
    "2. you choose an appendix based on your iqtree settings"
   ]
  },
  {
   "cell_type": "code",
   "execution_count": null,
   "metadata": {},
   "outputs": [],
   "source": [
    "ls data/alignments_trimmed/\"$inseq\"_aligned*fasta"
   ]
  },
  {
   "cell_type": "code",
   "execution_count": null,
   "metadata": {},
   "outputs": [],
   "source": [
    "a=data/alignments_trimmed/orthogroup_AtLDOX_AT4g22880_selection-v1_guide-v1_aligned-mafft_trim-gt4-seq95-res90.fasta\n",
    "\n",
    "#iqpendix='iqtree-b200'\n",
    "iqpendix='iqtree-bb2000-alrt2000'\n",
    "\n",
    "echo \"making a tree of file $a\"\n",
    "echo \"The first lines of alignment $a look like this\"\n",
    "head $a\n",
    "\n",
    "file_appendix=$(echo $a | cut -d '/' -f 3- | sed \"s/$inseq\\_//\" | sed \"s/.fasta//\")\n",
    "echo \"Making a directory $file_appendix to store trees (name based on alignment filename)\"\n",
    "\n",
    "if   [ ! -d    analyses/\"$inseq\"_trees/\"$file_appendix\" ]\n",
    "then mkdir -p  analyses/\"$inseq\"_trees/\"$file_appendix\" \n",
    "fi\n",
    "\n",
    "iqprefix=analyses/\"$inseq\"_trees/\"$file_appendix\"/\"$inseq\"_\"$file_appendix\"_\"$iqpendix\"\n",
    "if   [ ! -f \"$iqprefix\".tree ]\n",
    "then nice iqtree -s $a \\\n",
    "                 -m MFP \\\n",
    "                 -bb 2000 \\\n",
    "                 -alrt 2000 \\\n",
    "                 -nt AUTO \\\n",
    "                 -ntmax $(nproc)  \\\n",
    "                 -pre  \"$iqprefix\" \\\n",
    "                 2>   \"$iqprefix\".stderr \\\n",
    "                 >    \"$iqprefix\".stdout \\\n",
    "                 && cat \"$iqprefix\".out | mail -s ANS_IQtree_run laura.w.dijkhuizen@gmail.com\n",
    "fi"
   ]
  },
  {
   "cell_type": "code",
   "execution_count": null,
   "metadata": {},
   "outputs": [],
   "source": [
    "ls $iqprefix* -1"
   ]
  },
  {
   "cell_type": "markdown",
   "metadata": {},
   "source": [
    "You can have a look at the last lines of your log file like this:"
   ]
  },
  {
   "cell_type": "code",
   "execution_count": null,
   "metadata": {},
   "outputs": [],
   "source": [
    "tail -n 40 $iqprefix.log"
   ]
  },
  {
   "cell_type": "markdown",
   "metadata": {},
   "source": [
    "Are you content with your tree? Great news! If you want to do another run, I recommend copying the cell above and editing the copy. That way you keep the code for all trees you made. Don't forget to explain what you observed, why you're making a new tree, and what you're changing (remember this is your labjournal). \n",
    "\n",
    "# tree storage\n",
    "\n",
    "For tree storage and sharing, I have yet to encounter a better tool than EMBLs [iToL](https://itol.embl.de/). It's a great interface for exploring and sharing trees with colleagues. You can browse to the treefile IQtree created on your computer and upload it to iToL. Alternativelly, you can copy paste the contents of the file to iToL. Make sure to keep the original filename as well! This file name now contains a brief summary of how this tree was made."
   ]
  },
  {
   "cell_type": "markdown",
   "metadata": {},
   "source": [
    "## conclusion\n",
    "preliminary: A tree like this, although it takes a while to calculate, succedes in categorising Azolla ANS-like sequences into specific groups of this big DOX gene family. \n",
    "However, propper labels for certain groups are still missing, to addres this I'll implement Erbils second version of the ANS guide sequences. Additionally, I may find some zea mays, arabidopsis sequences in the different groups.\n",
    "\n",
    "There's distinct clades, often with members of all big plant groups, but the speciation pattern isn't always nice. To conclude about the evolution of any one clade internally, a separate tree of only that clade should be made with dedicated re-alignment and tree inference."
   ]
  }
 ],
 "metadata": {
  "kernelspec": {
   "display_name": "Bash",
   "language": "bash",
   "name": "bash"
  },
  "language_info": {
   "codemirror_mode": "shell",
   "file_extension": ".sh",
   "mimetype": "text/x-sh",
   "name": "bash"
  }
 },
 "nbformat": 4,
 "nbformat_minor": 2
}
