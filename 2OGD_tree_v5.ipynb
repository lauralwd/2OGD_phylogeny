{
 "cells": [
  {
   "cell_type": "markdown",
   "metadata": {
    "heading_collapsed": true
   },
   "source": [
    "# The Plan"
   ]
  },
  {
   "cell_type": "markdown",
   "metadata": {
    "heading_collapsed": true,
    "hidden": true
   },
   "source": [
    "## this workflow\n",
    "Based on version 2 & 3 of this tree, I aim to made some improvements:\n",
    "1. Reduce amount of species in the tree\n",
    "2. Check species in the tree with literature on the 2ogd family\n",
    "3. Replace guide sequences with Erbil's new set\n",
    "4. Add more Azolla sequences to place in the tree\n",
    "~~5. Plot RNAseq on the tree.~~\n",
    "6. Add an outgroup\n",
    "\n",
    "This latter improvement didn't work out well. \n",
    "Human and Yeast 2OGD sequences ended up all over the tree in saturated branches..\n",
    "\n",
    "\n",
    "## data\n",
    "Working with the data of version 4, minus the human and yeast sequences"
   ]
  },
  {
   "cell_type": "code",
   "execution_count": 2,
   "metadata": {
    "hidden": true
   },
   "outputs": [
    {
     "name": "stdout",
     "output_type": "stream",
     "text": [
      "\u001b[35m\u001b[Kdata/orthogroup_AtLDOX_AT4g22880_selection-v1_guide-v1.fasta\u001b[m\u001b[K\u001b[36m\u001b[K:\u001b[m\u001b[K4301\n",
      "\u001b[35m\u001b[Kdata/orthogroup_AtLDOX_AT4g22880_selection-v1_guide-v2.fasta\u001b[m\u001b[K\u001b[36m\u001b[K:\u001b[m\u001b[K4364\n",
      "\u001b[35m\u001b[Kdata/orthogroup_AtLDOX_AT4g22880_selection-v1_guide-v3.fasta\u001b[m\u001b[K\u001b[36m\u001b[K:\u001b[m\u001b[K4372\n",
      "\u001b[35m\u001b[Kdata/orthogroup_AtLDOX_AT4g22880_selection-v1_selection-v1_guide-v3.fasta\u001b[m\u001b[K\u001b[36m\u001b[K:\u001b[m\u001b[K119\n",
      "\u001b[?2004h"
     ]
    },
    {
     "ename": "",
     "evalue": "1",
     "output_type": "error",
     "traceback": []
    }
   ],
   "source": [
    "grep '>' -c data/orthogroup_AtLDOX_AT4g22880_selection-v*_guide-v*.fasta"
   ]
  },
  {
   "cell_type": "markdown",
   "metadata": {
    "hidden": true
   },
   "source": [
    "Instead I removed some very short sequences during trimming.\n",
    "This is not my preferred method, so I want to be more stringent here from the onset."
   ]
  },
  {
   "cell_type": "code",
   "execution_count": 3,
   "metadata": {
    "hidden": true
   },
   "outputs": [
    {
     "name": "stdout",
     "output_type": "stream",
     "text": [
      "\u001b[35m\u001b[Kdata/alignments_trimmed/orthogroup_AtLDOX_AT4g22880_selection-v1_guide-v2_aligned-mafft_trim-gt4-seq95-res92_seqrm-iqtree-content.fasta\u001b[m\u001b[K\u001b[36m\u001b[K:\u001b[m\u001b[K3927\n",
      "\u001b[35m\u001b[Kdata/alignments_trimmed/orthogroup_AtLDOX_AT4g22880_selection-v1_guide-v3_aligned-mafft_trim-gt4-iqtree-content.fasta\u001b[m\u001b[K\u001b[36m\u001b[K:\u001b[m\u001b[K4113\n",
      "\u001b[?2004h"
     ]
    },
    {
     "ename": "",
     "evalue": "1",
     "output_type": "error",
     "traceback": []
    }
   ],
   "source": [
    "grep '>' -c data/alignments_trimmed/orthogroup_AtLDOX_AT4g22880_*-iqtree-content.fasta"
   ]
  },
  {
   "cell_type": "markdown",
   "metadata": {
    "hidden": true
   },
   "source": [
    "Now let's look at the species IDs that are in this set (taken from workflow v2)"
   ]
  },
  {
   "cell_type": "code",
   "execution_count": 5,
   "metadata": {
    "hidden": true,
    "scrolled": true
   },
   "outputs": [
    {
     "name": "stdout",
     "output_type": "stream",
     "text": [
      "86 data/1kP_ids_v1.txt\n",
      ">AALA04h\u001b[?2004l\n",
      ">ABSS\n",
      ">AKXB\n",
      ">ALVQ\n",
      ">BMJR\n",
      ">BNCU\n",
      ">BSNI\n",
      ">CAPN\n",
      ">CBAE\n",
      ">CQPW\n",
      ">CVEG\n",
      ">EEMJ\n",
      ">ENQF\n",
      ">EWXK\n",
      ">GAON\n",
      ">GJPF\n",
      ">GNQG\n",
      ">GOWD\n",
      ">GTHK\n",
      ">GXBM\n",
      ">HPXA\n",
      ">HVBQ\n",
      ">JKHA\n",
      ">JVBR\n",
      ">JVSZ\n",
      ">KBXS\n",
      ">MEKP\n",
      ">MUNP\n",
      ">OSHQ\n",
      ">PBUU\n",
      ">PIVW\n",
      ">PNZO\n",
      ">POOW\n",
      ">PQED\n",
      ">PQTO\n",
      ">QVMR\n",
      ">RCBT\n",
      ">RSOF\n",
      ">SGTW\n",
      ">TCBC\n",
      ">TFYI\n",
      ">THEW\n",
      ">TOXE\n",
      ">UGNK\n",
      ">UHLI\n",
      ">UKUC\n",
      ">UPMJ\n",
      ">UUHD\n",
      ">VDAO\n",
      ">VIBO\n",
      ">VITX\n",
      ">WBOD\n",
      ">WLIC\n",
      ">WZFE\n",
      ">XZUY\n",
      ">YJJY\n",
      ">YWNF\n",
      ">ZFGK\n",
      ">ZFRE\n",
      ">ZXJO\n",
      ">ZZOL\n",
      ">Ambtr\n",
      ">Aquco\n",
      ">Arath\n",
      ">Betvu\n",
      ">Carpa\n",
      ">Chlre\n",
      ">Chlva\n",
      ">Elagu\n",
      ">Klefl\n",
      ">Manes\n",
      ">Micpu\n",
      ">Mimgu\n",
      ">Musac\n",
      ">Nelnu\n",
      ">Orysa\n",
      ">Phavu\n",
      ">Pinta\n",
      ">Poptr\n",
      ">Prupe\n",
      ">Selmo\n",
      ">Solly\n",
      ">Sorbi\n",
      ">Spipo\n",
      ">Theca\n",
      ">Vitvi\n",
      "\u001b[?2004h"
     ]
    },
    {
     "ename": "",
     "evalue": "1",
     "output_type": "error",
     "traceback": []
    }
   ],
   "source": [
    "wc -l data/1kP_ids_v1.txt\n",
    "cat   data/1kP_ids_v1.txt"
   ]
  },
  {
   "cell_type": "markdown",
   "metadata": {
    "hidden": true
   },
   "source": [
    "In Kasai et al [DOI](https://doi.org/10.1111/tpj.12479), six plant genomes are studied for 2ogd gens:\n",
    "1. *Arabidopsis thaliana* (present in dataset)\n",
    "2. *Oryza sativa* (present in dataset)\n",
    "3. *Picea abies* (**absent**, if I remember correctly, Pinus taeda behaved better in previous trees.)\n",
    "4. *Selageniella moellendorfii* (present in dataset)\n",
    "5. Physcomitrella patens (**absent**)\n",
    "6. Chlamydomonas reinhartii (present in dataset)\n",
    "\n",
    "Of these we miss only two. Picea is not present in my dataset but Physcomytrella is.\n",
    "I'll add physcometrella (code Phypha)\n",
    "Whether I'll go and hunt down all Picea sequences, I'll decide when I checked the RNAseq data for the presence of the different lineages."
   ]
  },
  {
   "cell_type": "code",
   "execution_count": 1,
   "metadata": {
    "hidden": true,
    "scrolled": true
   },
   "outputs": [
    {
     "name": "stdout",
     "output_type": "stream",
     "text": [
      ">Phypa_v3_0-Phpat_006G019800_1-Physcomitrella_patens_VvANS-like\n",
      ">Phypa_v3_0-Phpat_005G086800_1-Physcomitrella_patens_VvANS-like\n",
      ">Phypa_v3_0-Phpat_013G033700_1-Physcomitrella_patens_VvANS-like\n",
      ">Phypa_v3_0-Phpat_026G051300_1-Physcomitrella_patens_VvANS-like\n",
      ">Phypa_v3_0-Phpat_009G093300_1-Physcomitrella_patens_VvANS-like\n",
      ">Phypa_v3_0-Phpat_017G023600_1-Physcomitrella_patens_VvANS-like\n",
      ">Phypa_v3_0-Phpat_003G127600_1-Physcomitrella_patens_VvANS-like\n",
      ">Phypa_v3_0-Phpat_025G044200_1-Physcomitrella_patens_VvANS-like\n",
      ">Phypa_v3_0-Phpat_025G017400_1-Physcomitrella_patens_VvANS-like\n",
      ">Phypa_v3_0-Phpat_027G021000_1-Physcomitrella_patens_VvANS-like\n",
      "grep: write error: Broken pipe\n",
      ">AWQB-2009263-Picea_engelmanii_VvANS-like\n",
      ">AWQB-2001692-Picea_engelmanii_VvANS-like\n",
      ">AWQB-2002242-Picea_engelmanii_VvANS-like\n",
      ">AWQB-2010257-Picea_engelmanii_VvANS-like\n",
      ">AWQB-2002243-Picea_engelmanii_VvANS-like\n",
      ">AWQB-2047197-Picea_engelmanii_VvANS-like\n",
      ">AWQB-2052945-Picea_engelmanii_VvANS-like\n",
      ">AWQB-2009200-Picea_engelmanii_VvANS-like\n",
      ">AWQB-2003643-Picea_engelmanii_VvANS-like\n",
      ">AWQB-2007558-Picea_engelmanii_VvANS-like\n",
      "\u001b[?2004h"
     ]
    },
    {
     "ename": "",
     "evalue": "1",
     "output_type": "error",
     "traceback": []
    }
   ],
   "source": [
    "grep -i Physcomitrella data/orthogroup_ANS-LDOX.fasta | head\n",
    "grep -i Picea data/orthogroup_ANS-LDOX.fasta | head"
   ]
  },
  {
   "cell_type": "code",
   "execution_count": 2,
   "metadata": {
    "hidden": true,
    "scrolled": true
   },
   "outputs": [
    {
     "name": "stdout",
     "output_type": "stream",
     "text": [
      "    100 >Phyp\n",
      "     33 >AWQB04l\n",
      "      1 NGVTG\n",
      "     47 >AWQB\n",
      "      1 NGVTG\n",
      "      6 >AWQB\n",
      "\u001b[?2004h"
     ]
    },
    {
     "ename": "",
     "evalue": "1",
     "output_type": "error",
     "traceback": []
    }
   ],
   "source": [
    "grep -i Physcomitrella data/orthogroup_ANS-LDOX.fasta | cut -c 1-5 | uniq -c\n",
    "grep -i Picea data/orthogroup_ANS-LDOX.fasta | cut -c 1-5 | uniq -c"
   ]
  },
  {
   "cell_type": "markdown",
   "metadata": {
    "hidden": true
   },
   "source": [
    "## Previous trees\n",
    "\n",
    "Selection 1 guide 1 contained too few guide sequences, hence the first real result is selelection-v1_guide-v2.\n",
    "This tree contains some characterised (guide) sequences for most clades, but not all.\n",
    "A \"rootable clade\" can be identified with the vast majority of algal sequences, but this contains seed plant sequences as well.\n",
    "This particular clade is consistent in all trees made.\n",
    "However, when adding a human/yeast outgroup, these sequences ended up all over the tree.\n",
    "This may be an artifact, but it reduced my confidence in the algal outgroup."
   ]
  },
  {
   "cell_type": "code",
   "execution_count": 3,
   "metadata": {
    "hidden": true,
    "scrolled": false
   },
   "outputs": [
    {
     "name": "stdout",
     "output_type": "stream",
     "text": [
      "1kp-IDs_to_clade_to_colour.tab\n",
      "1kP_ids_v1.txt\n",
      "1kP_ids_v2.txt\n",
      "1kP_LAR_selectionv1_guide_v5.fasta\n",
      "\u001b[0m\u001b[01;34malignments_raw\u001b[0m\n",
      "\u001b[01;34malignments_trimmed\u001b[0m\n",
      "ANS-likes_Azolla-filiculoides.fasta\n",
      "ANS-likes_Azolla-filiculoides_v2.fasta\n",
      "ANS-likes_Azolla-filiculoides_v2_linear.fasta\n",
      "ANS-likes_Azolla-filiculoides_v3.fasta\n",
      "ANS-likes_Azolla-filiculoides_v3_linear.fasta\n",
      "guide-sequences-v1.fasta\n",
      "guide-sequences-v1_linear.fasta\n",
      "guide-sequences-v2.fasta\n",
      "guide-sequences-v2_linear.fasta\n",
      "guide-sequences-v3.fasta\n",
      "guide-sequences-v3_linear.fasta\n",
      "orthogroup_ANS-LDOX.fasta\n",
      "orthogroup_AtLDOX_AT4g22880.fasta\n",
      "orthogroup_AtLDOX_AT4g22880_linear.fasta\n",
      "orthogroup_AtLDOX_AT4g22880_selection-v1.fasta\n",
      "orthogroup_AtLDOX_AT4g22880_selection-v1_guide-v1.fasta\n",
      "orthogroup_AtLDOX_AT4g22880_selection-v1_guide-v2.fasta\n",
      "orthogroup_AtLDOX_AT4g22880_selection-v1_guide-v3.fasta\n",
      "orthogroup_AtLDOX_AT4g22880_selection-v1_selection-v1_guide-v3.fasta\n",
      "orthogroup_AtLDOX_AT4g22880_selection-v2.fasta\n",
      "orthogroup_VvANS.fasta\n",
      "_selection-v2.fasta\n",
      "Sorghum-subset-LDOX-orthogroup.fasta\n",
      "\u001b[?2004h"
     ]
    },
    {
     "ename": "",
     "evalue": "1",
     "output_type": "error",
     "traceback": []
    }
   ],
   "source": [
    "ls data"
   ]
  },
  {
   "cell_type": "markdown",
   "metadata": {
    "heading_collapsed": true
   },
   "source": [
    "# 1. Composing your fasta\n",
    "Mostly the same as version4, except for leaving out the outgroup of human and yeast sequences."
   ]
  },
  {
   "cell_type": "markdown",
   "metadata": {
    "hidden": true
   },
   "source": [
    "Let's look at what we have"
   ]
  },
  {
   "cell_type": "code",
   "execution_count": 2,
   "metadata": {
    "hidden": true,
    "scrolled": true
   },
   "outputs": [
    {
     "name": "stdout",
     "output_type": "stream",
     "text": [
      "\u001b[01;34m.\u001b[00m\n",
      "├── 2OGD_tree_v4.ipynb\n",
      "├── \u001b[01;34manalyses\u001b[00m\n",
      "│   ├── \u001b[01;34morthogroup_AtLDOX_AT4g22880_selection-v1_guide-v1_fasttrees\u001b[00m\n",
      "│   │   └── \u001b[01;34maligned-mafft_trim-gt4-seq95-res90\u001b[00m\n",
      "│   │       ├── orthogroup_AtLDOX_AT4g22880_selection-v1_guide-v1_aligned-mafft_trim-gt4-seq95-res90_iqtree-fast.bionj\n",
      "│   │       ├── \u001b[01;31morthogroup_AtLDOX_AT4g22880_selection-v1_guide-v1_aligned-mafft_trim-gt4-seq95-res90_iqtree-fast.ckp.gz\u001b[00m\n",
      "│   │       ├── orthogroup_AtLDOX_AT4g22880_selection-v1_guide-v1_aligned-mafft_trim-gt4-seq95-res90_iqtree-fast.iqtree\n",
      "│   │       ├── orthogroup_AtLDOX_AT4g22880_selection-v1_guide-v1_aligned-mafft_trim-gt4-seq95-res90_iqtree-fast.log\n",
      "│   │       ├── orthogroup_AtLDOX_AT4g22880_selection-v1_guide-v1_aligned-mafft_trim-gt4-seq95-res90_iqtree-fast.mldist\n",
      "│   │       ├── orthogroup_AtLDOX_AT4g22880_selection-v1_guide-v1_aligned-mafft_trim-gt4-seq95-res90_iqtree-fast.stderr\n",
      "│   │       ├── orthogroup_AtLDOX_AT4g22880_selection-v1_guide-v1_aligned-mafft_trim-gt4-seq95-res90_iqtree-fast.stdout\n",
      "│   │       ├── \u001b[01;35morthogroup_AtLDOX_AT4g22880_selection-v1_guide-v1_aligned-mafft_trim-gt4-seq95-res90_iqtree-fast.svg\u001b[00m\n",
      "│   │       ├── orthogroup_AtLDOX_AT4g22880_selection-v1_guide-v1_aligned-mafft_trim-gt4-seq95-res90_iqtree-fast.treefile\n",
      "│   │       └── orthogroup_AtLDOX_AT4g22880_selection-v1_guide-v1_aligned-mafft_trim-gt4-seq95-res90_iqtree-fast.uniqueseq.phy\n",
      "│   ├── orthogroup_AtLDOX_AT4g22880_selection-v1_guide-v1_iTol-branch-labels.txt\n",
      "│   ├── \u001b[01;34morthogroup_AtLDOX_AT4g22880_selection-v1_guide-v1_trees\u001b[00m\n",
      "│   │   └── \u001b[01;34maligned-mafft_trim-gt4-seq95-res90\u001b[00m\n",
      "│   │       ├── orthogroup_AtLDOX_AT4g22880_selection-v1_guide-v1_aligned-mafft_trim-gt4-seq95-res90_iqtree-bb2000-alrt2000.bionj\n",
      "│   │       ├── \u001b[01;31morthogroup_AtLDOX_AT4g22880_selection-v1_guide-v1_aligned-mafft_trim-gt4-seq95-res90_iqtree-bb2000-alrt2000.ckp.gz\u001b[00m\n",
      "│   │       ├── orthogroup_AtLDOX_AT4g22880_selection-v1_guide-v1_aligned-mafft_trim-gt4-seq95-res90_iqtree-bb2000-alrt2000.log\n",
      "│   │       ├── orthogroup_AtLDOX_AT4g22880_selection-v1_guide-v1_aligned-mafft_trim-gt4-seq95-res90_iqtree-bb2000-alrt2000.mldist\n",
      "│   │       ├── \u001b[01;31morthogroup_AtLDOX_AT4g22880_selection-v1_guide-v1_aligned-mafft_trim-gt4-seq95-res90_iqtree-bb2000-alrt2000.model.gz\u001b[00m\n",
      "│   │       ├── orthogroup_AtLDOX_AT4g22880_selection-v1_guide-v1_aligned-mafft_trim-gt4-seq95-res90_iqtree-bb2000-alrt2000.stderr\n",
      "│   │       ├── orthogroup_AtLDOX_AT4g22880_selection-v1_guide-v1_aligned-mafft_trim-gt4-seq95-res90_iqtree-bb2000-alrt2000.stdout\n",
      "│   │       ├── orthogroup_AtLDOX_AT4g22880_selection-v1_guide-v1_aligned-mafft_trim-gt4-seq95-res90_iqtree-bb2000-alrt2000.treefile\n",
      "│   │       └── orthogroup_AtLDOX_AT4g22880_selection-v1_guide-v1_aligned-mafft_trim-gt4-seq95-res90_iqtree-bb2000-alrt2000.uniqueseq.phy\n",
      "│   ├── \u001b[01;34morthogroup_AtLDOX_AT4g22880_selection-v1_guide-v2_fasttrees\u001b[00m\n",
      "│   │   ├── \u001b[01;34maligned-mafft-einsi_trim-gt4\u001b[00m\n",
      "│   │   │   ├── orthogroup_AtLDOX_AT4g22880_selection-v1_guide-v2_aligned-mafft-einsi_trim-gt4_iqtree-fast.bionj\n",
      "│   │   │   ├── \u001b[01;31morthogroup_AtLDOX_AT4g22880_selection-v1_guide-v2_aligned-mafft-einsi_trim-gt4_iqtree-fast.ckp.gz\u001b[00m\n",
      "│   │   │   ├── orthogroup_AtLDOX_AT4g22880_selection-v1_guide-v2_aligned-mafft-einsi_trim-gt4_iqtree-fast.iqtree\n",
      "│   │   │   ├── orthogroup_AtLDOX_AT4g22880_selection-v1_guide-v2_aligned-mafft-einsi_trim-gt4_iqtree-fast.log\n",
      "│   │   │   ├── orthogroup_AtLDOX_AT4g22880_selection-v1_guide-v2_aligned-mafft-einsi_trim-gt4_iqtree-fast.stderr\n",
      "│   │   │   ├── orthogroup_AtLDOX_AT4g22880_selection-v1_guide-v2_aligned-mafft-einsi_trim-gt4_iqtree-fast.stdout\n",
      "│   │   │   ├── orthogroup_AtLDOX_AT4g22880_selection-v1_guide-v2_aligned-mafft-einsi_trim-gt4_iqtree-fast.treefile\n",
      "│   │   │   └── orthogroup_AtLDOX_AT4g22880_selection-v1_guide-v2_aligned-mafft-einsi_trim-gt4_iqtree-fast.uniqueseq.phy\n",
      "│   │   ├── \u001b[01;34maligned-mafft_trim-gt4-seq95-res92\u001b[00m\n",
      "│   │   │   └── orthogroup_AtLDOX_AT4g22880_selection-v1_guide-v2_aligned-mafft_trim-gt4-seq95-res92_iqtree-fast.log\n",
      "│   │   └── \u001b[01;34maligned-mafft_trim-gt4-seq95-res92_seqrm-iqtree-content\u001b[00m\n",
      "│   │       ├── orthogroup_AtLDOX_AT4g22880_selection-v1_guide-v2_aligned-mafft_trim-gt4-seq95-res92_seqrm-iqtree-content_iqtree-fast.bionj\n",
      "│   │       ├── \u001b[01;31morthogroup_AtLDOX_AT4g22880_selection-v1_guide-v2_aligned-mafft_trim-gt4-seq95-res92_seqrm-iqtree-content_iqtree-fast.ckp.gz\u001b[00m\n",
      "│   │       ├── orthogroup_AtLDOX_AT4g22880_selection-v1_guide-v2_aligned-mafft_trim-gt4-seq95-res92_seqrm-iqtree-content_iqtree-fast.iqtree\n",
      "│   │       ├── orthogroup_AtLDOX_AT4g22880_selection-v1_guide-v2_aligned-mafft_trim-gt4-seq95-res92_seqrm-iqtree-content_iqtree-fast.log\n",
      "│   │       ├── orthogroup_AtLDOX_AT4g22880_selection-v1_guide-v2_aligned-mafft_trim-gt4-seq95-res92_seqrm-iqtree-content_iqtree-fast.stderr\n",
      "│   │       ├── orthogroup_AtLDOX_AT4g22880_selection-v1_guide-v2_aligned-mafft_trim-gt4-seq95-res92_seqrm-iqtree-content_iqtree-fast.stdout\n",
      "│   │       ├── orthogroup_AtLDOX_AT4g22880_selection-v1_guide-v2_aligned-mafft_trim-gt4-seq95-res92_seqrm-iqtree-content_iqtree-fast.treefile\n",
      "│   │       └── orthogroup_AtLDOX_AT4g22880_selection-v1_guide-v2_aligned-mafft_trim-gt4-seq95-res92_seqrm-iqtree-content_iqtree-fast.uniqueseq.phy\n",
      "│   ├── orthogroup_AtLDOX_AT4g22880_selection-v1_guide-v2_iTol-branch-labels.txt\n",
      "│   ├── \u001b[01;34morthogroup_AtLDOX_AT4g22880_selection-v1_guide-v3_fasttrees\u001b[00m\n",
      "│   │   └── \u001b[01;34maligned-mafft-linsi_trim-gt4\u001b[00m\n",
      "│   │       ├── orthogroup_AtLDOX_AT4g22880_selection-v1_guide-v3_aligned-mafft-linsi_trim-gt4_iqtree-fast.bionj\n",
      "│   │       ├── \u001b[01;31morthogroup_AtLDOX_AT4g22880_selection-v1_guide-v3_aligned-mafft-linsi_trim-gt4_iqtree-fast.ckp.gz\u001b[00m\n",
      "│   │       ├── orthogroup_AtLDOX_AT4g22880_selection-v1_guide-v3_aligned-mafft-linsi_trim-gt4_iqtree-fast.iqtree\n",
      "│   │       ├── orthogroup_AtLDOX_AT4g22880_selection-v1_guide-v3_aligned-mafft-linsi_trim-gt4_iqtree-fast.log\n",
      "│   │       ├── orthogroup_AtLDOX_AT4g22880_selection-v1_guide-v3_aligned-mafft-linsi_trim-gt4_iqtree-fast.stderr\n",
      "│   │       ├── orthogroup_AtLDOX_AT4g22880_selection-v1_guide-v3_aligned-mafft-linsi_trim-gt4_iqtree-fast.stdout\n",
      "│   │       ├── orthogroup_AtLDOX_AT4g22880_selection-v1_guide-v3_aligned-mafft-linsi_trim-gt4_iqtree-fast.treefile\n",
      "│   │       └── orthogroup_AtLDOX_AT4g22880_selection-v1_guide-v3_aligned-mafft-linsi_trim-gt4_iqtree-fast.uniqueseq.phy\n",
      "│   └── \u001b[01;34morthogroup_AtLDOX_AT4g22880_selection-v1_guide-v3_trees\u001b[00m\n",
      "│       ├── \u001b[01;34maligned-mafft_trim-gt4-iqtree-content\u001b[00m\n",
      "│       │   ├── orthogroup_AtLDOX_AT4g22880_selection-v1_guide-v3_aligned-mafft_trim-gt4-iqtree-content_iqtree-bb2000-alrt2000.bionj\n",
      "│       │   ├── orthogroup_AtLDOX_AT4g22880_selection-v1_guide-v3_aligned-mafft_trim-gt4-iqtree-content_iqtree-bb2000-alrt2000.contree\n",
      "│       │   ├── orthogroup_AtLDOX_AT4g22880_selection-v1_guide-v3_aligned-mafft_trim-gt4-iqtree-content_iqtree-bb2000-alrt2000.iqtree\n",
      "│       │   ├── orthogroup_AtLDOX_AT4g22880_selection-v1_guide-v3_aligned-mafft_trim-gt4-iqtree-content_iqtree-bb2000-alrt2000.log\n",
      "│       │   ├── orthogroup_AtLDOX_AT4g22880_selection-v1_guide-v3_aligned-mafft_trim-gt4-iqtree-content_iqtree-bb2000-alrt2000.splits.nex\n",
      "│       │   ├── orthogroup_AtLDOX_AT4g22880_selection-v1_guide-v3_aligned-mafft_trim-gt4-iqtree-content_iqtree-bb2000-alrt2000.stderr\n",
      "│       │   ├── orthogroup_AtLDOX_AT4g22880_selection-v1_guide-v3_aligned-mafft_trim-gt4-iqtree-content_iqtree-bb2000-alrt2000.stdout\n",
      "│       │   ├── orthogroup_AtLDOX_AT4g22880_selection-v1_guide-v3_aligned-mafft_trim-gt4-iqtree-content_iqtree-bb2000-alrt2000.treefile\n",
      "│       │   └── orthogroup_AtLDOX_AT4g22880_selection-v1_guide-v3_aligned-mafft_trim-gt4-iqtree-content_iqtree-bb2000-alrt2000.uniqueseq.phy\n",
      "│       └── \u001b[01;34maligned-mafft_trim-gt4_seqrm-iqtree-content\u001b[00m\n",
      "│           └── orthogroup_AtLDOX_AT4g22880_selection-v1_guide-v3_aligned-mafft_trim-gt4_seqrm-iqtree-content_iqtree-bb2000-alrt2000.mldist\n",
      "├── ANS_tree_v2.ipynb\n",
      "├── ANS_tree_v3.ipynb\n",
      "├── \u001b[01;34mdata\u001b[00m\n",
      "│   ├── 1kp-IDs_to_clade_to_colour.tab\n",
      "│   ├── 1kP_ids_v1.txt\n",
      "│   ├── 1kP_LAR_selectionv1_guide_v5.fasta\n"
     ]
    },
    {
     "name": "stdout",
     "output_type": "stream",
     "text": [
      "│   ├── \u001b[01;34malignments_raw\u001b[00m\n",
      "│   │   ├── orthogroup_AtLDOX_AT4g22880_selection-v1_guide-v1_aligned-mafft.fasta\n",
      "│   │   ├── orthogroup_AtLDOX_AT4g22880_selection-v1_guide-v1_aligned-mafft.log\n",
      "│   │   ├── orthogroup_AtLDOX_AT4g22880_selection-v1_guide-v2_aligned-mafft-einsi.fasta\n",
      "│   │   ├── orthogroup_AtLDOX_AT4g22880_selection-v1_guide-v2_aligned-mafft-einsi.log\n",
      "│   │   ├── orthogroup_AtLDOX_AT4g22880_selection-v1_guide-v2_aligned-mafft.fasta\n",
      "│   │   ├── orthogroup_AtLDOX_AT4g22880_selection-v1_guide-v2_aligned-mafft.log\n",
      "│   │   ├── orthogroup_AtLDOX_AT4g22880_selection-v1_guide-v3_aligned-mafft.fasta\n",
      "│   │   ├── orthogroup_AtLDOX_AT4g22880_selection-v1_guide-v3_aligned-mafft-linsi.fasta\n",
      "│   │   ├── orthogroup_AtLDOX_AT4g22880_selection-v1_guide-v3_aligned-mafft-linsi.log\n",
      "│   │   └── orthogroup_AtLDOX_AT4g22880_selection-v1_guide-v3_aligned-mafft.log\n",
      "│   ├── \u001b[01;34malignments_trimmed\u001b[00m\n",
      "│   │   ├── orthogroup_AtLDOX_AT4g22880_selection-v1_guide-v1_aligned-mafft_trim-gt4-seq90-res90.fasta\n",
      "│   │   ├── \u001b[01;35morthogroup_AtLDOX_AT4g22880_selection-v1_guide-v1_aligned-mafft_trim-gt4-seq90-res90.png\u001b[00m\n",
      "│   │   ├── orthogroup_AtLDOX_AT4g22880_selection-v1_guide-v1_aligned-mafft_trim-gt4-seq95-res90.fasta\n",
      "│   │   ├── \u001b[01;35morthogroup_AtLDOX_AT4g22880_selection-v1_guide-v1_aligned-mafft_trim-gt4-seq95-res90.png\u001b[00m\n",
      "│   │   ├── orthogroup_AtLDOX_AT4g22880_selection-v1_guide-v2_aligned-mafft-einsi_trim-gt4.fasta\n",
      "│   │   ├── \u001b[01;35morthogroup_AtLDOX_AT4g22880_selection-v1_guide-v2_aligned-mafft-einsi_trim-gt4.png\u001b[00m\n",
      "│   │   ├── orthogroup_AtLDOX_AT4g22880_selection-v1_guide-v2_aligned-mafft-einsi_trim-gt4-seq90-res90.fasta\n",
      "│   │   ├── \u001b[01;35morthogroup_AtLDOX_AT4g22880_selection-v1_guide-v2_aligned-mafft-einsi_trim-gt4-seq90-res90.png\u001b[00m\n",
      "│   │   ├── orthogroup_AtLDOX_AT4g22880_selection-v1_guide-v2_aligned-mafft-einsi_trim-gt4-seq92-res90.fasta\n",
      "│   │   ├── \u001b[01;35morthogroup_AtLDOX_AT4g22880_selection-v1_guide-v2_aligned-mafft-einsi_trim-gt4-seq92-res90.png\u001b[00m\n",
      "│   │   ├── orthogroup_AtLDOX_AT4g22880_selection-v1_guide-v2_aligned-mafft-einsi_trim-gt4-seq94-res90.fasta\n",
      "│   │   ├── \u001b[01;35morthogroup_AtLDOX_AT4g22880_selection-v1_guide-v2_aligned-mafft-einsi_trim-gt4-seq94-res90.png\u001b[00m\n",
      "│   │   ├── orthogroup_AtLDOX_AT4g22880_selection-v1_guide-v2_aligned-mafft-einsi_trim-gt4-seq95-res92.fasta\n",
      "│   │   ├── \u001b[01;35morthogroup_AtLDOX_AT4g22880_selection-v1_guide-v2_aligned-mafft-einsi_trim-gt4-seq95-res92.png\u001b[00m\n",
      "│   │   ├── orthogroup_AtLDOX_AT4g22880_selection-v1_guide-v2_aligned-mafft-einsi_trim-gt4-seq95-res94.fasta\n",
      "│   │   ├── \u001b[01;35morthogroup_AtLDOX_AT4g22880_selection-v1_guide-v2_aligned-mafft-einsi_trim-gt4-seq95-res94.png\u001b[00m\n",
      "│   │   ├── orthogroup_AtLDOX_AT4g22880_selection-v1_guide-v2_aligned-mafft-einsi_trim-gt4-seq96-res90.fasta\n",
      "│   │   ├── \u001b[01;35morthogroup_AtLDOX_AT4g22880_selection-v1_guide-v2_aligned-mafft-einsi_trim-gt4-seq96-res90.png\u001b[00m\n",
      "│   │   ├── orthogroup_AtLDOX_AT4g22880_selection-v1_guide-v2_aligned-mafft_trim-gt4.fasta\n",
      "│   │   ├── \u001b[01;35morthogroup_AtLDOX_AT4g22880_selection-v1_guide-v2_aligned-mafft_trim-gt4.png\u001b[00m\n",
      "│   │   ├── orthogroup_AtLDOX_AT4g22880_selection-v1_guide-v2_aligned-mafft_trim-gt4-seq90-res90.fasta\n",
      "│   │   ├── \u001b[01;35morthogroup_AtLDOX_AT4g22880_selection-v1_guide-v2_aligned-mafft_trim-gt4-seq90-res90.png\u001b[00m\n",
      "│   │   ├── orthogroup_AtLDOX_AT4g22880_selection-v1_guide-v2_aligned-mafft_trim-gt4-seq92-res90.fasta\n",
      "│   │   ├── \u001b[01;35morthogroup_AtLDOX_AT4g22880_selection-v1_guide-v2_aligned-mafft_trim-gt4-seq92-res90.png\u001b[00m\n",
      "│   │   ├── orthogroup_AtLDOX_AT4g22880_selection-v1_guide-v2_aligned-mafft_trim-gt4-seq94-res90.fasta\n",
      "│   │   ├── \u001b[01;35morthogroup_AtLDOX_AT4g22880_selection-v1_guide-v2_aligned-mafft_trim-gt4-seq94-res90.png\u001b[00m\n",
      "│   │   ├── orthogroup_AtLDOX_AT4g22880_selection-v1_guide-v2_aligned-mafft_trim-gt4-seq95-res92.fasta\n",
      "│   │   ├── \u001b[01;35morthogroup_AtLDOX_AT4g22880_selection-v1_guide-v2_aligned-mafft_trim-gt4-seq95-res92.png\u001b[00m\n",
      "│   │   ├── orthogroup_AtLDOX_AT4g22880_selection-v1_guide-v2_aligned-mafft_trim-gt4-seq95-res92_seqrm-iqtree-content.fasta\n",
      "│   │   ├── \u001b[01;35morthogroup_AtLDOX_AT4g22880_selection-v1_guide-v2_aligned-mafft_trim-gt4-seq95-res92_seqrm-iqtree-content.png\u001b[00m\n",
      "│   │   ├── orthogroup_AtLDOX_AT4g22880_selection-v1_guide-v2_aligned-mafft_trim-gt4-seq95-res94.fasta\n",
      "│   │   ├── \u001b[01;35morthogroup_AtLDOX_AT4g22880_selection-v1_guide-v2_aligned-mafft_trim-gt4-seq95-res94.png\u001b[00m\n",
      "│   │   ├── orthogroup_AtLDOX_AT4g22880_selection-v1_guide-v3_aligned-mafft-linsi_trim-gt4.fasta\n",
      "│   │   ├── orthogroup_AtLDOX_AT4g22880_selection-v1_guide-v3_aligned-mafft_trim-gt4.fasta\n",
      "│   │   ├── orthogroup_AtLDOX_AT4g22880_selection-v1_guide-v3_aligned-mafft_trim-gt4-iqtree-content.fasta\n",
      "│   │   └── \u001b[01;35morthogroup_AtLDOX_AT4g22880_selection-v1_guide-v3_aligned-mafft_trim-gt4.png\u001b[00m\n",
      "│   ├── ANS-likes_Azolla-filiculoides.fasta\n",
      "│   ├── ANS-likes_Azolla-filiculoides_v2.fasta\n",
      "│   ├── ANS-likes_Azolla-filiculoides_v2_linear.fasta\n",
      "│   ├── ANS-likes_Azolla-filiculoides_v3.fasta\n",
      "│   ├── ANS-likes_Azolla-filiculoides_v3_linear.fasta\n",
      "│   ├── guide-sequences-v1.fasta\n",
      "│   ├── guide-sequences-v1_linear.fasta\n",
      "│   ├── guide-sequences-v2.fasta\n",
      "│   ├── guide-sequences-v2_linear.fasta\n",
      "│   ├── guide-sequences-v3.fasta\n",
      "│   ├── guide-sequences-v3_linear.fasta\n",
      "│   ├── orthogroup_ANS-LDOX.fasta\n",
      "│   ├── orthogroup_AtLDOX_AT4g22880.fasta\n",
      "│   ├── orthogroup_AtLDOX_AT4g22880_linear.fasta\n",
      "│   ├── orthogroup_AtLDOX_AT4g22880_selection-v1.fasta\n",
      "│   ├── orthogroup_AtLDOX_AT4g22880_selection-v1_guide-v1.fasta\n",
      "│   ├── orthogroup_AtLDOX_AT4g22880_selection-v1_guide-v2.fasta\n",
      "│   ├── orthogroup_AtLDOX_AT4g22880_selection-v1_guide-v3.fasta\n",
      "│   ├── orthogroup_AtLDOX_AT4g22880_selection-v1_selection-v1_guide-v3.fasta\n",
      "│   ├── orthogroup_VvANS.fasta\n",
      "│   └── Sorghum-subset-LDOX-orthogroup.fasta\n",
      "├── environment.yml\n",
      "├── itol_annotation_generator.ipynb\n",
      "├── README.md\n",
      "└── tree_building_workflow.ipynb\n",
      "\n",
      "17 directories, 133 files\n",
      "\u001b[?2004h"
     ]
    },
    {
     "ename": "",
     "evalue": "1",
     "output_type": "error",
     "traceback": []
    }
   ],
   "source": [
    "tree"
   ]
  },
  {
   "cell_type": "markdown",
   "metadata": {
    "hidden": true
   },
   "source": [
    "Store the sequences you want to make a tree of in the data directory and make the inseq variable the name of your input fasta without the extention:"
   ]
  },
  {
   "cell_type": "code",
   "execution_count": 1,
   "metadata": {
    "hidden": true
   },
   "outputs": [],
   "source": [
    "inseq=orthogroup_AtLDOX_AT4g22880"
   ]
  },
  {
   "cell_type": "code",
   "execution_count": 12,
   "metadata": {
    "hidden": true,
    "scrolled": true
   },
   "outputs": [
    {
     "name": "stdout",
     "output_type": "stream",
     "text": [
      ">AALA\t43\u001b[?2004l\u001b[?2004l\u001b[?2004l\n",
      ">ABSS\t41\n",
      ">AKXB\t21\n",
      ">ALVQ\t43\n",
      ">BMJR\t28\n",
      ">BNCU\t52\n",
      ">BSNI\t28\n",
      ">CAPN\t27\n",
      ">CBAE\t65\n",
      ">CQPW\t42\n",
      ">CVEG\t26\n",
      ">EEMJ\t28\n",
      ">ENQF\t54\n",
      ">EWXK\t53\n",
      ">GAON\t54\n",
      ">GJPF\t47\n",
      ">GNQG\t48\n",
      ">GOWD\t25\n",
      ">GTHK\t37\n",
      ">GXBM\t3\n",
      ">HPXA\t50\n",
      ">HVBQ\t70\n",
      ">JKHA\t5\n",
      ">JVBR\t43\n",
      ">JVSZ\t31\n",
      ">KBXS\t40\n",
      ">MEKP\t55\n",
      ">MUNP\t29\n",
      ">OSHQ\t42\n",
      ">PBUU\t32\n",
      ">PIVW\t29\n",
      ">PNZO\t40\n",
      ">POOW\t7\n",
      ">PQED\t8\n",
      ">PQTO\t54\n",
      ">QVMR\t22\n",
      ">RCBT\t38\n",
      ">RSOF\t1\n",
      ">SGTW\t34\n",
      ">TCBC\t23\n",
      ">TFYI\t26\n",
      ">THEW\t19\n",
      ">TOXE\t29\n",
      ">UGNK\t56\n",
      ">UHLI\t33\n",
      ">UKUC\t9\n",
      ">UPMJ\t56\n",
      ">UUHD\t36\n",
      ">VDAO\t25\n",
      ">VIBO\t52\n",
      ">VITX\t39\n",
      ">WBOD\t60\n",
      ">WLIC\t39\n",
      ">WZFE\t41\n",
      ">XZUY\t32\n",
      ">YJJY\t30\n",
      ">YWNF\t31\n",
      ">ZFGK\t43\n",
      ">ZFRE\t46\n",
      ">ZXJO\t31\n",
      ">ZZOL\t35\n",
      ">Ambtr\t91\n",
      ">Aquco\t92\n",
      ">Arath\t87\n",
      ">Betvu\t96\n",
      ">Carpa\t63\n",
      ">Chlre\t2\n",
      ">Chlva\t5\n",
      ">Elagu\t45\n",
      ">Klefl\t4\n",
      ">Manes\t128\n",
      ">Micpu\t9\n",
      ">Mimgu\t86\n",
      ">Musac\t86\n",
      ">Nelnu\t79\n",
      ">Orysa\t86\n",
      ">Phavu\t106\n",
      ">Pinta\t164\n",
      ">Poptr\t131\n",
      ">Prupe\t118\n",
      ">Selmo\t69\n",
      ">Solly\t150\n",
      ">Sorbi\t93\n",
      ">Spipo\t36\n",
      ">Theca\t105\n",
      ">Vitvi\t136\n",
      "Phypa04h\u001b[?2004l\n",
      "50\n",
      "\u001b[?2004h"
     ]
    },
    {
     "ename": "",
     "evalue": "1",
     "output_type": "error",
     "traceback": []
    }
   ],
   "source": [
    "while read line\n",
    "do   count=$(grep \"$line\" -c data/orthogroup_AtLDOX_AT4g22880_linear.fasta )\n",
    "     echo -e \"$line\\t$count\"\n",
    "done < data/1kP_ids_v1.txt \n",
    "echo 'Phypa' && grep '>Phypa' -c data/orthogroup_AtLDOX_AT4g22880_linear.fasta"
   ]
  },
  {
   "attachments": {
    "image.png": {
     "image/png": "[encoded data removed]"
    }
   },
   "cell_type": "markdown",
   "metadata": {
    "hidden": true
   },
   "source": [
    "Based on the list above, I made a pivot table to see how these specied identifiers spread over the different clades of land plants.\n",
    "Since the original input of 4000+ (without Azfi or guide seqs) is too big, I want to be more stringent on input.\n",
    "Simultaneously, this is just huuuge gene family, so the tree is going to be huge anyway.\n",
    "\n",
    "The sheet is available online here: https://docs.google.com/spreadsheets/d/1v2igxY_nr7ETMoUdbqpY0QKVxJ-KYiRiO2lLoyOABsw/edit?usp=sharing\n",
    "\n",
    "The summary looks like this:\n",
    "![image.png](attachment:image.png)\n",
    "\n",
    "In short, by removing some species from all major clades (but especially angiosperms) I moved from 4303 sequences to 2869 while keeping a reasonable spread over plant phyla.\n",
    "\n",
    "In selecting I prioritised keeping DNA samples in, and having at least one representative species per clade (clade1).\n",
    "\n",
    "In total, 59h species are in this reference set."
   ]
  },
  {
   "cell_type": "markdown",
   "metadata": {
    "hidden": true
   },
   "source": [
    "## 1.2 systematic subsetting.\n",
    "\n",
    "\n",
    "based on the sheet linked above, I made a new file 1kp_ids_v2.txt.\n",
    "This file contains all RNA and DNA identifiers from that sheet."
   ]
  },
  {
   "cell_type": "code",
   "execution_count": 27,
   "metadata": {
    "hidden": true
   },
   "outputs": [
    {
     "name": "stdout",
     "output_type": "stream",
     "text": [
      "59 data/1kP_ids_v2.txt\n",
      "\u001b[?2004h"
     ]
    },
    {
     "ename": "",
     "evalue": "1",
     "output_type": "error",
     "traceback": []
    }
   ],
   "source": [
    "wc -l data/1kP_ids_v2.txt"
   ]
  },
  {
   "cell_type": "code",
   "execution_count": 28,
   "metadata": {
    "hidden": true
   },
   "outputs": [
    {
     "name": "stdout",
     "output_type": "stream",
     "text": [
      "\u001b[?2004l\r",
      "\u001b[?2004h"
     ]
    },
    {
     "ename": "",
     "evalue": "1",
     "output_type": "error",
     "traceback": []
    }
   ],
   "source": [
    "grep -i -f ./data/1kP_ids_v2.txt data/\"$inseq\"_linear.fasta -A 1 --no-group-separator > data/\"$inseq\"_selection-v2.fasta"
   ]
  },
  {
   "cell_type": "code",
   "execution_count": 29,
   "metadata": {
    "hidden": true
   },
   "outputs": [
    {
     "name": "stdout",
     "output_type": "stream",
     "text": [
      "2869004l\n",
      "5738 data/orthogroup_AtLDOX_AT4g22880_selection-v2.fasta\n",
      "\u001b[?2004h"
     ]
    },
    {
     "ename": "",
     "evalue": "1",
     "output_type": "error",
     "traceback": []
    }
   ],
   "source": [
    "grep '>'  data/\"$inseq\"_selection-v2.fasta -c\n",
    "wc -l     data/\"$inseq\"_selection-v2.fasta"
   ]
  },
  {
   "cell_type": "markdown",
   "metadata": {
    "hidden": true
   },
   "source": [
    "Now check if all species IDs are present:"
   ]
  },
  {
   "cell_type": "code",
   "execution_count": 30,
   "metadata": {
    "hidden": true,
    "scrolled": true
   },
   "outputs": [
    {
     "name": "stdout",
     "output_type": "stream",
     "text": [
      ">AALA\t43\u001b[?2004l\u001b[?2004l\u001b[?2004l\n",
      ">ABSS\t41\n",
      ">AKXB\t21\n",
      ">ALVQ\t43\n",
      ">BMJR\t28\n",
      ">BNCU\t52\n",
      ">BSNI\t28\n",
      ">CAPN\t27\n",
      ">CBAE\t65\n",
      ">CVEG\t26\n",
      ">ENQF\t54\n",
      ">GJPF\t47\n",
      ">GOWD\t25\n",
      ">GTHK\t37\n",
      ">HPXA\t50\n",
      ">JKHA\t5\n",
      ">JVBR\t43\n",
      ">JVSZ\t31\n",
      ">MEKP\t55\n",
      ">MUNP\t29\n",
      ">OSHQ\t42\n",
      ">PIVW\t29\n",
      ">POOW\t7\n",
      ">PQED\t8\n",
      ">QVMR\t22\n",
      ">RCBT\t38\n",
      ">RSOF\t1\n",
      ">SGTW\t34\n",
      ">TCBC\t23\n",
      ">TFYI\t26\n",
      ">UHLI\t33\n",
      ">UPMJ\t56\n",
      ">UUHD\t36\n",
      ">VDAO\t25\n",
      ">VIBO\t52\n",
      ">WBOD\t60\n",
      ">WLIC\t39\n",
      ">XZUY\t32\n",
      ">ZFRE\t46\n",
      ">ZXJO\t31\n",
      ">Ambtr\t91\n",
      ">Arath\t87\n",
      ">Betvu\t96\n",
      ">Chlre\t2\n",
      ">Chlva\t5\n",
      ">Klefl\t4\n",
      ">Micpu\t9\n",
      ">Mimgu\t86\n",
      ">Nelnu\t79\n",
      ">Orysa\t86\n",
      ">Pinta\t164\n",
      ">Poptr\t131\n",
      ">Selmo\t69\n",
      ">Solly\t150\n",
      ">Sorbi\t93\n",
      ">Spipo\t36\n",
      ">Theca\t105\n",
      ">Vitvi\t136\n",
      ">Phypa\t50\n",
      "\u001b[?2004h"
     ]
    },
    {
     "ename": "",
     "evalue": "1",
     "output_type": "error",
     "traceback": []
    }
   ],
   "source": [
    "while read line\n",
    "do   count=$(grep \"$line\" -c  data/\"$inseq\"_selection-v2.fasta )\n",
    "     echo -e \"$line\\t$count\"\n",
    "done < data/1kP_ids_v2.txt \n"
   ]
  },
  {
   "cell_type": "markdown",
   "metadata": {
    "heading_collapsed": true,
    "hidden": true
   },
   "source": [
    "### concluding\n",
    "Great, we have a succesfully reduced the input by 1500-ish sequences and double checked that all species IDs came across as intended. Now move on the adding guide and Azolla sequences."
   ]
  },
  {
   "cell_type": "markdown",
   "metadata": {
    "hidden": true
   },
   "source": [
    "## 1.3 add guide sequences"
   ]
  },
  {
   "cell_type": "markdown",
   "metadata": {
    "hidden": true
   },
   "source": [
    "### now actually working on the guide sequences:\n",
    "linearise:"
   ]
  },
  {
   "cell_type": "code",
   "execution_count": 34,
   "metadata": {
    "hidden": true
   },
   "outputs": [
    {
     "name": "stdout",
     "output_type": "stream",
     "text": [
      "\u001b[?2004h\u001b[?2004l\u001b[?2004l"
     ]
    },
    {
     "ename": "",
     "evalue": "1",
     "output_type": "error",
     "traceback": []
    }
   ],
   "source": [
    "cat data/guide-sequences-v4.fasta \\\n",
    "  | awk '/^>/ {printf(\"%s%s\\n\",(N>0?\"\\n\":\"\"),$0);N++;next;} {printf(\"%s\",$0);} END {printf(\"\\n\");}' \\\n",
    "  > data/guide-sequences-v4_linear.fasta"
   ]
  },
  {
   "cell_type": "markdown",
   "metadata": {
    "hidden": true
   },
   "source": [
    "And the Azolla filiculoides sequences:"
   ]
  },
  {
   "cell_type": "code",
   "execution_count": 50,
   "metadata": {
    "hidden": true
   },
   "outputs": [
    {
     "name": "stdout",
     "output_type": "stream",
     "text": [
      "\u001b[?2004h\u001b[?2004l\u001b[?2004l"
     ]
    },
    {
     "ename": "",
     "evalue": "1",
     "output_type": "error",
     "traceback": []
    }
   ],
   "source": [
    "cat data/ANS-likes_Azolla-filiculoides_v4.fasta \\\n",
    "  | awk '/^>/ {printf(\"%s%s\\n\",(N>0?\"\\n\":\"\"),$0);N++;next;} {printf(\"%s\",$0);} END {printf(\"\\n\");}' \\\n",
    "  > data/ANS-likes_Azolla-filiculoides_v4_linear.fasta"
   ]
  },
  {
   "cell_type": "markdown",
   "metadata": {
    "hidden": true
   },
   "source": [
    "now combine\n",
    "\n",
    "1. outgroup yeast\n",
    "2. outgroup human\n",
    "3. Azfi sequences\n",
    "4. guide sequences\n",
    "5. orthogroup"
   ]
  },
  {
   "cell_type": "code",
   "execution_count": 2,
   "metadata": {
    "hidden": true
   },
   "outputs": [],
   "source": [
    "cat data/ANS-likes_Azolla-filiculoides_v4_linear.fasta \\\n",
    "    data/guide-sequences-v4_linear.fasta               \\\n",
    "    data/\"$inseq\"_selection-v2.fasta                   \\\n",
    "> data/\"$inseq\"_selection-v2_guide-v5.fasta"
   ]
  },
  {
   "cell_type": "code",
   "execution_count": 3,
   "metadata": {
    "hidden": true
   },
   "outputs": [
    {
     "name": "stdout",
     "output_type": "stream",
     "text": [
      ">Azfi_s0092.g043107\n",
      "MADTCTPTTTLVATSNTKIQSIKELVDAGLCHVPSIYIRPPNERPNFQLDVNSTVECENIPIISFANMFGHNREHIVEQVRHACLDWGVFQVTNHCVPTDVVTKIWTVTSEFFALPTSEKVSFNSNDPSFPMYFFTGFYRDERIREWKDTLGFKPSSITDTNLIPTFLRDPMLNFYTDTKNLAHLVGELVALSLGIDTTVLHKHFSRQTIGMNYYPTCPQPDLAFGLSSHSDFGSITLLMQDAEGLQVKKGDEWVNVKVIPNSFIVLIGDQLEILTNGHYKSVEHRVLTNTNKPRMSIGCFFGPHDSDKIGPIDKFISDDKPTVYKETMFGDYLKHGFGKELNGKSNLEFSIRRHTNVK\n",
      ">Azfi_s0003.g007795\n",
      "MDCTSEPLPPCLQELVDAGLSSVPSAYIRPPHERFIPPSHDLSSNAAQIPVINHGVPHDVMIEMRASCSRFFQQPPEMRNIYRSQSFDDPLAYSTSFNPAKEKANDWKDVLYVRDFPGNPVDGFGIAPDVCRFHLALFYAFLHFVYSTLGAFQVFRYEVARLAKQLYEAIFEGLGLSSICIEKTLPGIPWLAMCVNYYPRCPDPSITYGSTAHTDGGSLTILLQDDVAGLWIQKKNEWVQVKPLANSFVVNIGDQVEILSNGIYKSIKHTVLTNSERPRMSVACIFGPKEDENIAPIEDLVSEHQPARYKEVRFGDYLANVYNVELAKL\n",
      ">Azfi_s0005.g009422\n",
      "MSRAPAFGESGSSGSYFSETGSLLLMLSDNEAPSDRVGLLACLDSGFFYVVNHGIDRDLIQEVLHQSRKFFELPLSEKAKCLRNQNHRGYTPLFDETLDPSRQFQGDSKEGYYIGVEAPKDSHRASLCFYGPNIWPSEDLLPGWRDTMETYHKKTLNVASKICRLIALALNLEPEFFEKTGMMDNPMAFLRLLHYSGEKSIPEKGIFGAGAHSDWGFLTLIICDGTPGLQICRDKDEKSQLWESVEPVEGAFIVNLGDMLERWTNNIFRSTLHRVLISGKERYSIAFFLHGNYECSVECLETCQSEANPPKFPPVTNGEYLLERYGESHSSNPDSLIDSKPS\n",
      ">Azfi_s0015.g013952\n",
      "MGAPNPNPNPNPVVPPDLITDPDHVTPIDPAFIVPIEQRPSYRRSHPAIDRIPIIDLSPLHLQEQGLLKEATVEESCVSKEAAGKGDYKEREAIVREVGLACEEWGFFQVINHGIPSSYIQNLKEAARDFFTLPIEEKVKVKRSSENALGFNDGELTKNTRDWKEVFDIVTDGAYCLPSDDGDGDGDGDGDDHVQVFPNRWPSNLPMLRKACEEYVAEAEKLAFTLLELISESLGLPPDVFHEHFVSSGTSLFRLNHYPVCPAPHLALGVSRHKDIGALTILLQDEVGGLEVRRKDGEWIGIEPNTEALVINVGDLIQVYSNDKYNSVEHRVVVHENVDRYSFPLFFNPAHWVNVSPIKELLDDEHPPRYRPFNWGRYIKSRNDSNFKNLGVENRQIYHYAINV\n",
      ">Azfi_s0030.g024267\n",
      "MEMEKLIVGIKELVDDGLREVPPIYVRPPNDRPTGYNSVDDTNLPSQVQMPIIDISSLLLGATEDDPIAQPVIQQIAHACKEWGFFQVVNHGVSHNIIQDLRDAALKFFQLPAKERMCLNNQFFGSSVSYSTSFNPKYEKVREWKDTLSFCRFPGHCDGFQEAPTICKEQVLKYVGAVEMVAQILYKSILTSLEFNGELFSNFAPKISRVIMGINYYPTCPDPSLTLGLSGHSDVGFLTILHPSEVPGLQIKYKGDWVSVFPVHESAFVVNIADQVEILSNGKYKSIEHRVVTNRVKPRMSIACFFAPPEDTIVAPLPALLDEKNPPLYKATKFADYLHNFSTSGLLPNRGTLDFVRI\n",
      ">ENQF-2081971-Lycopodium_annotinum\n",
      "QVPVIDFSGIYDPVSRSRVVKAIGDACKEWGVFQVVNHGVPKHVLQNMIEVGHEFFNLPLEDKMSYYSDDLSQPVRFGTSYNPAKETILEWRDVLRHPGSISPEAVQLWPENPASYRETTTNYLKGAKVFADTLFAALSESLGVQSDYLQKMLTEMMFGINYYPYCPNPDLTLGLSAHSDASGITILLQDQIGGLQVLREGRWYLVQPRSDAFVINVGDQLEILSNGRFKSVEHRVTVNKEKTRISIGILCVPLGDTRIAPISDLIDESHPPMYREVIFKEYLGHYF\n",
      ">Vitvi_Genoscope_12X-GSVIVT01027454001-Vitis_vinifera\n",
      "MANAKLLLSDLASSIDCVPSRYVRPVNDRPNLDEVQSSLDGSIPLIDLQDLHGPSRSHVIKQIAEACQIDGFFRVKNHGIPESVIHGMLSITKEFFHLPESERLKNYSDDPLKTMRLSTSFNVKTEQVSNWRDFLRLYCYPLEDYIQEWPSNPPSFREVVAEYCKEARKLALLLLEAISESLGLERNHIDKALGKHSQQMALNYYPPCPQPELTFGLPGHADPNALTILLQDDVPGLQVLKDGKWVAIHPIPNTFIVNIGDQIQVLSNDCYKSAVHRAVVNCQKERISIPTFYCPSPDAVIGPAPGLVDHGHPALYRKFTYSEYFGKFWNRGLATQSCLDMFKT\n",
      ">Arath_TAIR10-AT5G43450_1-Arabidopsis_thaliana\n",
      "MTENSEKIDRLNDLTTFISTKTGVKGLVDAEITEVPSMFHVPSSILSNNRPSDISGLNLTVPIIDLGDRNTSSRNVVISKIKDAAENWGFFQVINHDVPLTVLEEIKESVRRFHEQDPVVKNQYLPTDNNKRFVYNNDFDLYHSSPLNWRDSFTCYIAPDPPNPEEIPLACRSAVIEYTKHVMELGAVLFQLLSEALGLDSETLKRIDCLKGLFMLCHYYPPCPQPDLTLGISKHTDNSFLTLLLQDQIGGLQVLHEDYWVDVPPVPGALVVNIGDFMQLITNDKFLSVEHRVRPNKDRPRISVACFFSSSLSPNSTVYGPIKDLLSDENPAKYKDITIPEYTAGFLASIFDEKSYLTNYMI\n",
      ">CAPN-2007442-Equisetum_diffusum\n",
      "VRQAFMEAVFEESRKFFCLPLSEKMKVARNEKHRGYTPYRDETLDPENQSKGDSKEGYYIGVEVPETDPRSSRPFTGPNQWPSTDLVPVWRETMERYHAEALRVGKKVAKLIALALNLEADFFESPGILDEPNALVRLLHYSGEQSDQDSGVYGAGAGAHSDFGLLTLLATDAVPGLQICRKKDALPRIWEDVPPIRGSFIVNLGDMLERWSNGMFRSTLHRVMTSGLERYSIAFFLDPNNDCLVKCLETCVSTCNPPRFPPIFVVDYLHQRYGDTHADLTL\n",
      ">CVEG-2029849-Azolla_cf._caroliniana\n",
      "LLEGGLSAVPSSYIRPPHERFIQQHDCAAQIPVIDIADLFSSHHRHLILQRIREACTDWGFFQVINHGVPHDVMIEMRASCSRFFQQPPEMRNIYRSQSFDDPLAYSTSFNPDKEKANDWKDVL\n"
     ]
    }
   ],
   "source": [
    "head data/\"$inseq\"_selection-v2_guide-v5.fasta\n",
    "tail data/\"$inseq\"_selection-v2_guide-v5.fasta"
   ]
  },
  {
   "cell_type": "code",
   "execution_count": 4,
   "metadata": {
    "hidden": true
   },
   "outputs": [
    {
     "name": "stdout",
     "output_type": "stream",
     "text": [
      "3020\n"
     ]
    }
   ],
   "source": [
    "grep '>' -c data/\"$inseq\"_selection-v2_guide-v5.fasta"
   ]
  },
  {
   "cell_type": "markdown",
   "metadata": {
    "hidden": true
   },
   "source": [
    "And reset variable, and check."
   ]
  },
  {
   "cell_type": "code",
   "execution_count": 5,
   "metadata": {
    "hidden": true
   },
   "outputs": [
    {
     "name": "stdout",
     "output_type": "stream",
     "text": [
      "orthogroup_AtLDOX_AT4g22880_selection-v2_guide-v5\n"
     ]
    }
   ],
   "source": [
    "# for the selection workflow\n",
    "inseq=\"$inseq\"_selection-v2_guide-v5\n",
    "echo $inseq"
   ]
  },
  {
   "cell_type": "code",
   "execution_count": 6,
   "metadata": {
    "hidden": true
   },
   "outputs": [
    {
     "name": "stdout",
     "output_type": "stream",
     "text": [
      ">Azfi_s0092.g043107\n",
      "MADTCTPTTTLVATSNTKIQSIKELVDAGLCHVPSIYIRPPNERPNFQLDVNSTVECENIPIISFANMFGHNREHIVEQVRHACLDWGVFQVTNHCVPTDVVTKIWTVTSEFFALPTSEKVSFNSNDPSFPMYFFTGFYRDERIREWKDTLGFKPSSITDTNLIPTFLRDPMLNFYTDTKNLAHLVGELVALSLGIDTTVLHKHFSRQTIGMNYYPTCPQPDLAFGLSSHSDFGSITLLMQDAEGLQVKKGDEWVNVKVIPNSFIVLIGDQLEILTNGHYKSVEHRVLTNTNKPRMSIGCFFGPHDSDKIGPIDKFISDDKPTVYKETMFGDYLKHGFGKELNGKSNLEFSIRRHTNVK\n",
      ">Azfi_s0003.g007795\n",
      "MDCTSEPLPPCLQELVDAGLSSVPSAYIRPPHERFIPPSHDLSSNAAQIPVINHGVPHDVMIEMRASCSRFFQQPPEMRNIYRSQSFDDPLAYSTSFNPAKEKANDWKDVLYVRDFPGNPVDGFGIAPDVCRFHLALFYAFLHFVYSTLGAFQVFRYEVARLAKQLYEAIFEGLGLSSICIEKTLPGIPWLAMCVNYYPRCPDPSITYGSTAHTDGGSLTILLQDDVAGLWIQKKNEWVQVKPLANSFVVNIGDQVEILSNGIYKSIKHTVLTNSERPRMSVACIFGPKEDENIAPIEDLVSEHQPARYKEVRFGDYLANVYNVELAKL\n",
      ">Azfi_s0005.g009422\n",
      "MSRAPAFGESGSSGSYFSETGSLLLMLSDNEAPSDRVGLLACLDSGFFYVVNHGIDRDLIQEVLHQSRKFFELPLSEKAKCLRNQNHRGYTPLFDETLDPSRQFQGDSKEGYYIGVEAPKDSHRASLCFYGPNIWPSEDLLPGWRDTMETYHKKTLNVASKICRLIALALNLEPEFFEKTGMMDNPMAFLRLLHYSGEKSIPEKGIFGAGAHSDWGFLTLIICDGTPGLQICRDKDEKSQLWESVEPVEGAFIVNLGDMLERWTNNIFRSTLHRVLISGKERYSIAFFLHGNYECSVECLETCQSEANPPKFPPVTNGEYLLERYGESHSSNPDSLIDSKPS\n",
      ">Azfi_s0015.g013952\n",
      "MGAPNPNPNPNPVVPPDLITDPDHVTPIDPAFIVPIEQRPSYRRSHPAIDRIPIIDLSPLHLQEQGLLKEATVEESCVSKEAAGKGDYKEREAIVREVGLACEEWGFFQVINHGIPSSYIQNLKEAARDFFTLPIEEKVKVKRSSENALGFNDGELTKNTRDWKEVFDIVTDGAYCLPSDDGDGDGDGDGDDHVQVFPNRWPSNLPMLRKACEEYVAEAEKLAFTLLELISESLGLPPDVFHEHFVSSGTSLFRLNHYPVCPAPHLALGVSRHKDIGALTILLQDEVGGLEVRRKDGEWIGIEPNTEALVINVGDLIQVYSNDKYNSVEHRVVVHENVDRYSFPLFFNPAHWVNVSPIKELLDDEHPPRYRPFNWGRYIKSRNDSNFKNLGVENRQIYHYAINV\n",
      ">Azfi_s0030.g024267\n",
      "MEMEKLIVGIKELVDDGLREVPPIYVRPPNDRPTGYNSVDDTNLPSQVQMPIIDISSLLLGATEDDPIAQPVIQQIAHACKEWGFFQVVNHGVSHNIIQDLRDAALKFFQLPAKERMCLNNQFFGSSVSYSTSFNPKYEKVREWKDTLSFCRFPGHCDGFQEAPTICKEQVLKYVGAVEMVAQILYKSILTSLEFNGELFSNFAPKISRVIMGINYYPTCPDPSLTLGLSGHSDVGFLTILHPSEVPGLQIKYKGDWVSVFPVHESAFVVNIADQVEILSNGKYKSIEHRVVTNRVKPRMSIACFFAPPEDTIVAPLPALLDEKNPPLYKATKFADYLHNFSTSGLLPNRGTLDFVRI\n"
     ]
    }
   ],
   "source": [
    "head data/$inseq.fasta"
   ]
  },
  {
   "cell_type": "markdown",
   "metadata": {
    "heading_collapsed": true
   },
   "source": [
    "# 2. Aligning\n",
    "\n",
    "Linsi is probably the most acurate mafft setting (as declared by the MAFFT authors). It is turned off by default in normal or auto mafft for alignments bigger than 200 sequences. \n",
    "However, reading the manual, einsi should be the better method, at least for gappy allignemnts or allignments with multiple domains.\n",
    "In this particular case, these two are very similar but I like the einsi allignment a bit better in the gaps.\n",
    "I assessed this on a big alligment of sel2-g4 with double guide sequences. \n",
    "I later removed these and started the process anew.\n",
    "The \"wrong\" allignments are removed from the repo, and I'm not re-creating allignments that I actually won't use. \n",
    "Hence, here I'm only creating a mafft-einsi alligment. \n",
    "Some old alligments are retained in Git history."
   ]
  },
  {
   "cell_type": "code",
   "execution_count": 7,
   "metadata": {
    "hidden": true
   },
   "outputs": [],
   "source": [
    "inseq=orthogroup_AtLDOX_AT4g22880_selection-v2_guide-v5"
   ]
  },
  {
   "cell_type": "code",
   "execution_count": null,
   "metadata": {
    "hidden": true
   },
   "outputs": [
    {
     "name": "stdout",
     "output_type": "stream",
     "text": [
      "(phyla_ans) (phyla_ans) (phyla_ans) "
     ]
    }
   ],
   "source": [
    "rm \"./data/alignments_raw/$inseq\"_aligned-mafft*\n",
    "if    [ ! -d ./data/alignments_raw/ ]\n",
    "then  mkdir  ./data/alignments_raw\n",
    "fi\n",
    "prefix=data/alignments_raw/\"$inseq\"_aligned-mafft-einsi\n",
    "if    [ ! -f \"$prefix\".fasta ]\n",
    "then  einsi --thread $(nproc) data/$inseq.fasta \\\n",
    "            >  \"$prefix\".fasta \\\n",
    "            2> \"$prefix\".log\n",
    "fi"
   ]
  },
  {
   "cell_type": "code",
   "execution_count": 21,
   "metadata": {
    "hidden": true
   },
   "outputs": [
    {
     "name": "stdout",
     "output_type": "stream",
     "text": [
      "If unsure which option to use, try 'mafft --auto input > output'.\n",
      "For more information, see 'mafft --help', 'mafft --man' and the mafft page.\n",
      "\n",
      "The default gap scoring scheme has been changed in version 7.110 (2013 Oct).\n",
      "It tends to insert more gaps into gap-rich regions than previous versions.\n",
      "To disable this change, add the --leavegappyregion option.\n",
      "\n",
      "Parameters for the E-INS-i option have been changed in version 7.243 (2015 Jun).\n",
      "To switch to the old parameters, use --oldgenafpair, instead of --genafpair.\n",
      "\n",
      "(phyla_ans) "
     ]
    },
    {
     "ename": "",
     "evalue": "1",
     "output_type": "error",
     "traceback": []
    }
   ],
   "source": [
    "tail ./data/alignments_raw/\"$inseq\"_aligned-*.log"
   ]
  },
  {
   "cell_type": "code",
   "execution_count": 22,
   "metadata": {
    "hidden": true,
    "scrolled": true
   },
   "outputs": [
    {
     "name": "stdout",
     "output_type": "stream",
     "text": [
      " 27M ./data/alignments_raw/orthogroup_AtLDOX_AT4g22880_selection-v2_guide-v5_aligned-mafft-einsi.fasta\n",
      "3.6M ./data/alignments_raw/orthogroup_AtLDOX_AT4g22880_selection-v2_guide-v5_aligned-mafft-einsi.log\n",
      "(phyla_ans) "
     ]
    },
    {
     "ename": "",
     "evalue": "1",
     "output_type": "error",
     "traceback": []
    }
   ],
   "source": [
    "ls ./data/alignments_raw/$inseq* -sh"
   ]
  },
  {
   "cell_type": "code",
   "execution_count": 23,
   "metadata": {
    "hidden": true
   },
   "outputs": [
    {
     "name": "stdout",
     "output_type": "stream",
     "text": [
      ">Azfi_s0092.g043107\n",
      "------------------------------------------------------------\n",
      "------------------------------------------------------------\n",
      "------------------------------------------------------------\n",
      "------------------------------------------------------------\n",
      "------------------------------------------------------------\n",
      "------------------------------------------------------------\n",
      "--------------MADTCT------------------PTTTLVAT--------------\n",
      "------------------------------------------------------------\n",
      "------------------------------------------------------------\n",
      "(phyla_ans) "
     ]
    },
    {
     "ename": "",
     "evalue": "1",
     "output_type": "error",
     "traceback": []
    }
   ],
   "source": [
    "head ./data/alignments_raw/\"$inseq\"_aligned-mafft*.fasta"
   ]
  },
  {
   "cell_type": "markdown",
   "metadata": {
    "hidden": true
   },
   "source": [
    "## snapshots of alignment\n",
    "Done manually with a quick trim."
   ]
  },
  {
   "cell_type": "markdown",
   "metadata": {
    "heading_collapsed": true
   },
   "source": [
    "# 3. Alignment trimming\n",
    "\n",
    "Odds are, your alignment is quite gappy which may confuse tree building algorithms. Often it is better to remove gappy columns in your alignment. Let's have a look at this with `trimAl`. Short for 'trim alignment' (I guess). No Artificial intelegence stuff going on here.\n",
    "\n",
    "As always, have a look at the help page."
   ]
  },
  {
   "cell_type": "code",
   "execution_count": 25,
   "metadata": {
    "hidden": true
   },
   "outputs": [
    {
     "name": "stdout",
     "output_type": "stream",
     "text": [
      "(phyla_ans) "
     ]
    },
    {
     "ename": "",
     "evalue": "1",
     "output_type": "error",
     "traceback": []
    }
   ],
   "source": [
    "inseq=orthogroup_AtLDOX_AT4g22880_selection-v2_guide-v5"
   ]
  },
  {
   "cell_type": "markdown",
   "metadata": {
    "hidden": true
   },
   "source": [
    "## 3.2 Tweak trimming parameters\n",
    "\n",
    "Alternatively, you may tweak your own trimming parameters like so. \n",
    "\n",
    "Everytime I change parameters, I change the variable `$trimappendix` to reflect those changes. Second, I explain briefly in a text cell why I chose to do so."
   ]
  },
  {
   "cell_type": "code",
   "execution_count": 26,
   "metadata": {
    "hidden": true,
    "scrolled": true
   },
   "outputs": [
    {
     "name": "stdout",
     "output_type": "stream",
     "text": [
      "\n",
      "trimAl v1.4.rev15 build[2013-12-17]. 2009-2013. Salvador Capella-Gutierrez and Toni Gabaldón.\n",
      "\n",
      "trimAl webpage: http://trimal.cgenomics.org\n",
      "\n",
      "This program is free software: you can redistribute it and/or modify \n",
      "it under the terms of the GNU General Public License as published by \n",
      "the Free Software Foundation, the last available version.\n",
      "\n",
      "Please cite:\n",
      "\t\ttrimAl: a tool for automated alignment trimming in large-scale phylogenetic analyses.\n",
      "\t\tSalvador Capella-Gutierrez; Jose M. Silla-Martinez; Toni Gabaldon.\n",
      "\t\tBioinformatics 2009, 25:1972-1973.\n",
      "\n",
      "Basic usage\n",
      "\ttrimal -in <inputfile> -out <outputfile> -(other options).\n",
      "\n",
      "Common options (for a complete list please see the User Guide or visit http://trimal.cgenomics.org):\n",
      "\n",
      "    -h                       Print this information and show some examples.\n",
      "    --version                Print the trimAl version.\n",
      "\n",
      "    -in <inputfile>          Input file in several formats (clustal, fasta, NBRF/PIR, nexus, phylip3.2, phylip).\n",
      "\n",
      "    -compareset <inputfile>  Input list of paths for the files containing the alignments to compare.\n",
      "    -forceselect <inputfile> Force selection of the given input file in the files comparison method.\n",
      "\n",
      "    -backtrans <inputfile>   Use a Coding Sequences file to get a backtranslation for a given AA alignment\n",
      "    -ignorestopcodon         Ignore stop codons in the input coding sequences\n",
      "    -splitbystopcodon        Split input coding sequences up to first stop codon appearance\n",
      "\n",
      "    -matrix <inpufile>       Input file for user-defined similarity matrix (default is Blosum62).\n",
      "\n",
      "    -out <outputfile>        Output alignment in the same input format (default stdout). (default input format)\n",
      "    -htmlout <outputfile>    Get a summary of trimal's work in an HTML file.\n",
      "\n",
      "    -keepheader              Keep original sequence header including non-alphanumeric characters.\n",
      "                             Only available for input FASTA format files. (future versions will extend this feature)\n",
      "\n",
      "    -nbrf                    Output file in NBRF/PIR format\n",
      "    -mega                    Output file in MEGA format\n",
      "    -nexus                   Output file in NEXUS format\n",
      "    -clustal                 Output file in CLUSTAL format\n",
      "\n",
      "    -fasta                   Output file in FASTA format\n",
      "    -fasta_m10               Output file in FASTA format. Sequences name length up to 10 characters.\n",
      "\n",
      "    -phylip                  Output file in PHYLIP/PHYLIP4 format\n",
      "    -phylip_m10              Output file in PHYLIP/PHYLIP4 format. Sequences name length up to 10 characters.\n",
      "    -phylip_paml             Output file in PHYLIP format compatible with PAML\n",
      "    -phylip_paml_m10         Output file in PHYLIP format compatible with PAML. Sequences name length up to 10 characters.\n",
      "    -phylip3.2               Output file in PHYLIP3.2 format\n",
      "    -phylip3.2_m10           Output file in PHYLIP3.2 format. Sequences name length up to 10 characters.\n",
      "\n",
      "    -complementary           Get the complementary alignment.\n",
      "    -colnumbering            Get the relationship between the columns in the old and new alignment.\n",
      "\n",
      "    -selectcols { n,l,m-k }  Selection of columns to be removed from the alignment. Range: [0 - (Number of Columns - 1)]. (see User Guide).\n",
      "    -selectseqs { n,l,m-k }  Selection of sequences to be removed from the alignment. Range: [0 - (Number of Sequences - 1)]. (see User Guide).\n",
      "\n",
      "    -gt -gapthreshold <n>    1 - (fraction of sequences with a gap allowed). Range: [0 - 1]\n",
      "    -st -simthreshold <n>    Minimum average similarity allowed. Range: [0 - 1]\n",
      "    -ct -conthreshold <n>    Minimum consistency value allowed.Range: [0 - 1]\n",
      "    -cons <n>                Minimum percentage of the positions in the original alignment to conserve. Range: [0 - 100]\n",
      "\n",
      "    -nogaps                  Remove all positions with gaps in the alignment.\n",
      "    -noallgaps               Remove columns composed only by gaps.\n",
      "    -keepseqs                Keep sequences even if they are composed only by gaps.\n",
      "\n",
      "    -gappyout                Use automated selection on \"gappyout\" mode. This method only uses information based on gaps' distribution. (see User Guide).\n",
      "    -strict                  Use automated selection on \"strict\" mode. (see User Guide).\n",
      "    -strictplus              Use automated selection on \"strictplus\" mode. (see User Guide).\n",
      "                             (Optimized for Neighbour Joining phylogenetic tree reconstruction).\n",
      "\n",
      "    -automated1              Use a heuristic selection of the automatic method based on similarity statistics. (see User Guide). (Optimized for Maximum Likelihood phylogenetic tree reconstruction).\n",
      "\n",
      "    -terminalonly            Only columns out of internal boundaries (first and last column without gaps) are \n",
      "                             candidated to be trimmed depending on the applied method\n",
      "    -block <n>               Minimum column block size to be kept in the trimmed alignment. Available with manual and automatic (gappyout) methods\n",
      "\n",
      "    -resoverlap              Minimum overlap of a positions with other positions in the column to be considered a \"good position\". Range: [0 - 1]. (see User Guide).\n",
      "    -seqoverlap              Minimum percentage of \"good positions\" that a sequence must have in order to be conserved. Range: [0 - 100](see User Guide).\n",
      "\n",
      "    -clusters <n>            Get the most Nth representatives sequences from a given alignment. Range: [1 - (Number of sequences)]\n",
      "    -maxidentity <n>         Get the representatives sequences for a given identity threshold. Range: [0 - 1].\n",
      "\n",
      "    -w <n>                   (half) Window size, score of position i is the average of the window (i - n) to (i + n).\n",
      "    -gw <n>                  (half) Window size only applies to statistics/methods based on Gaps.\n",
      "    -sw <n>                  (half) Window size only applies to statistics/methods based on Similarity.\n",
      "    -cw <n>                  (half) Window size only applies to statistics/methods based on Consistency.\n",
      "\n",
      "    -sgc                     Print gap scores for each column in the input alignment.\n",
      "    -sgt                     Print accumulated gap scores for the input alignment.\n",
      "    -ssc                     Print similarity scores for each column in the input alignment.\n",
      "    -sst                     Print accumulated similarity scores for the input alignment.\n",
      "    -sfc                     Print sum-of-pairs scores for each column from the selected alignment\n",
      "    -sft                     Print accumulated sum-of-pairs scores for the selected alignment\n",
      "    -sident                  Print identity scores for all sequences in the input alignment. (see User Guide).\n",
      "\n",
      "Some Examples:\n",
      "\n",
      "1) Removes all positions in the alignment with gaps in 10% or more of\n",
      "   the sequences, unless this leaves less than 60% of original alignment. \n",
      "   In such case, print the 60% best (with less gaps) positions.\n",
      "\n",
      "   trimal -in <inputfile> -out <outputfile> -gt 0.9 -cons 60\n",
      "\n",
      "2) As above but, the gap score is averaged over a window starting\n",
      "   3 positions before and ending 3 positions after each column.\n",
      "\n",
      "   trimal -in <inputfile> -out <outputfile> -gt 0.9 -cons 60 -w 3\n",
      "\n",
      "3) Use an automatic method to decide optimal thresholds, based in the gap scores\n",
      "   from input alignment. (see User Guide for details).\n",
      "\n",
      "   trimal -in <inputfile> -out <outputfile> -gappyout\n",
      "\n",
      "4) Use automatic methods to decide optimal thresholds, based on the combination \n",
      "   of gap and similarity scores. (see User Guide for details).\n",
      "\n",
      "   trimal -in <inputfile> -out <outputfile> -strictplus\n",
      "\n",
      "5) Use an heuristic to decide the optimal method for trimming the alignment. \n",
      "   (see User Guide for details).\n",
      "\n",
      "   trimal -in <inputfile> -out <outputfile> -automated1\n",
      "\n",
      "6) Use residues and sequences overlap thresholds to delete some sequences from the \n",
      "   alignemnt. (see User Guide for details).\n",
      "\n",
      "   trimal -in <inputfile> -out <outputfile> -resoverlap 0.8 -seqoverlap 75\n",
      "\n",
      "7) Selection of columns to be deleted from the alignment. The selection can \n",
      "   be a column number or a column number interval. Start from 0\n",
      "\n",
      "   trimal -in <inputfile> -out <outputfile> -selectcols { 0,2,3,10,45-60,68,70-78 }\n",
      "\n",
      "8) Get the complementary alignment from the alignment previously trimmed.\n",
      "\n",
      "   trimal -in <inputfile> -out <outputfile> -selectcols { 0,2,3,10,45-60,68,70-78 } -complementary\n"
     ]
    },
    {
     "name": "stdout",
     "output_type": "stream",
     "text": [
      "\n",
      "9) Selection of sequences to be deleted from the alignment. Start in 0\n",
      "\n",
      "   trimal -in <inputfile> -out <outputfile> -selectseqs { 2,4,8-12 } \n",
      "\n",
      "10) Select the 5 most representative sequences from the alignment\n",
      "\n",
      "   trimal -in <inputfile> -out <outputfile> -clusters 5 \n",
      "\n",
      "(phyla_ans) "
     ]
    },
    {
     "ename": "",
     "evalue": "1",
     "output_type": "error",
     "traceback": []
    }
   ],
   "source": [
    "trimal -h"
   ]
  },
  {
   "cell_type": "markdown",
   "metadata": {
    "heading_collapsed": true,
    "hidden": true
   },
   "source": [
    "#### gap threshold\n",
    "\n",
    "This is a somewhat overdone parallel loop/function to run trimal with various settings and get some numbers out of it."
   ]
  },
  {
   "cell_type": "code",
   "execution_count": 76,
   "metadata": {
    "hidden": true,
    "scrolled": true
   },
   "outputs": [
    {
     "name": "stdout",
     "output_type": "stream",
     "text": [
      "(phyla_ans) (phyla_ans) (phyla_ans) (phyla_ans) (phyla_ans) (phyla_ans) (phyla_ans) (phyla_ans) (phyla_ans) (phyla_ans) (phyla_ans) (phyla_ans) (phyla_ans) (phyla_ans) (phyla_ans) (phyla_ans) (phyla_ans) trim-gt80\n",
      "trim-gt70\n",
      "trim-gt40\n",
      "trim-gt60\n",
      "trim-gt50\n",
      "trim-gt10\n",
      "trim-gt20\n",
      "trim-gt30\n",
      "trim-gt08\n",
      "trim-gt06\n",
      "trim-gt04\n",
      "trim-gt02\n",
      "trim-gt90\n",
      "(phyla_ans) "
     ]
    },
    {
     "ename": "",
     "evalue": "1",
     "output_type": "error",
     "traceback": []
    }
   ],
   "source": [
    "dir=data/alignments_trimmed\n",
    "if    [ ! -d \"$dir\" ]\n",
    "then  mkdir  \"$dir\"\n",
    "fi\n",
    "#rm $dir/allignment_dimensions.tab\n",
    "#rm $dir/allignment_gap-freq.tab \n",
    "CPU=$(nproc)\n",
    "\n",
    "# set arrays to itterate over\n",
    "allignments=(data/alignments_raw/\"$inseq\"_aligned*einsi*.fasta)\n",
    "gt=( 02 04 06 08 10 20 30 40 50 60 70 80 90 )\n",
    "res=1 # kept for compatibility\n",
    "seq=1 # kept for compatibility\n",
    "\n",
    "# export trimAL function so parallel can find it\n",
    "function trimAL {\n",
    "  # actually run trimAL for this allignment and settings combo\n",
    "  trimappendix=trim-gt\"$2\"\n",
    "  echo $trimappendix\n",
    "  appendix=$(echo $1 | cut -d '/' -f 3- | sed \"s/$6\\_//\" | sed \"s/.fasta//\")\n",
    "  out=\"$5\"/\"$6\"_\"$appendix\"_\"$trimappendix\"\n",
    "  if   [ ! -f \"$out\".fasta ]\n",
    "  then trimal -in  $1           \\\n",
    "              -out \"$out\".fasta \\\n",
    "              -gt  .$2          \\\n",
    "              >  $out.std       \\\n",
    "              2> $out.err\n",
    "  fi\n",
    "  # this takes a lot of space: make a png snapshot of every allignment\n",
    "  if    [ ! -f $prefix.png ]\n",
    "  then  jalview -nodisplay       \\\n",
    "                -open $out.fasta \\\n",
    "                -colour CLUSTAL  \\\n",
    "                -png  $out.png > /dev/null 2> /dev/null \n",
    "  fi\n",
    "\n",
    "  # determine the allignment width and length for each allignment\n",
    "  if   [ -f \"$out\".fasta ]\n",
    "  then width=$(head -n 100 \"$out\".fasta                                                                     \\\n",
    "               | awk '/^>/ {printf(\"%s%s\\n\",(N>0?\"\\n\":\"\"),$0);N++;next;} {printf($0);} END {printf(\"\\n\");}' \\\n",
    "               | head -n 2  \\\n",
    "               | tail -n 1  \\\n",
    "               | wc -c)\n",
    "       length=$(grep '>' -c \"$out\".fasta )\n",
    "       tab_ID=$(echo -e \"$6\\t$appendix\\t$2\\t$3\\t$4\")\n",
    "       echo -e \"$tab_ID\\twidth\\t$width\"   >> $5/allignment_dimensions.tab\n",
    "       echo -e \"$tab_ID\\tlength\\t$length\" >> $5/allignment_dimensions.tab\n",
    "    \n",
    "       # determine the gaps per sequence in this alligmnent and store it in a table.\n",
    "       while read line\n",
    "       do    echo $line            \\\n",
    "             | sed -E 's/[A-Z]//g' \\\n",
    "             | wc -c\n",
    "       done < <(cat \"$out\".fasta                                                                             \\\n",
    "                | awk '/^>/ {printf(\"%s%s\\n\",(N>0?\"\\n\":\"\"),$0);N++;next;} {printf($0);} END {printf(\"\\n\");}' \\\n",
    "                | grep -v '>'\n",
    "                )                         \\\n",
    "        | sed \"s/^/$tab_ID/g\" >> $5/allignment_gap-freq.tab \n",
    "   fi\n",
    "}\n",
    "export -f trimAL\n",
    "\n",
    "# run the trimAL sessions in parallel\n",
    "parallel -j \"$CPU\" trimAL {1} {2} {3} {4} {5} {6}   \\\n",
    "         ::: ${allignments[@]}                      \\\n",
    "         ::: ${gt[@]}                               \\\n",
    "         ::: ${res[@]}                              \\\n",
    "         ::: ${seq[@]}                              \\\n",
    "         ::: \"$dir\"                                 \\\n",
    "         ::: \"$inseq\""
   ]
  },
  {
   "cell_type": "code",
   "execution_count": 31,
   "metadata": {
    "hidden": true
   },
   "outputs": [
    {
     "name": "stdout",
     "output_type": "stream",
     "text": [
      "02\twidth\t557\n",
      "04\twidth\t468\n",
      "06\twidth\t433\n",
      "08\twidth\t403\n",
      "10\twidth\t382\n",
      "20\twidth\t354\n",
      "30\twidth\t346\n",
      "40\twidth\t337\n",
      "50\twidth\t324\n",
      "60\twidth\t294\n",
      "70\twidth\t276\n",
      "80\twidth\t185\n",
      "(phyla_ans) "
     ]
    },
    {
     "ename": "",
     "evalue": "1",
     "output_type": "error",
     "traceback": []
    }
   ],
   "source": [
    "cut -f 3,6- data/alignments_trimmed/allignment_dimensions.tab | grep width | sort -k1n\n"
   ]
  },
  {
   "cell_type": "markdown",
   "metadata": {
    "hidden": true
   },
   "source": [
    "Based on the snapshots of the alignments, I'm going with gap threshold 30 %"
   ]
  },
  {
   "cell_type": "markdown",
   "metadata": {
    "hidden": true
   },
   "source": [
    "#### seq content"
   ]
  },
  {
   "cell_type": "code",
   "execution_count": 64,
   "metadata": {
    "hidden": true
   },
   "outputs": [
    {
     "name": "stdout",
     "output_type": "stream",
     "text": [
      "(phyla_ans) "
     ]
    },
    {
     "ename": "",
     "evalue": "1",
     "output_type": "error",
     "traceback": []
    }
   ],
   "source": [
    "#rm data/alignments_trimmed/orthogroup_AtLDOX_AT4g22880_selection-v2_guide-v5*"
   ]
  },
  {
   "cell_type": "code",
   "execution_count": 66,
   "metadata": {
    "hidden": true,
    "scrolled": true
   },
   "outputs": [
    {
     "name": "stdout",
     "output_type": "stream",
     "text": [
      "(phyla_ans) (phyla_ans) (phyla_ans) (phyla_ans) (phyla_ans) (phyla_ans) (phyla_ans) (phyla_ans) (phyla_ans) (phyla_ans) (phyla_ans) (phyla_ans) (phyla_ans) (phyla_ans) (phyla_ans) (phyla_ans) "
     ]
    }
   ],
   "source": [
    "dir=data/alignments_trimmed\n",
    "if    [ ! -d \"$dir\" ]\n",
    "then  mkdir  \"$dir\"\n",
    "fi\n",
    "\n",
    "CPU=$(nproc)\n",
    "\n",
    "# set arrays to itterate over\n",
    "allignments=data/alignments_raw/\"$inseq\"_aligned*einsi*.fasta\n",
    "gt=( 3 )\n",
    "res=( .1 .3 .5 .7 .9 .95 .97 .98 .99 )\n",
    "seq=( 10 30 50 70 90  95  97  98  99 )\n",
    "\n",
    "\n",
    "# export trimAL function so parallel can find it\n",
    "function trimAL {\n",
    "  # actually run trimAL for this allignment and settings combo\n",
    "  trimappendix=trim-gt\"$2\"-res\"$3\"-seq\"$4\"\n",
    "  echo $trimappendix\n",
    "  appendix=$(echo $1 | cut -d '/' -f 3- | sed \"s/$6\\_//\" | sed \"s/.fasta//\")\n",
    "  out=\"$5\"/\"$6\"_\"$appendix\"_\"$trimappendix\"\n",
    "  if   [ ! -f \"$out\".fasta ]\n",
    "  then trimal -in  $1           \\\n",
    "              -out \"$out\".fasta \\\n",
    "              -resoverlap $3    \\\n",
    "              -seqoverlap $4    \\\n",
    "              -gt  .$2          \\\n",
    "              >  $out.std       \\\n",
    "              2> $out.err\n",
    "  fi\n",
    "  # this takes a lot of space: make a png snapshot of every allignment\n",
    "  if    [ ! -f $prefix.png ]\n",
    "  then  jalview -nodisplay \\\n",
    "                -open $out.fasta \\\n",
    "                -colour CLUSTAL \\\n",
    "                -png  $out.png > /dev/null 2> /dev/null \n",
    "  fi\n",
    "\n",
    "  # determine the allignment width and length for each allignment\n",
    "  if   [ -f \"$out\".fasta ]\n",
    "  then width=$(head -n 100 \"$out\".fasta                                                                     \\\n",
    "               | awk '/^>/ {printf(\"%s%s\\n\",(N>0?\"\\n\":\"\"),$0);N++;next;} {printf($0);} END {printf(\"\\n\");}' \\\n",
    "               | head -n 2  \\\n",
    "               | tail -n 1  \\\n",
    "               | wc -c)\n",
    "       length=$(grep '>' -c \"$out\".fasta )\n",
    "       tab_ID=$(echo -e \"$6\\t$appendix\\t$2\\t$3\\t$4\")\n",
    "       echo -e \"$tab_ID\\twidth\\t$width\"   >> $5/allignment_dimensions.tab\n",
    "       echo -e \"$tab_ID\\tlength\\t$length\" >> $5/allignment_dimensions.tab\n",
    "    \n",
    "       # determine the gaps per sequence in this alligmnent and store it in a table.\n",
    "       while read line\n",
    "       do    echo $line            \\\n",
    "             | sed -E 's/[A-Z]//g' \\\n",
    "             | wc -c\n",
    "       done < <(cat \"$out\".fasta                                                                             \\\n",
    "                | awk '/^>/ {printf(\"%s%s\\n\",(N>0?\"\\n\":\"\"),$0);N++;next;} {printf($0);} END {printf(\"\\n\");}' \\\n",
    "                | grep -v '>'\n",
    "                )                         \\\n",
    "        | sed \"s/^/$tab_ID/g\" >> $5/allignment_gap-freq.tab \n",
    "   fi\n",
    "}\n",
    "export -f trimAL\n",
    "# run the trimAL sessions in parallel\n",
    "parallel -j \"$CPU\" trimAL {1} {2} {3} {4} {5} {6} \\\n",
    "         ::: ${allignments[@]}                      \\\n",
    "         ::: ${gt[@]}                               \\\n",
    "         ::: ${res[@]}                              \\\n",
    "         ::: ${seq[@]}                              \\\n",
    "         ::: \"$dir\"                                 \\\n",
    "         ::: \"$inseq\""
   ]
  },
  {
   "cell_type": "code",
   "execution_count": null,
   "metadata": {
    "scrolled": false
   },
   "outputs": [],
   "source": [
    "ls data/alignments_trimmed/$inseq*einsi* -sh"
   ]
  },
  {
   "cell_type": "code",
   "execution_count": null,
   "metadata": {
    "scrolled": true
   },
   "outputs": [],
   "source": [
    "ls data/alignments_trimmed/*.png -sh"
   ]
  },
  {
   "cell_type": "markdown",
   "metadata": {},
   "source": [
    "# 4. Fast tree building\n",
    "Here we'll make fast trees: not acurate, no bootstraps, but fast. This gives us an idea of the output and how we will process it. Building 'propper' trees can take days sometimes weeks, so it's better to be sure you have all sequences in there you want before you start. \n",
    "\n",
    "I use two ways to make thise fast trees, first with a program called `fasttree` and second with the programm `iqtree` with the `-fast` parameter. My gut feeling is that the latter is a bit more acurate but takes a couple of minutes. Fasttree takes seconds.\n",
    "\n",
    "I arbitrarily consider trees to be analyses and not data, hence I store these in the `analyses` directory.\n",
    "\n",
    "Since these trees run fast (just take a second to consider how rediculous that sounds) I propose to run these in loops again, taking all the trimmed alignments that were made earlier. The trees run in parallel on one CPU. If you're running many trees (way more than you have computing cores) then don't run these in the background. Practically, that means removing the `&` character almost at the end of the loop."
   ]
  },
  {
   "cell_type": "markdown",
   "metadata": {},
   "source": [
    "## 4.2 IQtree -fast\n",
    "\n",
    "And here is the same but for running iqtree. I picked some random model here, but substitute it by anything you like better or have good experience with it the past."
   ]
  },
  {
   "cell_type": "code",
   "execution_count": null,
   "metadata": {},
   "outputs": [
    {
     "name": "stdout",
     "output_type": "stream",
     "text": [
      "(phylogenetics) making a iqtree fast tree of file data/alignments_trimmed/orthogroup_AtLDOX_AT4g22880_selection-v1_guide-v1_aligned-mafft_trim-gt4-seq95-res90.fasta\n",
      "aligned-mafft_trim-gt4-seq95-res90\n",
      "[1] 584995\n",
      "(phylogenetics) "
     ]
    }
   ],
   "source": [
    "#for a in data/alignments_trimmed/\"$inseq\"_aligned*.fasta\n",
    "conda activate phylogenetics\n",
    "for a in data/alignments_trimmed/orthogroup_AtLDOX_AT4g22880_selection-v1_guide-v1_aligned-mafft_trim-gt4-seq95-res90.fasta\n",
    "do  echo \"making a iqtree fast tree of file $a\"\n",
    "    appendix=$(echo $a | cut -d '/' -f 3- | sed \"s/$inseq\\_//\" | sed \"s/.fasta//\")\n",
    "    echo $appendix\n",
    "    if   [ ! -d   analyses/\"$inseq\"_fasttrees/\"$appendix\" ]\n",
    "    then mkdir -p analyses/\"$inseq\"_fasttrees/\"$appendix\"\n",
    "    fi\n",
    "    \n",
    "    iqprefix=analyses/\"$inseq\"_fasttrees/\"$appendix\"/\"$inseq\"_\"$appendix\"_iqtree-fast\n",
    "    if   [ ! -f \"$iqprefix\".iqtree ]\n",
    "    then nice iqtree -s $a -fast \\\n",
    "                     -m 'LG+R7' \\\n",
    "                     -pre \"$iqprefix\" \\\n",
    "                     > \"$iqprefix\".stdout \\\n",
    "                     2> \"$iqprefix\".stderr &\n",
    "    fi\n",
    "done\n",
    "wait\n",
    "conda deactivate"
   ]
  },
  {
   "cell_type": "markdown",
   "metadata": {
    "heading_collapsed": true
   },
   "source": [
    "## 4.3 Visualise your fast trees. \n",
    "\n",
    "To visualise your trees, you perhaps already have something installed like mega, seaview, etc. Otherwise you can upload the tree file to [iToL](https://itol.embl.de/) (my prefered method) or any other website that visualises trees. See section 6 for uploading your trees to iToL.\n",
    "\n",
    "Alternativelly, we can try to get a quick snapshot here in the notebook:"
   ]
  },
  {
   "cell_type": "markdown",
   "metadata": {
    "hidden": true
   },
   "source": [
    "### conclusions\n",
    "\n",
    "A first fast-tree shows us plenty of interesting stuff already:\n",
    "ANS and FLS cluster together, and distincly from F3H. \n",
    "There's however, a bunch of other clear groups that remain uncharacterised. \n",
    "To remidy this, Erbil has provided a new set of guide sequences to better illustratie the evolution of this big family of genes. \n",
    "I'm leaving the UFBootstrap run on for now, to confirm the fasttree results, but then I'll move on to a version with guide-2. \n",
    "The iq-fast-tree is online [here](https://itol.embl.de/tree/9421021579222211612506891) and looks like  this:\n",
    "\n",
    "![](analyses/orthogroup_AtLDOX_AT4g22880_selection-v1_guide-v1_fasttrees/aligned-mafft_trim-gt4-seq95-res90/orthogroup_AtLDOX_AT4g22880_selection-v1_guide-v1_aligned-mafft_trim-gt4-seq95-res90_iqtree-fast.svg)"
   ]
  },
  {
   "cell_type": "markdown",
   "metadata": {
    "heading_collapsed": true
   },
   "source": [
    "# 5. Building trees with IQtree \n",
    "\n",
    "Finally, we're at the stage to build propper maximum likelyhood phylogenetic trees! Based on your previous results, you should have one or two trimmed alignments you want to make a tree of. There is several choices to make still: a model of evolution and a bootstrapping method.\n",
    "\n",
    "**modelfinder**\n",
    "\n",
    "IQtree is a state-of-the art tree buildling program, which has a model finder algorithm included! This can take a couple of hours, so be sure to do this only once. There is two model finder options, a quick one with some often used models: `-m TEST` or an extended modelfinder, using more models of evolution and substitution: `-m MFP`. I recommend the latter. Once you have your best-fit model (for example: 'LG+R7') then use this model when you build more trees from the same alignment: `-m 'LG+R7'`\n",
    "\n",
    "**bootstrapping**\n",
    "\n",
    "Normal or 'non-parametric' bootstrapping can take quite a long time; I have had trees running for weeks. Hence there is alternatives that are a lot faster but might over or underestimate the bootstrap values if your alignment doesn't fit your model well. To use 'normal bootstraps' the minimum is 100. That's why I like to to 200 to be safe, by adding the option `-b 200`.\n",
    "\n",
    "Alternativelly, there is the 'ultrafast bootstrap' option in IQtree. The minumum for this is 1000 bootstraps, so I'd like to do double by including the parameter: `-bb 2000`. Additionally, I highly recommend also running the approximate likelyhood ratio test for 2000 bootstraps at the same time by including parameters `-alrt 2000`. This adds a minimal amount of run time and makes interpretation of your tree a lot more reliable.\n",
    "\n",
    "As the [IQtree FAQ](http://www.iqtree.org/doc/Frequently-Asked-Questions#how-do-i-interpret-ultrafast-bootstrap-ufboot-support-values) says: typically you start believing a clade when the ultra fast bootstraps => 95 and alrt => 80. Interpretation of these values is not linear like 'normal' bootstrap, hence if you lower the threshold of ultrafast bootstraps to 90, you will likely enormously overestimate your results. \n",
    "\n",
    "**other command-line options**\n",
    "\n",
    "In the commandline I wrote below, I instruct iqtree to use no more CPU cores than your computer has, but also to find the optimum amount of cores (more is not always better). Second, a prefix is defined to store the different trees that IQtree wil make.\n",
    "\n",
    "**More info**\n",
    "* iqtree tutorial: http://www.iqtree.org/doc/Tutorial\n",
    "* aLRT: https://www.ncbi.nlm.nih.gov/pubmed/16785212\n",
    "\n",
    "\n",
    "\n"
   ]
  },
  {
   "cell_type": "markdown",
   "metadata": {
    "hidden": true
   },
   "source": [
    "## running IQtree\n",
    "\n",
    "Now these are all trimmed alignments you have available. \n",
    "Choose one to start with (based on your fasttrees or inspections of your alignments).\n",
    "\n",
    "Make sure that \n",
    "1. the path to this alignment is the variable `$a` \n",
    "2. you choose an appendix based on your iqtree settings"
   ]
  },
  {
   "cell_type": "code",
   "execution_count": null,
   "metadata": {
    "hidden": true
   },
   "outputs": [],
   "source": [
    "ls data/alignments_trimmed/\"$inseq\"_aligned*fasta"
   ]
  },
  {
   "cell_type": "code",
   "execution_count": null,
   "metadata": {
    "hidden": true
   },
   "outputs": [],
   "source": [
    "a=data/alignments_trimmed/orthogroup_AtLDOX_AT4g22880_selection-v1_guide-v1_aligned-mafft_trim-gt4-seq95-res90.fasta\n",
    "\n",
    "#iqpendix='iqtree-b200'\n",
    "iqpendix='iqtree-bb2000-alrt2000'\n",
    "\n",
    "echo \"making a tree of file $a\"\n",
    "echo \"The first lines of alignment $a look like this\"\n",
    "head $a\n",
    "\n",
    "file_appendix=$(echo $a | cut -d '/' -f 3- | sed \"s/$inseq\\_//\" | sed \"s/.fasta//\")\n",
    "echo \"Making a directory $file_appendix to store trees (name based on alignment filename)\"\n",
    "\n",
    "if   [ ! -d    analyses/\"$inseq\"_trees/\"$file_appendix\" ]\n",
    "then mkdir -p  analyses/\"$inseq\"_trees/\"$file_appendix\" \n",
    "fi\n",
    "\n",
    "iqprefix=analyses/\"$inseq\"_trees/\"$file_appendix\"/\"$inseq\"_\"$file_appendix\"_\"$iqpendix\"\n",
    "if   [ ! -f \"$iqprefix\".tree ]\n",
    "then nice iqtree -s $a \\\n",
    "                 -m MFP \\\n",
    "                 -bb 2000 \\\n",
    "                 -alrt 2000 \\\n",
    "                 -nt AUTO \\\n",
    "                 -ntmax $(nproc)  \\\n",
    "                 -pre  \"$iqprefix\" \\\n",
    "                 2>   \"$iqprefix\".stderr \\\n",
    "                 >    \"$iqprefix\".stdout \\\n",
    "                 && cat \"$iqprefix\".out | mail -s ANS_IQtree_run laura.w.dijkhuizen@gmail.com\n",
    "fi"
   ]
  },
  {
   "cell_type": "code",
   "execution_count": null,
   "metadata": {
    "hidden": true
   },
   "outputs": [],
   "source": [
    "ls $iqprefix* -1"
   ]
  },
  {
   "cell_type": "markdown",
   "metadata": {
    "hidden": true
   },
   "source": [
    "You can have a look at the last lines of your log file like this:"
   ]
  },
  {
   "cell_type": "code",
   "execution_count": null,
   "metadata": {
    "hidden": true
   },
   "outputs": [],
   "source": [
    "tail -n 40 $iqprefix.log"
   ]
  },
  {
   "cell_type": "markdown",
   "metadata": {
    "hidden": true
   },
   "source": [
    "Are you content with your tree? Great news! If you want to do another run, I recommend copying the cell above and editing the copy. That way you keep the code for all trees you made. Don't forget to explain what you observed, why you're making a new tree, and what you're changing (remember this is your labjournal). \n",
    "\n",
    "# tree storage\n",
    "\n",
    "For tree storage and sharing, I have yet to encounter a better tool than EMBLs [iToL](https://itol.embl.de/). It's a great interface for exploring and sharing trees with colleagues. You can browse to the treefile IQtree created on your computer and upload it to iToL. Alternativelly, you can copy paste the contents of the file to iToL. Make sure to keep the original filename as well! This file name now contains a brief summary of how this tree was made."
   ]
  },
  {
   "cell_type": "markdown",
   "metadata": {
    "hidden": true
   },
   "source": [
    "## conclusion\n",
    "preliminary: A tree like this, although it takes a while to calculate, succedes in categorising Azolla ANS-like sequences into specific groups of this big DOX gene family. \n",
    "However, propper labels for certain groups are still missing, to addres this I'll implement Erbils second version of the ANS guide sequences. Additionally, I may find some zea mays, arabidopsis sequences in the different groups.\n",
    "\n",
    "There's distinct clades, often with members of all big plant groups, but the speciation pattern isn't always nice. To conclude about the evolution of any one clade internally, a separate tree of only that clade should be made with dedicated re-alignment and tree inference."
   ]
  }
 ],
 "metadata": {
  "kernelspec": {
   "display_name": "Bash",
   "language": "bash",
   "name": "bash"
  },
  "language_info": {
   "codemirror_mode": "shell",
   "file_extension": ".sh",
   "mimetype": "text/x-sh",
   "name": "bash"
  }
 },
 "nbformat": 4,
 "nbformat_minor": 2
}
