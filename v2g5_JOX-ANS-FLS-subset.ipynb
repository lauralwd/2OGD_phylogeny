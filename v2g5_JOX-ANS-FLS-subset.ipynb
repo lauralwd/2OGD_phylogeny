{
 "cells": [
  {
   "cell_type": "markdown",
   "id": "28800535",
   "metadata": {},
   "source": [
    "Here I'm making a better non-parametric tree of only a subset of sequences from the bigger v2g5 tree.\n",
    "The aim is to get a better resolution on the disctiotion between JOX, ANS and FLS clades.\n",
    "This distinction holds up in the bigger parametric tree methods reproducibly, although not all nodes of interest have sufficient bootstrap support.\n",
    "With a non-parametric method, I aim to get a better idea of how reliable these nodes are.\n",
    "\n",
    "**data**\n",
    "\n",
    "I'm working with a subset of sequences of the JOX, ANS and FLS clades, retrieved from the v1g3 and the v2g5 trees. These subsets are redundant so they should be deduplicated first.\n",
    "\n",
    "**approach**\n",
    "I'll get the sequences from previous allignments, build a mafft tree, trim, attampt prank indelrealignment with a iqtree guide-tree, and then build a non-parametric tree with 200 bootstrap runs."
   ]
  },
  {
   "cell_type": "markdown",
   "id": "06f0c904",
   "metadata": {},
   "source": [
    "deduplicate the subset list:"
   ]
  },
  {
   "cell_type": "code",
   "execution_count": 10,
   "id": "0bb8c9f2",
   "metadata": {
    "scrolled": true
   },
   "outputs": [
    {
     "name": "stdout",
     "output_type": "stream",
     "text": [
      "\u001b[?2004h\u001b[?2004l"
     ]
    },
    {
     "ename": "",
     "evalue": "1",
     "output_type": "error",
     "traceback": []
    }
   ],
   "source": [
    "sort data/v2g5_subset-ids.txt | uniq | tr ' ' _ > data/temp.txt\n",
    "mv data/temp.txt data/v2g5_subset-ids.txt"
   ]
  },
  {
   "cell_type": "markdown",
   "id": "57aea111",
   "metadata": {},
   "source": [
    "Make a fasta from this subset list"
   ]
  },
  {
   "cell_type": "code",
   "execution_count": 14,
   "id": "d63ae86a",
   "metadata": {},
   "outputs": [
    {
     "name": "stdout",
     "output_type": "stream",
     "text": [
      "\u001b[?2004h\u001b[?2004l\u001b[?2004l\u001b[?2004l\u001b[?2004l"
     ]
    },
    {
     "ename": "",
     "evalue": "1",
     "output_type": "error",
     "traceback": []
    }
   ],
   "source": [
    "grep -f data/v2g5_subset-ids.txt \\\n",
    "     -A 1 \\\n",
    "     --no-group-sep \\\n",
    "     data/orthogroup_AtLDOX_AT4g22880_selection-v2_guide-v5.fasta \\\n",
    "> data/v2g5_JOX-ANS-FLS-subset.fasta"
   ]
  }
 ],
 "metadata": {
  "kernelspec": {
   "display_name": "Bash",
   "language": "bash",
   "name": "bash"
  },
  "language_info": {
   "codemirror_mode": "shell",
   "file_extension": ".sh",
   "mimetype": "text/x-sh",
   "name": "bash"
  }
 },
 "nbformat": 4,
 "nbformat_minor": 5
}
