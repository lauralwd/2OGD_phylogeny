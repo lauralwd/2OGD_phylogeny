{
 "cells": [
  {
   "cell_type": "markdown",
   "id": "52ed7782",
   "metadata": {},
   "source": [
    "Here I'm making a better non-parametric tree of only a subset of sequences from the bigger v2g5 tree.\n",
    "The aim is to get a better resolution on the disctiotion between JOX, ANS and FLS clades.\n",
    "This distinction holds up in the bigger parametric tree methods reproducibly, although not all nodes of interest have sufficient bootstrap support.\n",
    "With a non-parametric method, I aim to get a better idea of how reliable these nodes are.\n",
    "\n",
    "**data**\n",
    "\n",
    "I'm working with a subset of sequences of the JOX, ANS and FLS clades, retrieved from the v1g3 and the v2g5 trees. These subsets are redundant so they should be deduplicated first.\n",
    "\n",
    "**approach**\n",
    "I'll get the sequences from previous allignments, build a mafft tree, trim, attampt prank indelrealignment with a iqtree guide-tree, and then build a non-parametric tree with 200 bootstrap runs."
   ]
  },
  {
   "cell_type": "markdown",
   "id": "9480bfd7",
   "metadata": {},
   "source": [
    "# compile data"
   ]
  },
  {
   "cell_type": "markdown",
   "id": "2a657afe",
   "metadata": {},
   "source": [
    "deduplicate the subset list:"
   ]
  },
  {
   "cell_type": "code",
   "execution_count": 10,
   "id": "c7955953",
   "metadata": {
    "scrolled": true
   },
   "outputs": [
    {
     "name": "stdout",
     "output_type": "stream",
     "text": [
      "\u001b[?2004h\u001b[?2004l"
     ]
    },
    {
     "ename": "",
     "evalue": "1",
     "output_type": "error",
     "traceback": []
    }
   ],
   "source": [
    "sort data/v2g5_subset-ids.txt | uniq | tr ' ' _ > data/temp.txt\n",
    "mv data/temp.txt data/v2g5_subset-ids.txt"
   ]
  },
  {
   "cell_type": "markdown",
   "id": "c5cb153c",
   "metadata": {},
   "source": [
    "Make a fasta from this subset list"
   ]
  },
  {
   "cell_type": "code",
   "execution_count": 14,
   "id": "15df9243",
   "metadata": {},
   "outputs": [
    {
     "name": "stdout",
     "output_type": "stream",
     "text": [
      "\u001b[?2004h\u001b[?2004l\u001b[?2004l\u001b[?2004l\u001b[?2004l"
     ]
    },
    {
     "ename": "",
     "evalue": "1",
     "output_type": "error",
     "traceback": []
    }
   ],
   "source": [
    "grep -f data/v2g5_subset-ids.txt \\\n",
    "     -A 1 \\\n",
    "    --no-group-sep \\\n",
    "     data/orthogroup_AtLDOX_AT4g22880_selection-v2_guide-v5.fasta \\\n",
    "> data/v2g5_JOX-ANS-FLS-subset.fasta"
   ]
  },
  {
   "cell_type": "markdown",
   "id": "1142b01b",
   "metadata": {},
   "source": [
    "## align with mafft"
   ]
  },
  {
   "cell_type": "markdown",
   "id": "76d152a8",
   "metadata": {},
   "source": [
    "Now align this subset of data:"
   ]
  },
  {
   "cell_type": "code",
   "execution_count": 15,
   "id": "c0128ecb",
   "metadata": {},
   "outputs": [
    {
     "name": "stdout",
     "output_type": "stream",
     "text": [
      "\u001b[?2004l\r",
      "\u001b[?2004h"
     ]
    },
    {
     "ename": "",
     "evalue": "1",
     "output_type": "error",
     "traceback": []
    }
   ],
   "source": [
    "inseq=v2g5_JOX-ANS-FLS-subset"
   ]
  },
  {
   "cell_type": "code",
   "execution_count": 20,
   "id": "a39fe1c2",
   "metadata": {},
   "outputs": [
    {
     "name": "stdout",
     "output_type": "stream",
     "text": [
      "\u001b[?2004h(phylo_ans) \u001b[?2004l\u001b[?2004l\u001b[?2004l\u001b[?2004l\u001b[?2004l\u001b[?2004l\u001b[?2004l\u001b[?2004l\u001b[?2004l"
     ]
    },
    {
     "ename": "",
     "evalue": "1",
     "output_type": "error",
     "traceback": []
    }
   ],
   "source": [
    "rm \"./data/alignments_raw/$inseq\"_aligned-mafft*\n",
    "if    [ ! -d ./data/alignments_raw/ ]\n",
    "then  mkdir  ./data/alignments_raw\n",
    "fi\n",
    "prefix=data/alignments_raw/\"$inseq\"_aligned-mafft-einsi\n",
    "if    [ ! -f \"$prefix\".fasta ]\n",
    "then  einsi --thread $(nproc) data/$inseq.fasta \\\n",
    "            >  \"$prefix\".fasta \\\n",
    "            2> \"$prefix\".log\n",
    "fi"
   ]
  },
  {
   "cell_type": "markdown",
   "id": "d36b6323",
   "metadata": {},
   "source": [
    "Make a snapshot:"
   ]
  },
  {
   "cell_type": "code",
   "execution_count": 21,
   "id": "30b6b061",
   "metadata": {},
   "outputs": [
    {
     "name": "stdout",
     "output_type": "stream",
     "text": [
      "\u001b[?2004h(phylo_ans) \u001b[?2004l\u001b[?2004l\u001b[?2004l\u001b[?2004l"
     ]
    },
    {
     "ename": "",
     "evalue": "1",
     "output_type": "error",
     "traceback": []
    }
   ],
   "source": [
    "prefix=data/alignments_raw/\"$inseq\"_aligned-mafft-einsi\n",
    "jalview -nodisplay \\\n",
    "        -open $prefix.fasta \\\n",
    "        -colour CLUSTAL \\\n",
    "        -png  $prefix.png > /dev/null 2> /dev/null"
   ]
  },
  {
   "cell_type": "code",
   "execution_count": 22,
   "id": "1cec67e1",
   "metadata": {},
   "outputs": [
    {
     "name": "stdout",
     "output_type": "stream",
     "text": [
      "data/alignments_raw/v2g5_JOX-ANS-FLS-subset_aligned-mafft-einsi.png\n",
      "\u001b[?2004h(phylo_ans) "
     ]
    },
    {
     "ename": "",
     "evalue": "1",
     "output_type": "error",
     "traceback": []
    }
   ],
   "source": [
    "echo $prefix.png"
   ]
  },
  {
   "cell_type": "markdown",
   "id": "235b8d40",
   "metadata": {},
   "source": [
    "which looks like this:\n",
    "![](data/alignments_raw/v2g5_JOX-ANS-FLS-subset_aligned-mafft-einsi.png)"
   ]
  },
  {
   "cell_type": "markdown",
   "id": "948f2a92",
   "metadata": {},
   "source": [
    "This looks like a good alignment to me, with minor column trimming I will be very happy and I doubt that indel realignment is even necessary like this "
   ]
  },
  {
   "cell_type": "markdown",
   "id": "b5a91a35",
   "metadata": {},
   "source": [
    "## trimming"
   ]
  },
  {
   "cell_type": "code",
   "execution_count": 30,
   "id": "428e7090",
   "metadata": {},
   "outputs": [
    {
     "name": "stdout",
     "output_type": "stream",
     "text": [
      "data/alignments_raw/v2g5_JOX-ANS-FLS-subset_aligned-mafft-einsi.fasta\n",
      "\u001b[?2004h(phylo_ans) "
     ]
    },
    {
     "ename": "",
     "evalue": "1",
     "output_type": "error",
     "traceback": []
    }
   ],
   "source": [
    "ls data/alignments_raw/$inseq*.fasta"
   ]
  },
  {
   "cell_type": "code",
   "execution_count": 34,
   "id": "71f89295",
   "metadata": {},
   "outputs": [
    {
     "name": "stdout",
     "output_type": "stream",
     "text": [
      "trimming alignment data/alignments_raw/v2g5_JOX-ANS-FLS-subset_aligned-mafft-einsi.fasta\u001b[?2004l\u001b[?2004l\u001b[?2004l\u001b[?2004l\n",
      "[1] 662455\n",
      "\u001b[?2004h(phylo_ans) "
     ]
    },
    {
     "ename": "",
     "evalue": "1",
     "output_type": "error",
     "traceback": []
    }
   ],
   "source": [
    "if    [ ! -d data/alignments_trimmed ]\n",
    "then  mkdir  data/alignments_trimmed \n",
    "fi\n",
    "trimappendix='trim-gt1'\n",
    "\n",
    "for a in \"data/alignments_raw/$inseq\"_aligned*.fasta\n",
    "do  appendix=$(echo $a | cut -d '/' -f 3- | sed \"s/$inseq\\_//\" | sed \"s/.fasta//\")\n",
    "    if    [ ! -f data/alignments_trimmed/\"$inseq\"_\"$appendix\"_\"$trimappendix\".fasta ]\n",
    "    then  echo \"trimming alignment $a\"\n",
    "          sed -i 's/ /_/g' $a\n",
    "          trimal -in $a   \\\n",
    "                 -out data/alignments_trimmed/\"$inseq\"_\"$appendix\"_\"$trimappendix\".fasta \\\n",
    "                 -gt .1 2> /dev/null &\n",
    "    fi\n",
    "done"
   ]
  },
  {
   "cell_type": "code",
   "execution_count": 35,
   "id": "262d739e",
   "metadata": {},
   "outputs": [
    {
     "name": "stdout",
     "output_type": "stream",
     "text": [
      "[1] 662459?2004l\u001b[?2004l\u001b[?2004l\u001b[?2004l\u001b[?2004l\u001b[?2004l\u001b[?2004l\u001b[?2004l\n",
      "[1]+  Done                    jalview -nodisplay -open $prefix.fasta -colour CLUSTAL -png $prefix.png > /dev/null 2> /dev/null\n",
      "\u001b[?2004h(phylo_ans) "
     ]
    },
    {
     "ename": "",
     "evalue": "1",
     "output_type": "error",
     "traceback": []
    }
   ],
   "source": [
    "for   i in data/alignments_trimmed/$inseq*.fasta\n",
    "do    prefix=$(echo $i | sed 's/\\.fasta//')\n",
    "      if    [ ! -f $prefix.png ]\n",
    "      then  jalview -nodisplay \\\n",
    "                    -open $prefix.fasta \\\n",
    "                    -colour CLUSTAL \\\n",
    "                    -png  $prefix.png > /dev/null 2> /dev/null &\n",
    "      fi\n",
    "done\n",
    "wait\n"
   ]
  },
  {
   "cell_type": "code",
   "execution_count": null,
   "id": "2bf4e379",
   "metadata": {},
   "outputs": [],
   "source": [
    "ls data/alignments_trimmed/$inseq*.png"
   ]
  },
  {
   "cell_type": "markdown",
   "id": "db41a8be",
   "metadata": {},
   "source": [
    "#### gt1\n",
    "![](data/alignments_trimmed/v2g5_JOX-ANS-FLS-subset_aligned-mafft-einsi_trim-gt1.png)\n",
    "### gt4\n",
    "![](data/alignments_trimmed/v2g5_JOX-ANS-FLS-subset_aligned-mafft-einsi_trim-gt4.png)\n"
   ]
  },
  {
   "cell_type": "markdown",
   "id": "c70be3f4",
   "metadata": {},
   "source": [
    "I'll create a guide tree out of the gt4 version, and then try to get some extra indel info out of the alignment.\n",
    "It won't be much, but the gt1 version gives me the impression there might be something to gain here."
   ]
  },
  {
   "cell_type": "markdown",
   "id": "e6740984",
   "metadata": {},
   "source": [
    "## guide tree with iqtree"
   ]
  },
  {
   "cell_type": "code",
   "execution_count": 36,
   "id": "e467f497",
   "metadata": {},
   "outputs": [
    {
     "name": "stdout",
     "output_type": "stream",
     "text": [
      "data/alignments_trimmed/v2g5_JOX-ANS-FLS-subset_aligned-mafft-einsi_trim-gt1.fasta\n",
      "data/alignments_trimmed/v2g5_JOX-ANS-FLS-subset_aligned-mafft-einsi_trim-gt4.fasta\n",
      "\u001b[?2004h(phylo_ans) "
     ]
    },
    {
     "ename": "",
     "evalue": "1",
     "output_type": "error",
     "traceback": []
    }
   ],
   "source": [
    "ls data/alignments_trimmed/$inseq*.fasta"
   ]
  },
  {
   "cell_type": "code",
   "execution_count": null,
   "id": "7e070230",
   "metadata": {},
   "outputs": [],
   "source": [
    "a=data/alignments_trimmed/v2g5_JOX-ANS-FLS-subset_aligned-mafft-einsi_trim-gt4.fasta\n",
    "echo \"making a iqtree fast tree of file $a\"\n",
    "appendix=$(echo $a | cut -d '/' -f 3- | sed \"s/$inseq\\_//\" | sed \"s/.fasta//\")\n",
    "echo $appendix\n",
    "if   [ ! -d   analyses/\"$inseq\"_fasttrees/\"$appendix\" ]\n",
    "then mkdir -p analyses/\"$inseq\"_fasttrees/\"$appendix\"\n",
    "fi\n",
    "\n",
    "iqprefix=analyses/\"$inseq\"_fasttrees/\"$appendix\"/\"$inseq\"_\"$appendix\"_iqtree-fast\n",
    "if   [ ! -f \"$iqprefix\".iqtree ]\n",
    "then nice iqtree -s $a -fast \\\n",
    "                 -m 'LG+R7' \\\n",
    "                 -nt AUTO \\\n",
    "                 -ntmax $(nproc)  \\\n",
    "                 -pre \"$iqprefix\" \\\n",
    "                 > \"$iqprefix\".stdout \\\n",
    "                 2> \"$iqprefix\".stderr &\n",
    "else echo 'tree exists'\n",
    "fi\n"
   ]
  }
 ],
 "metadata": {
  "kernelspec": {
   "display_name": "Bash",
   "language": "bash",
   "name": "bash"
  },
  "language_info": {
   "codemirror_mode": "shell",
   "file_extension": ".sh",
   "mimetype": "text/x-sh",
   "name": "bash"
  }
 },
 "nbformat": 4,
 "nbformat_minor": 5
}
