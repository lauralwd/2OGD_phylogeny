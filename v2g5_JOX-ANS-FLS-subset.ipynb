{
 "cells": [
  {
   "cell_type": "markdown",
   "id": "1e3e2c4b",
   "metadata": {},
   "source": [
    "Here I'm making a better non-parametric tree of only a subset of sequences from the bigger v2g5 tree.\n",
    "The aim is to get a better resolution on the disctiotion between JOX, ANS and FLS clades.\n",
    "This distinction holds up in the bigger parametric tree methods reproducibly, although not all nodes of interest have sufficient bootstrap support.\n",
    "With a non-parametric method, I aim to get a better idea of how reliable these nodes are.\n",
    "\n",
    "**data**\n",
    "\n",
    "I'm working with a subset of sequences of the JOX, ANS and FLS clades, retrieved from the v1g3 and the v2g5 trees. These subsets are redundant so they should be deduplicated first.\n",
    "\n",
    "**approach**\n",
    "I'll get the sequences from previous allignments, build a mafft tree, trim, attampt prank indelrealignment with a iqtree guide-tree, and then build a non-parametric tree with 200 bootstrap runs."
   ]
  },
  {
   "cell_type": "markdown",
   "id": "af381373",
   "metadata": {},
   "source": [
    "# compile data"
   ]
  },
  {
   "cell_type": "markdown",
   "id": "e9d3c8b4",
   "metadata": {},
   "source": [
    "deduplicate the subset list:"
   ]
  },
  {
   "cell_type": "code",
   "execution_count": 10,
   "id": "9f464842",
   "metadata": {
    "scrolled": true
   },
   "outputs": [
    {
     "name": "stdout",
     "output_type": "stream",
     "text": [
      "\u001b[?2004h\u001b[?2004l"
     ]
    },
    {
     "ename": "",
     "evalue": "1",
     "output_type": "error",
     "traceback": []
    }
   ],
   "source": [
    "sort data/v2g5_subset-ids.txt | uniq | tr ' ' _ > data/temp.txt\n",
    "mv data/temp.txt data/v2g5_subset-ids.txt"
   ]
  },
  {
   "cell_type": "markdown",
   "id": "49dd8049",
   "metadata": {},
   "source": [
    "Make a fasta from this subset list"
   ]
  },
  {
   "cell_type": "code",
   "execution_count": 14,
   "id": "dfb2dbad",
   "metadata": {},
   "outputs": [
    {
     "name": "stdout",
     "output_type": "stream",
     "text": [
      "\u001b[?2004h\u001b[?2004l\u001b[?2004l\u001b[?2004l\u001b[?2004l"
     ]
    },
    {
     "ename": "",
     "evalue": "1",
     "output_type": "error",
     "traceback": []
    }
   ],
   "source": [
    "grep -f data/v2g5_subset-ids.txt \\\n",
    "     -A 1 \\\n",
    "    --no-group-sep \\\n",
    "     data/orthogroup_AtLDOX_AT4g22880_selection-v2_guide-v5.fasta \\\n",
    "> data/v2g5_JOX-ANS-FLS-subset.fasta"
   ]
  },
  {
   "cell_type": "markdown",
   "id": "066de1c2",
   "metadata": {},
   "source": [
    "## align with mafft"
   ]
  },
  {
   "cell_type": "markdown",
   "id": "25eb7437",
   "metadata": {},
   "source": [
    "Now align this subset of data:"
   ]
  },
  {
   "cell_type": "code",
   "execution_count": 15,
   "id": "e794cf5d",
   "metadata": {},
   "outputs": [
    {
     "name": "stdout",
     "output_type": "stream",
     "text": [
      "\u001b[?2004l\r",
      "\u001b[?2004h"
     ]
    },
    {
     "ename": "",
     "evalue": "1",
     "output_type": "error",
     "traceback": []
    }
   ],
   "source": [
    "inseq=v2g5_JOX-ANS-FLS-subset"
   ]
  },
  {
   "cell_type": "code",
   "execution_count": 20,
   "id": "b562c4c8",
   "metadata": {},
   "outputs": [
    {
     "name": "stdout",
     "output_type": "stream",
     "text": [
      "\u001b[?2004h(phylo_ans) \u001b[?2004l\u001b[?2004l\u001b[?2004l\u001b[?2004l\u001b[?2004l\u001b[?2004l\u001b[?2004l\u001b[?2004l\u001b[?2004l"
     ]
    },
    {
     "ename": "",
     "evalue": "1",
     "output_type": "error",
     "traceback": []
    }
   ],
   "source": [
    "rm \"./data/alignments_raw/$inseq\"_aligned-mafft*\n",
    "if    [ ! -d ./data/alignments_raw/ ]\n",
    "then  mkdir  ./data/alignments_raw\n",
    "fi\n",
    "prefix=data/alignments_raw/\"$inseq\"_aligned-mafft-einsi\n",
    "if    [ ! -f \"$prefix\".fasta ]\n",
    "then  einsi --thread $(nproc) data/$inseq.fasta \\\n",
    "            >  \"$prefix\".fasta \\\n",
    "            2> \"$prefix\".log\n",
    "fi"
   ]
  },
  {
   "cell_type": "markdown",
   "id": "1c9479af",
   "metadata": {},
   "source": [
    "Make a snapshot:"
   ]
  },
  {
   "cell_type": "code",
   "execution_count": 21,
   "id": "e2d9da87",
   "metadata": {},
   "outputs": [
    {
     "name": "stdout",
     "output_type": "stream",
     "text": [
      "\u001b[?2004h(phylo_ans) \u001b[?2004l\u001b[?2004l\u001b[?2004l\u001b[?2004l"
     ]
    },
    {
     "ename": "",
     "evalue": "1",
     "output_type": "error",
     "traceback": []
    }
   ],
   "source": [
    "prefix=data/alignments_raw/\"$inseq\"_aligned-mafft-einsi\n",
    "jalview -nodisplay \\\n",
    "        -open $prefix.fasta \\\n",
    "        -colour CLUSTAL \\\n",
    "        -png  $prefix.png > /dev/null 2> /dev/null"
   ]
  },
  {
   "cell_type": "code",
   "execution_count": 22,
   "id": "cf9d1625",
   "metadata": {},
   "outputs": [
    {
     "name": "stdout",
     "output_type": "stream",
     "text": [
      "data/alignments_raw/v2g5_JOX-ANS-FLS-subset_aligned-mafft-einsi.png\n",
      "\u001b[?2004h(phylo_ans) "
     ]
    },
    {
     "ename": "",
     "evalue": "1",
     "output_type": "error",
     "traceback": []
    }
   ],
   "source": [
    "echo $prefix.png"
   ]
  },
  {
   "cell_type": "markdown",
   "id": "dc225459",
   "metadata": {},
   "source": [
    "which looks like this:\n",
    "![](data/alignments_raw/v2g5_JOX-ANS-FLS-subset_aligned-mafft-einsi.png)"
   ]
  },
  {
   "cell_type": "markdown",
   "id": "54497088",
   "metadata": {},
   "source": [
    "This looks like a good alignment to me, with minor column trimming I will be very happy and I doubt that indel realignment is even necessary like this "
   ]
  }
 ],
 "metadata": {
  "kernelspec": {
   "display_name": "Bash",
   "language": "bash",
   "name": "bash"
  },
  "language_info": {
   "codemirror_mode": "shell",
   "file_extension": ".sh",
   "mimetype": "text/x-sh",
   "name": "bash"
  }
 },
 "nbformat": 4,
 "nbformat_minor": 5
}
