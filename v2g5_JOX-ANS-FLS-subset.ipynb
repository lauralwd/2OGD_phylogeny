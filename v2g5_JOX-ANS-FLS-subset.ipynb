{
 "cells": [
  {
   "cell_type": "markdown",
   "id": "42560aaa",
   "metadata": {},
   "source": [
    "Here I'm making a better non-parametric tree of only a subset of sequences from the bigger v2g5 tree.\n",
    "The aim is to get a better resolution on the disctiotion between JOX, ANS and FLS clades.\n",
    "This distinction holds up in the bigger parametric tree methods reproducibly, although not all nodes of interest have sufficient bootstrap support.\n",
    "With a non-parametric method, I aim to get a better idea of how reliable these nodes are.\n",
    "\n",
    "**data**\n",
    "\n",
    "I'm working with a subset of sequences of the JOX, ANS and FLS clades, retrieved from the v1g3 and the v2g5 trees. These subsets are redundant so they should be deduplicated first.\n",
    "\n",
    "**approach**\n",
    "I'll get the sequences from previous allignments, build a mafft tree, trim, attampt prank indelrealignment with a iqtree guide-tree, and then build a non-parametric tree with 200 bootstrap runs."
   ]
  },
  {
   "cell_type": "code",
   "execution_count": 7,
   "id": "e334265f",
   "metadata": {
    "scrolled": true
   },
   "outputs": [
    {
     "name": "stdout",
     "output_type": "stream",
     "text": [
      "\u001b[?2004h\u001b[?2004l"
     ]
    },
    {
     "ename": "",
     "evalue": "1",
     "output_type": "error",
     "traceback": []
    }
   ],
   "source": [
    "sort data/v2g5_subset-ids.txt | uniq > data/temp.txt\n",
    "mv data/temp.txt data/v2g5_subset-ids.txt"
   ]
  }
 ],
 "metadata": {
  "kernelspec": {
   "display_name": "Bash",
   "language": "bash",
   "name": "bash"
  },
  "language_info": {
   "codemirror_mode": "shell",
   "file_extension": ".sh",
   "mimetype": "text/x-sh",
   "name": "bash"
  }
 },
 "nbformat": 4,
 "nbformat_minor": 5
}
